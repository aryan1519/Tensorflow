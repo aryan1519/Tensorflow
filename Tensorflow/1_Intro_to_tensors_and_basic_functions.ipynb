{
  "nbformat": 4,
  "nbformat_minor": 0,
  "metadata": {
    "colab": {
      "name": "1_Intro_to_tensors_and_basic_functions.ipynb",
      "provenance": [],
      "collapsed_sections": []
    },
    "kernelspec": {
      "name": "python3",
      "display_name": "Python 3"
    },
    "language_info": {
      "name": "python"
    }
  },
  "cells": [
    {
      "cell_type": "code",
      "metadata": {
        "colab": {
          "base_uri": "https://localhost:8080/"
        },
        "id": "6TRMgavkpbVA",
        "outputId": "a761da45-d84e-440c-8298-94fd45651cb4"
      },
      "source": [
        "import tensorflow as tf\n",
        "\n",
        "print(tf.__version__)"
      ],
      "execution_count": null,
      "outputs": [
        {
          "output_type": "stream",
          "text": [
            "2.4.1\n"
          ],
          "name": "stdout"
        }
      ]
    },
    {
      "cell_type": "code",
      "metadata": {
        "colab": {
          "base_uri": "https://localhost:8080/"
        },
        "id": "mAj6kqXrqDIJ",
        "outputId": "d0fffe3a-8b3d-4249-df1d-31d25fc69fc7"
      },
      "source": [
        "# Create tensors with tf.constant()\n",
        "\n",
        "scalar = tf.constant(7)\n",
        "\n",
        "scalar"
      ],
      "execution_count": null,
      "outputs": [
        {
          "output_type": "execute_result",
          "data": {
            "text/plain": [
              "<tf.Tensor: shape=(), dtype=int32, numpy=7>"
            ]
          },
          "metadata": {
            "tags": []
          },
          "execution_count": 65
        }
      ]
    },
    {
      "cell_type": "code",
      "metadata": {
        "colab": {
          "base_uri": "https://localhost:8080/"
        },
        "id": "NcN6avDbqW_8",
        "outputId": "52bdb658-7c07-4389-bc52-48b9adc6379f"
      },
      "source": [
        "# Checking the number of dimensions of a tensor (ndim)\n",
        "\n",
        "scalar.ndim"
      ],
      "execution_count": null,
      "outputs": [
        {
          "output_type": "execute_result",
          "data": {
            "text/plain": [
              "0"
            ]
          },
          "metadata": {
            "tags": []
          },
          "execution_count": 66
        }
      ]
    },
    {
      "cell_type": "code",
      "metadata": {
        "colab": {
          "base_uri": "https://localhost:8080/"
        },
        "id": "kd4CPXT0qqt7",
        "outputId": "d06b1ff6-ba0b-4eb4-ec1a-ced6fa678835"
      },
      "source": [
        "# Create a vector\n",
        "\n",
        "vector = tf.constant([10,10])\n",
        "\n",
        "vector"
      ],
      "execution_count": null,
      "outputs": [
        {
          "output_type": "execute_result",
          "data": {
            "text/plain": [
              "<tf.Tensor: shape=(2,), dtype=int32, numpy=array([10, 10], dtype=int32)>"
            ]
          },
          "metadata": {
            "tags": []
          },
          "execution_count": 67
        }
      ]
    },
    {
      "cell_type": "code",
      "metadata": {
        "colab": {
          "base_uri": "https://localhost:8080/"
        },
        "id": "iVNLORYVq1ab",
        "outputId": "7e06c80f-120a-4f00-e1a8-e3d31b647819"
      },
      "source": [
        "vector.ndim"
      ],
      "execution_count": null,
      "outputs": [
        {
          "output_type": "execute_result",
          "data": {
            "text/plain": [
              "1"
            ]
          },
          "metadata": {
            "tags": []
          },
          "execution_count": 68
        }
      ]
    },
    {
      "cell_type": "code",
      "metadata": {
        "colab": {
          "base_uri": "https://localhost:8080/"
        },
        "id": "UTULfjAxq4Xo",
        "outputId": "af6c97cf-30d8-44ea-bf69-7c654ad533a0"
      },
      "source": [
        "# Create a matrix\n",
        "\n",
        "matrix = tf.constant([[10,7],\n",
        "                     [7,10]])\n",
        "\n",
        "matrix"
      ],
      "execution_count": null,
      "outputs": [
        {
          "output_type": "execute_result",
          "data": {
            "text/plain": [
              "<tf.Tensor: shape=(2, 2), dtype=int32, numpy=\n",
              "array([[10,  7],\n",
              "       [ 7, 10]], dtype=int32)>"
            ]
          },
          "metadata": {
            "tags": []
          },
          "execution_count": 69
        }
      ]
    },
    {
      "cell_type": "code",
      "metadata": {
        "colab": {
          "base_uri": "https://localhost:8080/"
        },
        "id": "qGpWLfPOrILf",
        "outputId": "b6761377-3b0b-401b-d06a-1c805f5ccb3c"
      },
      "source": [
        "matrix.ndim"
      ],
      "execution_count": null,
      "outputs": [
        {
          "output_type": "execute_result",
          "data": {
            "text/plain": [
              "2"
            ]
          },
          "metadata": {
            "tags": []
          },
          "execution_count": 70
        }
      ]
    },
    {
      "cell_type": "code",
      "metadata": {
        "colab": {
          "base_uri": "https://localhost:8080/"
        },
        "id": "uyRsJ1pNrJqc",
        "outputId": "9b6c2882-9c9e-44bf-c137-7c9152478eef"
      },
      "source": [
        "# Create another matrix \n",
        "\n",
        "another_matrix = tf.constant([[10.,7.],\n",
        "                              [3.,2.],\n",
        "                             [8.,9.]] , dtype = tf.float16)\n",
        "\n",
        "another_matrix"
      ],
      "execution_count": null,
      "outputs": [
        {
          "output_type": "execute_result",
          "data": {
            "text/plain": [
              "<tf.Tensor: shape=(3, 2), dtype=float16, numpy=\n",
              "array([[10.,  7.],\n",
              "       [ 3.,  2.],\n",
              "       [ 8.,  9.]], dtype=float16)>"
            ]
          },
          "metadata": {
            "tags": []
          },
          "execution_count": 71
        }
      ]
    },
    {
      "cell_type": "code",
      "metadata": {
        "colab": {
          "base_uri": "https://localhost:8080/"
        },
        "id": "AgtYro2nr4uB",
        "outputId": "430552ab-50b7-4ece-b280-fed0fefeab52"
      },
      "source": [
        "another_matrix.ndim"
      ],
      "execution_count": null,
      "outputs": [
        {
          "output_type": "execute_result",
          "data": {
            "text/plain": [
              "2"
            ]
          },
          "metadata": {
            "tags": []
          },
          "execution_count": 72
        }
      ]
    },
    {
      "cell_type": "code",
      "metadata": {
        "colab": {
          "base_uri": "https://localhost:8080/"
        },
        "id": "CNeiX7fYr6JQ",
        "outputId": "f88260cf-b1b7-4065-9d8f-56bbd63e4e85"
      },
      "source": [
        "# Create a tensor\n",
        "\n",
        "tensor = tf.constant([[[1,2,3],\n",
        "                       [4,5,6]],\n",
        "                      [[7,8,9],\n",
        "                      [10,11,12]],\n",
        "                      [[13,14,15],\n",
        "                       [16,17,18]]])\n",
        "\n",
        "tensor"
      ],
      "execution_count": null,
      "outputs": [
        {
          "output_type": "execute_result",
          "data": {
            "text/plain": [
              "<tf.Tensor: shape=(3, 2, 3), dtype=int32, numpy=\n",
              "array([[[ 1,  2,  3],\n",
              "        [ 4,  5,  6]],\n",
              "\n",
              "       [[ 7,  8,  9],\n",
              "        [10, 11, 12]],\n",
              "\n",
              "       [[13, 14, 15],\n",
              "        [16, 17, 18]]], dtype=int32)>"
            ]
          },
          "metadata": {
            "tags": []
          },
          "execution_count": 73
        }
      ]
    },
    {
      "cell_type": "code",
      "metadata": {
        "colab": {
          "base_uri": "https://localhost:8080/"
        },
        "id": "Z8oV3Qz-s8aY",
        "outputId": "ed918052-f5b4-4151-fcb4-d673fa8ac710"
      },
      "source": [
        "tensor.ndim"
      ],
      "execution_count": null,
      "outputs": [
        {
          "output_type": "execute_result",
          "data": {
            "text/plain": [
              "3"
            ]
          },
          "metadata": {
            "tags": []
          },
          "execution_count": 74
        }
      ]
    },
    {
      "cell_type": "code",
      "metadata": {
        "id": "RMhhEey_tAnd",
        "colab": {
          "base_uri": "https://localhost:8080/"
        },
        "outputId": "9b8ccaa8-c2eb-4642-a376-772c5b02378d"
      },
      "source": [
        "# creating tensors using tf.Variable\n",
        "\n",
        "changeable_tensor = tf.Variable([10 , 7])\n",
        "\n",
        "unchangeable_tensor = tf.constant([10,7])\n",
        "\n",
        "changeable_tensor,unchangeable_tensor"
      ],
      "execution_count": null,
      "outputs": [
        {
          "output_type": "execute_result",
          "data": {
            "text/plain": [
              "(<tf.Variable 'Variable:0' shape=(2,) dtype=int32, numpy=array([10,  7], dtype=int32)>,\n",
              " <tf.Tensor: shape=(2,), dtype=int32, numpy=array([10,  7], dtype=int32)>)"
            ]
          },
          "metadata": {
            "tags": []
          },
          "execution_count": 75
        }
      ]
    },
    {
      "cell_type": "code",
      "metadata": {
        "colab": {
          "base_uri": "https://localhost:8080/"
        },
        "id": "3EBk_3_gJ2rj",
        "outputId": "b4fb4330-8e03-4fd5-8a9e-42d743a943c5"
      },
      "source": [
        "# chaging values of a variable using .assign()\n",
        "\n",
        "changeable_tensor[0].assign(7)\n",
        "\n",
        "changeable_tensor"
      ],
      "execution_count": null,
      "outputs": [
        {
          "output_type": "execute_result",
          "data": {
            "text/plain": [
              "<tf.Variable 'Variable:0' shape=(2,) dtype=int32, numpy=array([7, 7], dtype=int32)>"
            ]
          },
          "metadata": {
            "tags": []
          },
          "execution_count": 76
        }
      ]
    },
    {
      "cell_type": "code",
      "metadata": {
        "colab": {
          "base_uri": "https://localhost:8080/"
        },
        "id": "zk7Ek6YrKY4G",
        "outputId": "e53cfdcb-6b02-4bd8-c078-3a8bfd926c7f"
      },
      "source": [
        " # Creating random tensors\n",
        "\n",
        " random_1 = tf.random.Generator.from_seed(7)\n",
        " random_1 = random_1.normal(shape = (3,2))\n",
        "\n",
        " random_2 = tf.random.Generator.from_seed(7)\n",
        " random_2 = random_2.normal(shape = (3,2))\n",
        "\n",
        " random_1, random_2, random_1==random_2"
      ],
      "execution_count": null,
      "outputs": [
        {
          "output_type": "execute_result",
          "data": {
            "text/plain": [
              "(<tf.Tensor: shape=(3, 2), dtype=float32, numpy=\n",
              " array([[-1.3240396 ,  0.28785667],\n",
              "        [-0.8757901 , -0.08857018],\n",
              "        [ 0.69211644,  0.84215707]], dtype=float32)>,\n",
              " <tf.Tensor: shape=(3, 2), dtype=float32, numpy=\n",
              " array([[-1.3240396 ,  0.28785667],\n",
              "        [-0.8757901 , -0.08857018],\n",
              "        [ 0.69211644,  0.84215707]], dtype=float32)>,\n",
              " <tf.Tensor: shape=(3, 2), dtype=bool, numpy=\n",
              " array([[ True,  True],\n",
              "        [ True,  True],\n",
              "        [ True,  True]])>)"
            ]
          },
          "metadata": {
            "tags": []
          },
          "execution_count": 77
        }
      ]
    },
    {
      "cell_type": "code",
      "metadata": {
        "id": "tSTXMeRbbES8"
      },
      "source": [
        "# They are the same because we gave them a seed.\n",
        "\n",
        "# We set seed for reproducibility"
      ],
      "execution_count": null,
      "outputs": []
    },
    {
      "cell_type": "code",
      "metadata": {
        "colab": {
          "base_uri": "https://localhost:8080/"
        },
        "id": "4NsbonoYcs3K",
        "outputId": "0610a5c6-8913-4e2d-86c5-136795d1a546"
      },
      "source": [
        "# Shuffle a tensor \n",
        "\n",
        "unshuffled_tensor = tf.constant([[10,7],\n",
        "                                  [3,4],\n",
        "                                  [2,5]])\n",
        "\n",
        "tf.random.shuffle(unshuffled_tensor)"
      ],
      "execution_count": null,
      "outputs": [
        {
          "output_type": "execute_result",
          "data": {
            "text/plain": [
              "<tf.Tensor: shape=(3, 2), dtype=int32, numpy=\n",
              "array([[ 3,  4],\n",
              "       [10,  7],\n",
              "       [ 2,  5]], dtype=int32)>"
            ]
          },
          "metadata": {
            "tags": []
          },
          "execution_count": 79
        }
      ]
    },
    {
      "cell_type": "code",
      "metadata": {
        "id": "pKeGwm_Edm6J"
      },
      "source": [
        "# We can also give a seed to get the same result each time. "
      ],
      "execution_count": null,
      "outputs": []
    },
    {
      "cell_type": "code",
      "metadata": {
        "id": "9YBO3RLHjfhk"
      },
      "source": [
        "# Others ways to make tensors"
      ],
      "execution_count": null,
      "outputs": []
    },
    {
      "cell_type": "code",
      "metadata": {
        "colab": {
          "base_uri": "https://localhost:8080/"
        },
        "id": "fPp1IHcXjnMt",
        "outputId": "8c897c64-d8c9-498d-af1e-56f49f75c5cd"
      },
      "source": [
        "tf.ones([10,7])"
      ],
      "execution_count": null,
      "outputs": [
        {
          "output_type": "execute_result",
          "data": {
            "text/plain": [
              "<tf.Tensor: shape=(10, 7), dtype=float32, numpy=\n",
              "array([[1., 1., 1., 1., 1., 1., 1.],\n",
              "       [1., 1., 1., 1., 1., 1., 1.],\n",
              "       [1., 1., 1., 1., 1., 1., 1.],\n",
              "       [1., 1., 1., 1., 1., 1., 1.],\n",
              "       [1., 1., 1., 1., 1., 1., 1.],\n",
              "       [1., 1., 1., 1., 1., 1., 1.],\n",
              "       [1., 1., 1., 1., 1., 1., 1.],\n",
              "       [1., 1., 1., 1., 1., 1., 1.],\n",
              "       [1., 1., 1., 1., 1., 1., 1.],\n",
              "       [1., 1., 1., 1., 1., 1., 1.]], dtype=float32)>"
            ]
          },
          "metadata": {
            "tags": []
          },
          "execution_count": 82
        }
      ]
    },
    {
      "cell_type": "code",
      "metadata": {
        "colab": {
          "base_uri": "https://localhost:8080/"
        },
        "id": "xXpv0KoZjpX4",
        "outputId": "155e8a89-ba32-4723-f3c7-1b6ca05346a4"
      },
      "source": [
        "tf.zeros(shape = (3,4))"
      ],
      "execution_count": null,
      "outputs": [
        {
          "output_type": "execute_result",
          "data": {
            "text/plain": [
              "<tf.Tensor: shape=(3, 4), dtype=float32, numpy=\n",
              "array([[0., 0., 0., 0.],\n",
              "       [0., 0., 0., 0.],\n",
              "       [0., 0., 0., 0.]], dtype=float32)>"
            ]
          },
          "metadata": {
            "tags": []
          },
          "execution_count": 83
        }
      ]
    },
    {
      "cell_type": "code",
      "metadata": {
        "id": "hfc-vwrsjudj"
      },
      "source": [
        "# Conveting numpy arrays into tensors"
      ],
      "execution_count": null,
      "outputs": []
    },
    {
      "cell_type": "code",
      "metadata": {
        "colab": {
          "base_uri": "https://localhost:8080/"
        },
        "id": "dfJi8SbMj7W-",
        "outputId": "8d0b175d-9633-4478-e53d-f9c949f61c7c"
      },
      "source": [
        "import numpy as np\n",
        "\n",
        "numpy_A = np.arange(1,25,dtype = np.int32)\n",
        "\n",
        "numpy_A"
      ],
      "execution_count": null,
      "outputs": [
        {
          "output_type": "execute_result",
          "data": {
            "text/plain": [
              "array([ 1,  2,  3,  4,  5,  6,  7,  8,  9, 10, 11, 12, 13, 14, 15, 16, 17,\n",
              "       18, 19, 20, 21, 22, 23, 24], dtype=int32)"
            ]
          },
          "metadata": {
            "tags": []
          },
          "execution_count": 85
        }
      ]
    },
    {
      "cell_type": "code",
      "metadata": {
        "colab": {
          "base_uri": "https://localhost:8080/"
        },
        "id": "BlI3EBTOkU5a",
        "outputId": "ac408c75-b55a-494e-f852-e3a978ce48a1"
      },
      "source": [
        "A = tf.constant(numpy_A)\n",
        "A"
      ],
      "execution_count": null,
      "outputs": [
        {
          "output_type": "execute_result",
          "data": {
            "text/plain": [
              "<tf.Tensor: shape=(24,), dtype=int32, numpy=\n",
              "array([ 1,  2,  3,  4,  5,  6,  7,  8,  9, 10, 11, 12, 13, 14, 15, 16, 17,\n",
              "       18, 19, 20, 21, 22, 23, 24], dtype=int32)>"
            ]
          },
          "metadata": {
            "tags": []
          },
          "execution_count": 86
        }
      ]
    },
    {
      "cell_type": "code",
      "metadata": {
        "colab": {
          "base_uri": "https://localhost:8080/"
        },
        "id": "zpGEoUXdkbpE",
        "outputId": "f862e907-df7e-4f2d-b37e-d01496a0fdf5"
      },
      "source": [
        "A.shape"
      ],
      "execution_count": null,
      "outputs": [
        {
          "output_type": "execute_result",
          "data": {
            "text/plain": [
              "TensorShape([24])"
            ]
          },
          "metadata": {
            "tags": []
          },
          "execution_count": 87
        }
      ]
    },
    {
      "cell_type": "code",
      "metadata": {
        "colab": {
          "base_uri": "https://localhost:8080/"
        },
        "id": "Ol9XX_SNki9k",
        "outputId": "a6b95c04-4e4a-4c72-9a14-ea12377f334b"
      },
      "source": [
        "B = tf.constant(numpy_A , shape = (2,3,4))\n",
        "\n",
        "B"
      ],
      "execution_count": null,
      "outputs": [
        {
          "output_type": "execute_result",
          "data": {
            "text/plain": [
              "<tf.Tensor: shape=(2, 3, 4), dtype=int32, numpy=\n",
              "array([[[ 1,  2,  3,  4],\n",
              "        [ 5,  6,  7,  8],\n",
              "        [ 9, 10, 11, 12]],\n",
              "\n",
              "       [[13, 14, 15, 16],\n",
              "        [17, 18, 19, 20],\n",
              "        [21, 22, 23, 24]]], dtype=int32)>"
            ]
          },
          "metadata": {
            "tags": []
          },
          "execution_count": 88
        }
      ]
    },
    {
      "cell_type": "markdown",
      "metadata": {
        "id": "e024ux3Zk1yq"
      },
      "source": [
        "### Getting information from tensors\n",
        "\n",
        "* shape\n",
        "* rank\n",
        "* axis\n",
        "* size"
      ]
    },
    {
      "cell_type": "code",
      "metadata": {
        "colab": {
          "base_uri": "https://localhost:8080/"
        },
        "id": "E3RTw6r397iH",
        "outputId": "b09c6eda-cd94-4134-e5b8-043df68dc458"
      },
      "source": [
        "# create a rank 4 tensor (4 dimensions)\n",
        "\n",
        "rank4tensor = tf.zeros(shape = [2,3,4,5])\n",
        "\n",
        "rank4tensor"
      ],
      "execution_count": null,
      "outputs": [
        {
          "output_type": "execute_result",
          "data": {
            "text/plain": [
              "<tf.Tensor: shape=(2, 3, 4, 5), dtype=float32, numpy=\n",
              "array([[[[0., 0., 0., 0., 0.],\n",
              "         [0., 0., 0., 0., 0.],\n",
              "         [0., 0., 0., 0., 0.],\n",
              "         [0., 0., 0., 0., 0.]],\n",
              "\n",
              "        [[0., 0., 0., 0., 0.],\n",
              "         [0., 0., 0., 0., 0.],\n",
              "         [0., 0., 0., 0., 0.],\n",
              "         [0., 0., 0., 0., 0.]],\n",
              "\n",
              "        [[0., 0., 0., 0., 0.],\n",
              "         [0., 0., 0., 0., 0.],\n",
              "         [0., 0., 0., 0., 0.],\n",
              "         [0., 0., 0., 0., 0.]]],\n",
              "\n",
              "\n",
              "       [[[0., 0., 0., 0., 0.],\n",
              "         [0., 0., 0., 0., 0.],\n",
              "         [0., 0., 0., 0., 0.],\n",
              "         [0., 0., 0., 0., 0.]],\n",
              "\n",
              "        [[0., 0., 0., 0., 0.],\n",
              "         [0., 0., 0., 0., 0.],\n",
              "         [0., 0., 0., 0., 0.],\n",
              "         [0., 0., 0., 0., 0.]],\n",
              "\n",
              "        [[0., 0., 0., 0., 0.],\n",
              "         [0., 0., 0., 0., 0.],\n",
              "         [0., 0., 0., 0., 0.],\n",
              "         [0., 0., 0., 0., 0.]]]], dtype=float32)>"
            ]
          },
          "metadata": {
            "tags": []
          },
          "execution_count": 89
        }
      ]
    },
    {
      "cell_type": "code",
      "metadata": {
        "id": "4v0KPi0u-_hu",
        "colab": {
          "base_uri": "https://localhost:8080/"
        },
        "outputId": "2a0b52d2-f3a1-4f46-8f59-efc5f863c284"
      },
      "source": [
        "rank4tensor.ndim"
      ],
      "execution_count": null,
      "outputs": [
        {
          "output_type": "execute_result",
          "data": {
            "text/plain": [
              "4"
            ]
          },
          "metadata": {
            "tags": []
          },
          "execution_count": 90
        }
      ]
    },
    {
      "cell_type": "code",
      "metadata": {
        "colab": {
          "base_uri": "https://localhost:8080/"
        },
        "id": "uCfCmPFPO2zz",
        "outputId": "d8ad26c3-8650-4663-86af-744e629b338b"
      },
      "source": [
        "rank4tensor.shape"
      ],
      "execution_count": null,
      "outputs": [
        {
          "output_type": "execute_result",
          "data": {
            "text/plain": [
              "TensorShape([2, 3, 4, 5])"
            ]
          },
          "metadata": {
            "tags": []
          },
          "execution_count": 91
        }
      ]
    },
    {
      "cell_type": "code",
      "metadata": {
        "colab": {
          "base_uri": "https://localhost:8080/"
        },
        "id": "XTK6J3oiPeYn",
        "outputId": "7235aabd-4d97-4bef-bea1-9b2691dd191f"
      },
      "source": [
        "tf.size(rank4tensor) # 2*3*4*5"
      ],
      "execution_count": null,
      "outputs": [
        {
          "output_type": "execute_result",
          "data": {
            "text/plain": [
              "<tf.Tensor: shape=(), dtype=int32, numpy=120>"
            ]
          },
          "metadata": {
            "tags": []
          },
          "execution_count": 92
        }
      ]
    },
    {
      "cell_type": "code",
      "metadata": {
        "colab": {
          "base_uri": "https://localhost:8080/"
        },
        "id": "A0ahev1ZRECX",
        "outputId": "37ed857d-6561-41d2-c3a6-eb3ad88978a1"
      },
      "source": [
        "tf.size(rank4tensor).numpy()"
      ],
      "execution_count": null,
      "outputs": [
        {
          "output_type": "execute_result",
          "data": {
            "text/plain": [
              "120"
            ]
          },
          "metadata": {
            "tags": []
          },
          "execution_count": 93
        }
      ]
    },
    {
      "cell_type": "code",
      "metadata": {
        "colab": {
          "base_uri": "https://localhost:8080/"
        },
        "id": "VEiy5188Pf5Y",
        "outputId": "9afc3605-3b0f-4e29-87dc-77e177e8a613"
      },
      "source": [
        "rank4tensor.dtype"
      ],
      "execution_count": null,
      "outputs": [
        {
          "output_type": "execute_result",
          "data": {
            "text/plain": [
              "tf.float32"
            ]
          },
          "metadata": {
            "tags": []
          },
          "execution_count": 94
        }
      ]
    },
    {
      "cell_type": "markdown",
      "metadata": {
        "id": "OBybD0UaQtK8"
      },
      "source": [
        "### Manipulating tensors (tensor operation)"
      ]
    },
    {
      "cell_type": "code",
      "metadata": {
        "colab": {
          "base_uri": "https://localhost:8080/"
        },
        "id": "s0YnR7BZS2Yb",
        "outputId": "689e9313-edee-4399-f0e7-85829106b240"
      },
      "source": [
        "tensor = tf.constant([[10,7],[3,4]])\n",
        "\n",
        "tensor + 10"
      ],
      "execution_count": null,
      "outputs": [
        {
          "output_type": "execute_result",
          "data": {
            "text/plain": [
              "<tf.Tensor: shape=(2, 2), dtype=int32, numpy=\n",
              "array([[20, 17],\n",
              "       [13, 14]], dtype=int32)>"
            ]
          },
          "metadata": {
            "tags": []
          },
          "execution_count": 95
        }
      ]
    },
    {
      "cell_type": "markdown",
      "metadata": {
        "id": "xQtKRRWaS_sp"
      },
      "source": [
        "### Matrix multiplication"
      ]
    },
    {
      "cell_type": "code",
      "metadata": {
        "colab": {
          "base_uri": "https://localhost:8080/"
        },
        "id": "yrmpa2WgTkRx",
        "outputId": "dd43e376-2898-47c8-de4c-4faa74b503d3"
      },
      "source": [
        "tf.matmul(tensor,tensor)"
      ],
      "execution_count": null,
      "outputs": [
        {
          "output_type": "execute_result",
          "data": {
            "text/plain": [
              "<tf.Tensor: shape=(2, 2), dtype=int32, numpy=\n",
              "array([[121,  98],\n",
              "       [ 42,  37]], dtype=int32)>"
            ]
          },
          "metadata": {
            "tags": []
          },
          "execution_count": 96
        }
      ]
    },
    {
      "cell_type": "code",
      "metadata": {
        "id": "hDuJkPeyTyCk"
      },
      "source": [
        "# matmul can also be written as @"
      ],
      "execution_count": null,
      "outputs": []
    },
    {
      "cell_type": "code",
      "metadata": {
        "colab": {
          "base_uri": "https://localhost:8080/"
        },
        "id": "Arxy2mh5UCgM",
        "outputId": "15776d74-7b5e-4c0d-885c-2b272f348e62"
      },
      "source": [
        "tensor @ tensor"
      ],
      "execution_count": null,
      "outputs": [
        {
          "output_type": "execute_result",
          "data": {
            "text/plain": [
              "<tf.Tensor: shape=(2, 2), dtype=int32, numpy=\n",
              "array([[121,  98],\n",
              "       [ 42,  37]], dtype=int32)>"
            ]
          },
          "metadata": {
            "tags": []
          },
          "execution_count": 98
        }
      ]
    },
    {
      "cell_type": "code",
      "metadata": {
        "colab": {
          "base_uri": "https://localhost:8080/"
        },
        "id": "KiIW30uGUEw3",
        "outputId": "51eb9c18-808b-4c26-eb49-f65455185640"
      },
      "source": [
        "tf.tensordot(tensor,tensor,1) # third argument is axes"
      ],
      "execution_count": null,
      "outputs": [
        {
          "output_type": "execute_result",
          "data": {
            "text/plain": [
              "<tf.Tensor: shape=(2, 2), dtype=int32, numpy=\n",
              "array([[121,  98],\n",
              "       [ 42,  37]], dtype=int32)>"
            ]
          },
          "metadata": {
            "tags": []
          },
          "execution_count": 99
        }
      ]
    },
    {
      "cell_type": "markdown",
      "metadata": {
        "id": "7ZbflKgXzhg7"
      },
      "source": [
        "### Changing dtype "
      ]
    },
    {
      "cell_type": "code",
      "metadata": {
        "colab": {
          "base_uri": "https://localhost:8080/"
        },
        "id": "mgSWfznhz5Rh",
        "outputId": "7b90ddac-28d4-47a5-cc86-b83ba2121d91"
      },
      "source": [
        "# Changing dtype from float32 to float16 (reduced precision)\n",
        "\n",
        "A = tf.constant([1.7,7.4])\n",
        "\n",
        "print(A,A.dtype)\n",
        "print()\n",
        "\n",
        "B = tf.constant([7,10])\n",
        "\n",
        "print(B,B.dtype)\n",
        "print()\n",
        "\n"
      ],
      "execution_count": null,
      "outputs": [
        {
          "output_type": "stream",
          "text": [
            "tf.Tensor([1.7 7.4], shape=(2,), dtype=float32) <dtype: 'float32'>\n",
            "\n",
            "tf.Tensor([ 7 10], shape=(2,), dtype=int32) <dtype: 'int32'>\n",
            "\n"
          ],
          "name": "stdout"
        }
      ]
    },
    {
      "cell_type": "code",
      "metadata": {
        "colab": {
          "base_uri": "https://localhost:8080/"
        },
        "id": "DDdUuS7-0HGf",
        "outputId": "1f0a2b69-d713-4c37-9a68-130132f27547"
      },
      "source": [
        "C = tf.cast(A,dtype = tf.float16)\n",
        "\n",
        "C,C.dtype"
      ],
      "execution_count": null,
      "outputs": [
        {
          "output_type": "execute_result",
          "data": {
            "text/plain": [
              "(<tf.Tensor: shape=(2,), dtype=float16, numpy=array([1.7, 7.4], dtype=float16)>,\n",
              " tf.float16)"
            ]
          },
          "metadata": {
            "tags": []
          },
          "execution_count": 101
        }
      ]
    },
    {
      "cell_type": "code",
      "metadata": {
        "colab": {
          "base_uri": "https://localhost:8080/"
        },
        "id": "MPdpzHV10eYL",
        "outputId": "0cbb6540-1afd-4d71-ee8f-d0037b96aec1"
      },
      "source": [
        "# int32 to float32\n",
        "\n",
        "D = tf.cast(B,dtype=tf.float32)\n",
        "\n",
        "D,D.dtype"
      ],
      "execution_count": null,
      "outputs": [
        {
          "output_type": "execute_result",
          "data": {
            "text/plain": [
              "(<tf.Tensor: shape=(2,), dtype=float32, numpy=array([ 7., 10.], dtype=float32)>,\n",
              " tf.float32)"
            ]
          },
          "metadata": {
            "tags": []
          },
          "execution_count": 102
        }
      ]
    },
    {
      "cell_type": "markdown",
      "metadata": {
        "id": "XIEzv5FW0wjg"
      },
      "source": [
        "### Aggregation"
      ]
    },
    {
      "cell_type": "markdown",
      "metadata": {
        "id": "3yypcTls1owa"
      },
      "source": [
        "Forms of aggregation:-\n",
        "\n",
        "* Get the maximum\n",
        "* Get the minimum\n",
        "* Get the mean\n",
        "* Get the sum"
      ]
    },
    {
      "cell_type": "code",
      "metadata": {
        "colab": {
          "base_uri": "https://localhost:8080/"
        },
        "id": "RldYj3Gp14Bp",
        "outputId": "3135ca79-6848-4ece-9d8a-a2361915a350"
      },
      "source": [
        "# create a random tensor with values between 0 and 100 size 50\n",
        "\n",
        "random_tensor = tf.constant(np.random.randint(0,100,size = 50))\n",
        "\n",
        "random_tensor\n"
      ],
      "execution_count": null,
      "outputs": [
        {
          "output_type": "execute_result",
          "data": {
            "text/plain": [
              "<tf.Tensor: shape=(50,), dtype=int64, numpy=\n",
              "array([86, 29, 87, 55, 80, 77, 66, 45, 17, 69, 86, 89, 15, 30, 18, 15,  1,\n",
              "       66, 32, 12, 47, 72, 76, 97,  3, 10, 64, 71,  0, 44, 10, 42, 19, 33,\n",
              "       18, 43, 48, 44, 63, 99, 81, 22, 28,  8, 15, 18, 35, 64, 73, 80])>"
            ]
          },
          "metadata": {
            "tags": []
          },
          "execution_count": 103
        }
      ]
    },
    {
      "cell_type": "code",
      "metadata": {
        "colab": {
          "base_uri": "https://localhost:8080/"
        },
        "id": "Zck7h-DR2Fpp",
        "outputId": "e5294a44-5e80-4606-8a3e-3a190c5d78d3"
      },
      "source": [
        "tf.size(random_tensor),random_tensor.shape,random_tensor.ndim"
      ],
      "execution_count": null,
      "outputs": [
        {
          "output_type": "execute_result",
          "data": {
            "text/plain": [
              "(<tf.Tensor: shape=(), dtype=int32, numpy=50>, TensorShape([50]), 1)"
            ]
          },
          "metadata": {
            "tags": []
          },
          "execution_count": 104
        }
      ]
    },
    {
      "cell_type": "markdown",
      "metadata": {
        "id": "uCVEyYa32Mzm"
      },
      "source": [
        "##### minimum"
      ]
    },
    {
      "cell_type": "code",
      "metadata": {
        "colab": {
          "base_uri": "https://localhost:8080/"
        },
        "id": "z8ldW7qc2ULq",
        "outputId": "9a705be0-3d2c-41cc-8a39-a2e190eccc9a"
      },
      "source": [
        "tf.reduce_min(random_tensor)"
      ],
      "execution_count": null,
      "outputs": [
        {
          "output_type": "execute_result",
          "data": {
            "text/plain": [
              "<tf.Tensor: shape=(), dtype=int64, numpy=0>"
            ]
          },
          "metadata": {
            "tags": []
          },
          "execution_count": 105
        }
      ]
    },
    {
      "cell_type": "markdown",
      "metadata": {
        "id": "IR5ehym82Wjy"
      },
      "source": [
        "##### maximum"
      ]
    },
    {
      "cell_type": "code",
      "metadata": {
        "colab": {
          "base_uri": "https://localhost:8080/"
        },
        "id": "h5ELn8IO2cYY",
        "outputId": "7a9e3e0f-85ea-4b35-81a5-f7883c079cd9"
      },
      "source": [
        "tf.reduce_max(random_tensor)"
      ],
      "execution_count": null,
      "outputs": [
        {
          "output_type": "execute_result",
          "data": {
            "text/plain": [
              "<tf.Tensor: shape=(), dtype=int64, numpy=99>"
            ]
          },
          "metadata": {
            "tags": []
          },
          "execution_count": 106
        }
      ]
    },
    {
      "cell_type": "markdown",
      "metadata": {
        "id": "Bl1A8ufj2qTh"
      },
      "source": [
        "##### mean"
      ]
    },
    {
      "cell_type": "code",
      "metadata": {
        "colab": {
          "base_uri": "https://localhost:8080/"
        },
        "id": "vEGao5ej2e_a",
        "outputId": "7665f4fe-2445-482c-ad29-5005d10d526d"
      },
      "source": [
        "tf.reduce_mean(random_tensor)"
      ],
      "execution_count": null,
      "outputs": [
        {
          "output_type": "execute_result",
          "data": {
            "text/plain": [
              "<tf.Tensor: shape=(), dtype=int64, numpy=46>"
            ]
          },
          "metadata": {
            "tags": []
          },
          "execution_count": 107
        }
      ]
    },
    {
      "cell_type": "markdown",
      "metadata": {
        "id": "GeME-oe02tRq"
      },
      "source": [
        "##### sum"
      ]
    },
    {
      "cell_type": "code",
      "metadata": {
        "colab": {
          "base_uri": "https://localhost:8080/"
        },
        "id": "NIJCO2CL2lRU",
        "outputId": "37362fa1-b2b5-4425-c5e4-34e96f2c1df9"
      },
      "source": [
        "tf.reduce_sum(random_tensor)"
      ],
      "execution_count": null,
      "outputs": [
        {
          "output_type": "execute_result",
          "data": {
            "text/plain": [
              "<tf.Tensor: shape=(), dtype=int64, numpy=2302>"
            ]
          },
          "metadata": {
            "tags": []
          },
          "execution_count": 108
        }
      ]
    },
    {
      "cell_type": "markdown",
      "metadata": {
        "id": "moktLu202oBL"
      },
      "source": [
        "### Finding variance and standard deviation using Tensorflow "
      ]
    },
    {
      "cell_type": "markdown",
      "metadata": {
        "id": "Vfj8gmbP3vw6"
      },
      "source": [
        "#### Variance"
      ]
    },
    {
      "cell_type": "markdown",
      "metadata": {
        "id": "VN_MZOKe4f6N"
      },
      "source": [
        "##### method-1"
      ]
    },
    {
      "cell_type": "code",
      "metadata": {
        "id": "0vX69zrR3PC7"
      },
      "source": [
        "import tensorflow_probability as tfp"
      ],
      "execution_count": null,
      "outputs": []
    },
    {
      "cell_type": "code",
      "metadata": {
        "colab": {
          "base_uri": "https://localhost:8080/"
        },
        "id": "7tOpcILe3WJq",
        "outputId": "5e54a05b-986f-49e0-a9ab-df96fcc00cdf"
      },
      "source": [
        "tfp.stats.variance(random_tensor)"
      ],
      "execution_count": null,
      "outputs": [
        {
          "output_type": "execute_result",
          "data": {
            "text/plain": [
              "<tf.Tensor: shape=(), dtype=int64, numpy=837>"
            ]
          },
          "metadata": {
            "tags": []
          },
          "execution_count": 110
        }
      ]
    },
    {
      "cell_type": "markdown",
      "metadata": {
        "id": "Xz0HDUTd4jn-"
      },
      "source": [
        "##### method-2 "
      ]
    },
    {
      "cell_type": "code",
      "metadata": {
        "colab": {
          "base_uri": "https://localhost:8080/"
        },
        "id": "i7YU00BZ4oa_",
        "outputId": "ae4e086e-a8ae-40c7-8ca7-6ea157b4a0e9"
      },
      "source": [
        "# A float tensor is needed so we will typecast also since random_tensor is int32\n",
        "\n",
        "tf.math.reduce_variance(tf.cast(random_tensor,dtype = tf.float32))"
      ],
      "execution_count": null,
      "outputs": [
        {
          "output_type": "execute_result",
          "data": {
            "text/plain": [
              "<tf.Tensor: shape=(), dtype=float32, numpy=837.4384>"
            ]
          },
          "metadata": {
            "tags": []
          },
          "execution_count": 111
        }
      ]
    },
    {
      "cell_type": "markdown",
      "metadata": {
        "id": "FY4jaYuW3z-J"
      },
      "source": [
        "#### Standard deviation"
      ]
    },
    {
      "cell_type": "code",
      "metadata": {
        "colab": {
          "base_uri": "https://localhost:8080/"
        },
        "id": "BIRyFWG_3ZsN",
        "outputId": "4542c4c8-89a5-4a22-a2a1-4f32f3d678aa"
      },
      "source": [
        "# A float tensor is needed so we will typecast also since random_tensor is int32\n",
        "\n",
        "tf.math.reduce_std(tf.cast(random_tensor,dtype = tf.float32))"
      ],
      "execution_count": null,
      "outputs": [
        {
          "output_type": "execute_result",
          "data": {
            "text/plain": [
              "<tf.Tensor: shape=(), dtype=float32, numpy=28.938528>"
            ]
          },
          "metadata": {
            "tags": []
          },
          "execution_count": 112
        }
      ]
    },
    {
      "cell_type": "markdown",
      "metadata": {
        "id": "a6cHIi-w3dil"
      },
      "source": [
        "### Finding Positional maximum and minimum"
      ]
    },
    {
      "cell_type": "code",
      "metadata": {
        "colab": {
          "base_uri": "https://localhost:8080/"
        },
        "id": "7IRqUzSY4_Zl",
        "outputId": "c68131af-1d0c-4d1b-fff2-92d78fd3264d"
      },
      "source": [
        "# creating a new tensor\n",
        "\n",
        "new_tensor = tf.random.uniform(shape = [50])\n",
        "\n",
        "new_tensor"
      ],
      "execution_count": null,
      "outputs": [
        {
          "output_type": "execute_result",
          "data": {
            "text/plain": [
              "<tf.Tensor: shape=(50,), dtype=float32, numpy=\n",
              "array([0.5835383 , 0.55176437, 0.4176426 , 0.9821495 , 0.775728  ,\n",
              "       0.44207132, 0.35310626, 0.99085295, 0.29326522, 0.6163713 ,\n",
              "       0.82536674, 0.59617865, 0.02399445, 0.19448233, 0.37722576,\n",
              "       0.49609303, 0.59906924, 0.6176189 , 0.26681805, 0.74351406,\n",
              "       0.9776645 , 0.70404303, 0.30544126, 0.9757434 , 0.15806234,\n",
              "       0.5807102 , 0.46054995, 0.6167288 , 0.23638535, 0.03772986,\n",
              "       0.2982129 , 0.7213969 , 0.19252384, 0.62800705, 0.54891336,\n",
              "       0.9970138 , 0.7548369 , 0.94771814, 0.749441  , 0.93501437,\n",
              "       0.9161136 , 0.47439134, 0.8369049 , 0.6080326 , 0.41166604,\n",
              "       0.692559  , 0.9056765 , 0.14361763, 0.13442111, 0.89765704],\n",
              "      dtype=float32)>"
            ]
          },
          "metadata": {
            "tags": []
          },
          "execution_count": 113
        }
      ]
    },
    {
      "cell_type": "code",
      "metadata": {
        "colab": {
          "base_uri": "https://localhost:8080/"
        },
        "id": "BZ_ZCK015VxE",
        "outputId": "16fa8501-6dbd-46ef-8adf-fe26b82fd221"
      },
      "source": [
        "# Finding index of the positional maximum\n",
        "\n",
        "tf.argmax(new_tensor)"
      ],
      "execution_count": null,
      "outputs": [
        {
          "output_type": "execute_result",
          "data": {
            "text/plain": [
              "<tf.Tensor: shape=(), dtype=int64, numpy=35>"
            ]
          },
          "metadata": {
            "tags": []
          },
          "execution_count": 114
        }
      ]
    },
    {
      "cell_type": "code",
      "metadata": {
        "colab": {
          "base_uri": "https://localhost:8080/"
        },
        "id": "wuRxCsk65nFI",
        "outputId": "6c65c405-b923-488e-95e9-b6ef411e8d68"
      },
      "source": [
        "# Finding the largest value\n",
        "\n",
        "new_tensor[tf.argmax(new_tensor)]"
      ],
      "execution_count": null,
      "outputs": [
        {
          "output_type": "execute_result",
          "data": {
            "text/plain": [
              "<tf.Tensor: shape=(), dtype=float32, numpy=0.9970138>"
            ]
          },
          "metadata": {
            "tags": []
          },
          "execution_count": 115
        }
      ]
    },
    {
      "cell_type": "code",
      "metadata": {
        "colab": {
          "base_uri": "https://localhost:8080/"
        },
        "id": "RwfV_9Dk51-O",
        "outputId": "87498093-064e-443a-fdbb-08b412646081"
      },
      "source": [
        "# Finding index of the positional minimum\n",
        "\n",
        "tf.argmin(new_tensor)"
      ],
      "execution_count": null,
      "outputs": [
        {
          "output_type": "execute_result",
          "data": {
            "text/plain": [
              "<tf.Tensor: shape=(), dtype=int64, numpy=12>"
            ]
          },
          "metadata": {
            "tags": []
          },
          "execution_count": 116
        }
      ]
    },
    {
      "cell_type": "code",
      "metadata": {
        "colab": {
          "base_uri": "https://localhost:8080/"
        },
        "id": "WDy9MMvP58Ys",
        "outputId": "bf33e4fc-5d65-4fe2-8e7a-2a8b79cf7f00"
      },
      "source": [
        "# Finding the smallest value\n",
        "\n",
        "new_tensor[tf.argmin(new_tensor)]\n"
      ],
      "execution_count": null,
      "outputs": [
        {
          "output_type": "execute_result",
          "data": {
            "text/plain": [
              "<tf.Tensor: shape=(), dtype=float32, numpy=0.023994446>"
            ]
          },
          "metadata": {
            "tags": []
          },
          "execution_count": 117
        }
      ]
    },
    {
      "cell_type": "code",
      "metadata": {
        "colab": {
          "base_uri": "https://localhost:8080/"
        },
        "id": "7oSTbgoM6Dby",
        "outputId": "6d09dad6-e1ff-4135-e3a3-745fe5d280c8"
      },
      "source": [
        "# another way to find max min was\n",
        "\n",
        "tf.reduce_max(new_tensor) , tf.reduce_min(new_tensor)"
      ],
      "execution_count": null,
      "outputs": [
        {
          "output_type": "execute_result",
          "data": {
            "text/plain": [
              "(<tf.Tensor: shape=(), dtype=float32, numpy=0.9970138>,\n",
              " <tf.Tensor: shape=(), dtype=float32, numpy=0.023994446>)"
            ]
          },
          "metadata": {
            "tags": []
          },
          "execution_count": 118
        }
      ]
    },
    {
      "cell_type": "markdown",
      "metadata": {
        "id": "sJm2-1QJ6RHR"
      },
      "source": [
        " ### Squeezing a tensor"
      ]
    },
    {
      "cell_type": "code",
      "metadata": {
        "colab": {
          "base_uri": "https://localhost:8080/"
        },
        "id": "HP5ZQkYa7JwY",
        "outputId": "5eca04bc-114f-4c97-ac2a-f8d2d604fb56"
      },
      "source": [
        "# removes all single dimensions from a tensor\n",
        "\n",
        "tens = tf.constant(tf.random.uniform(shape = [50]),shape = (1,1,1,1,1,50))\n",
        "\n",
        "tens"
      ],
      "execution_count": null,
      "outputs": [
        {
          "output_type": "execute_result",
          "data": {
            "text/plain": [
              "<tf.Tensor: shape=(1, 1, 1, 1, 1, 50), dtype=float32, numpy=\n",
              "array([[[[[[0.1584996 , 0.7753482 , 0.7683886 , 0.35933006,\n",
              "            0.7700856 , 0.3008685 , 0.68974555, 0.08698082,\n",
              "            0.6681739 , 0.7109015 , 0.81943035, 0.62822616,\n",
              "            0.6313598 , 0.7062546 , 0.12523031, 0.90516007,\n",
              "            0.48364782, 0.55391896, 0.7759702 , 0.21220183,\n",
              "            0.01102984, 0.746369  , 0.9161763 , 0.78753304,\n",
              "            0.02523959, 0.7433517 , 0.78905845, 0.23813307,\n",
              "            0.73369074, 0.90305126, 0.9318918 , 0.3583821 ,\n",
              "            0.71525025, 0.565683  , 0.08866119, 0.6093185 ,\n",
              "            0.9589113 , 0.94732666, 0.09079623, 0.3235711 ,\n",
              "            0.8470495 , 0.5100683 , 0.92556643, 0.33407426,\n",
              "            0.06157529, 0.07791877, 0.908954  , 0.5051923 ,\n",
              "            0.8160615 , 0.5181309 ]]]]]], dtype=float32)>"
            ]
          },
          "metadata": {
            "tags": []
          },
          "execution_count": 119
        }
      ]
    },
    {
      "cell_type": "code",
      "metadata": {
        "colab": {
          "base_uri": "https://localhost:8080/"
        },
        "id": "ZAPNvvIu7gry",
        "outputId": "f220de6f-d3a5-4718-92c0-1fa6e6353ced"
      },
      "source": [
        "squeezed_tens = tf.squeeze(new_tensor)\n",
        "\n",
        "squeezed_tens , squeezed_tens.shape"
      ],
      "execution_count": null,
      "outputs": [
        {
          "output_type": "execute_result",
          "data": {
            "text/plain": [
              "(<tf.Tensor: shape=(50,), dtype=float32, numpy=\n",
              " array([0.5835383 , 0.55176437, 0.4176426 , 0.9821495 , 0.775728  ,\n",
              "        0.44207132, 0.35310626, 0.99085295, 0.29326522, 0.6163713 ,\n",
              "        0.82536674, 0.59617865, 0.02399445, 0.19448233, 0.37722576,\n",
              "        0.49609303, 0.59906924, 0.6176189 , 0.26681805, 0.74351406,\n",
              "        0.9776645 , 0.70404303, 0.30544126, 0.9757434 , 0.15806234,\n",
              "        0.5807102 , 0.46054995, 0.6167288 , 0.23638535, 0.03772986,\n",
              "        0.2982129 , 0.7213969 , 0.19252384, 0.62800705, 0.54891336,\n",
              "        0.9970138 , 0.7548369 , 0.94771814, 0.749441  , 0.93501437,\n",
              "        0.9161136 , 0.47439134, 0.8369049 , 0.6080326 , 0.41166604,\n",
              "        0.692559  , 0.9056765 , 0.14361763, 0.13442111, 0.89765704],\n",
              "       dtype=float32)>, TensorShape([50]))"
            ]
          },
          "metadata": {
            "tags": []
          },
          "execution_count": 120
        }
      ]
    },
    {
      "cell_type": "markdown",
      "metadata": {
        "id": "pqzoixca7tZG"
      },
      "source": [
        "# ONE HOT ENCODING"
      ]
    },
    {
      "cell_type": "code",
      "metadata": {
        "id": "qqUnXwzQ72Ih",
        "colab": {
          "base_uri": "https://localhost:8080/"
        },
        "outputId": "5fe39797-a8fa-4d50-f8e6-885d0de73477"
      },
      "source": [
        "some_list = [0,1,2,3]\n",
        "\n",
        "tf.one_hot(some_list , depth = 4)"
      ],
      "execution_count": null,
      "outputs": [
        {
          "output_type": "execute_result",
          "data": {
            "text/plain": [
              "<tf.Tensor: shape=(4, 4), dtype=float32, numpy=\n",
              "array([[1., 0., 0., 0.],\n",
              "       [0., 1., 0., 0.],\n",
              "       [0., 0., 1., 0.],\n",
              "       [0., 0., 0., 1.]], dtype=float32)>"
            ]
          },
          "metadata": {
            "tags": []
          },
          "execution_count": 121
        }
      ]
    },
    {
      "cell_type": "code",
      "metadata": {
        "colab": {
          "base_uri": "https://localhost:8080/"
        },
        "id": "DT1pHGja_EXA",
        "outputId": "3e9c4a87-a517-4a4b-8e1c-4262ee660226"
      },
      "source": [
        "# specify custom values for one hot encoding\n",
        "\n",
        "tf.one_hot(some_list , depth = 4, on_value = \"Aryan\",off_value = \"Anku\")"
      ],
      "execution_count": null,
      "outputs": [
        {
          "output_type": "execute_result",
          "data": {
            "text/plain": [
              "<tf.Tensor: shape=(4, 4), dtype=string, numpy=\n",
              "array([[b'Aryan', b'Anku', b'Anku', b'Anku'],\n",
              "       [b'Anku', b'Aryan', b'Anku', b'Anku'],\n",
              "       [b'Anku', b'Anku', b'Aryan', b'Anku'],\n",
              "       [b'Anku', b'Anku', b'Anku', b'Aryan']], dtype=object)>"
            ]
          },
          "metadata": {
            "tags": []
          },
          "execution_count": 122
        }
      ]
    },
    {
      "cell_type": "markdown",
      "metadata": {
        "id": "eqEcfxaP_eJY"
      },
      "source": [
        "# Some more math operations on tensors"
      ]
    },
    {
      "cell_type": "code",
      "metadata": {
        "colab": {
          "base_uri": "https://localhost:8080/"
        },
        "id": "bCQ23nY0E6rj",
        "outputId": "dda4de84-5190-4409-b45c-817e375a8d52"
      },
      "source": [
        "# creating a tensor\n",
        "\n",
        "ten = tf.range(1,10)\n",
        "\n",
        "ten"
      ],
      "execution_count": null,
      "outputs": [
        {
          "output_type": "execute_result",
          "data": {
            "text/plain": [
              "<tf.Tensor: shape=(9,), dtype=int32, numpy=array([1, 2, 3, 4, 5, 6, 7, 8, 9], dtype=int32)>"
            ]
          },
          "metadata": {
            "tags": []
          },
          "execution_count": 123
        }
      ]
    },
    {
      "cell_type": "code",
      "metadata": {
        "colab": {
          "base_uri": "https://localhost:8080/"
        },
        "id": "uRTQXJ_lE_4N",
        "outputId": "c0c2fa68-b740-4aff-f6ca-c536f1989ee0"
      },
      "source": [
        "# square\n",
        "\n",
        "tf.square(ten)"
      ],
      "execution_count": null,
      "outputs": [
        {
          "output_type": "execute_result",
          "data": {
            "text/plain": [
              "<tf.Tensor: shape=(9,), dtype=int32, numpy=array([ 1,  4,  9, 16, 25, 36, 49, 64, 81], dtype=int32)>"
            ]
          },
          "metadata": {
            "tags": []
          },
          "execution_count": 125
        }
      ]
    },
    {
      "cell_type": "code",
      "metadata": {
        "colab": {
          "base_uri": "https://localhost:8080/"
        },
        "id": "6SC2NohmFFNi",
        "outputId": "3577c689-060a-4740-f629-e971ae8ce294"
      },
      "source": [
        "# sqr root\n",
        "\n",
        "tf.sqrt(tf.cast(ten,dtype = tf.float32))"
      ],
      "execution_count": null,
      "outputs": [
        {
          "output_type": "execute_result",
          "data": {
            "text/plain": [
              "<tf.Tensor: shape=(9,), dtype=float32, numpy=\n",
              "array([1.       , 1.4142135, 1.7320508, 2.       , 2.236068 , 2.4494898,\n",
              "       2.6457512, 2.828427 , 3.       ], dtype=float32)>"
            ]
          },
          "metadata": {
            "tags": []
          },
          "execution_count": 127
        }
      ]
    },
    {
      "cell_type": "code",
      "metadata": {
        "colab": {
          "base_uri": "https://localhost:8080/"
        },
        "id": "fhBX2tcXFQoH",
        "outputId": "a798e1c9-f7bd-4fbb-bc45-9a264ca338bc"
      },
      "source": [
        "# log\n",
        "\n",
        "tf.math.log(tf.cast(ten,dtype = tf.float32))"
      ],
      "execution_count": null,
      "outputs": [
        {
          "output_type": "execute_result",
          "data": {
            "text/plain": [
              "<tf.Tensor: shape=(9,), dtype=float32, numpy=\n",
              "array([0.       , 0.6931472, 1.0986123, 1.3862944, 1.609438 , 1.7917595,\n",
              "       1.9459102, 2.0794415, 2.1972246], dtype=float32)>"
            ]
          },
          "metadata": {
            "tags": []
          },
          "execution_count": 128
        }
      ]
    }
  ]
}