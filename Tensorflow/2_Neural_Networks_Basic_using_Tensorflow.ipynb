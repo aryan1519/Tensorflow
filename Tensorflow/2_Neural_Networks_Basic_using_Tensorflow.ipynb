{
  "nbformat": 4,
  "nbformat_minor": 0,
  "metadata": {
    "colab": {
      "name": "2_Neural_Networks_Basic_using_Tensorflow.ipynb",
      "provenance": [],
      "collapsed_sections": []
    },
    "kernelspec": {
      "name": "python3",
      "display_name": "Python 3"
    },
    "language_info": {
      "name": "python"
    },
    "accelerator": "GPU"
  },
  "cells": [
    {
      "cell_type": "markdown",
      "metadata": {
        "id": "u9XD6JPOrvL4"
      },
      "source": [
        "### Notebook Summary\n",
        "\n",
        "* This notebook consists of basic implementation of neural-networks using tensorflow. It discusses construction, compilation, fitting, prediction and visualizationf of results.\n",
        "\n",
        "* It displays the plot model function of tenforflow which shows a flowchart like representation of our neural network.\n",
        "\n",
        "* It briefly discusses the various losses.\n",
        "\n",
        "* Saving and Loading of model is discussed\n",
        "\n",
        "* Downloading a model from colab is discussed."
      ]
    },
    {
      "cell_type": "markdown",
      "metadata": {
        "id": "o6-o1chqerLg"
      },
      "source": [
        "\n",
        "# Introduction to Regression model with NN in tf"
      ]
    },
    {
      "cell_type": "code",
      "metadata": {
        "id": "p_FlqGtJy51v"
      },
      "source": [
        "import numpy as np\n",
        "\n",
        "import matplotlib.pyplot as plt\n",
        "\n",
        "import tensorflow as tf"
      ],
      "execution_count": null,
      "outputs": []
    },
    {
      "cell_type": "code",
      "metadata": {
        "colab": {
          "base_uri": "https://localhost:8080/",
          "height": 286
        },
        "id": "V37utvGMF1Sm",
        "outputId": "ee29186f-8590-4d4b-a797-7a6e0fd1e0f9"
      },
      "source": [
        "# Creating features\n",
        "x = np.array([-7,-4,-1,2,5,8,11,14])\n",
        "\n",
        "# Creating labels\n",
        "y = np.array([3,6,9,12,15,18,21,24])\n",
        "\n",
        "plt.scatter(x,y)"
      ],
      "execution_count": null,
      "outputs": [
        {
          "output_type": "execute_result",
          "data": {
            "text/plain": [
              "<matplotlib.collections.PathCollection at 0x7f81d2c3efd0>"
            ]
          },
          "metadata": {
            "tags": []
          },
          "execution_count": 83
        },
        {
          "output_type": "display_data",
          "data": {
            "image/png": "[encoded data removed]",
            "text/plain": [
              "<Figure size 432x288 with 1 Axes>"
            ]
          },
          "metadata": {
            "tags": [],
            "needs_background": "light"
          }
        }
      ]
    },
    {
      "cell_type": "code",
      "metadata": {
        "id": "TrZTz4hfGQHR"
      },
      "source": [
        "x = tf.cast(tf.constant(x) , dtype = tf.float32)\n",
        "\n",
        "y = tf.cast(tf.constant(y) , dtype = tf.float32)"
      ],
      "execution_count": null,
      "outputs": []
    },
    {
      "cell_type": "markdown",
      "metadata": {
        "id": "2I7lo2_nKhVH"
      },
      "source": [
        " ### Steps "
      ]
    },
    {
      "cell_type": "code",
      "metadata": {
        "colab": {
          "base_uri": "https://localhost:8080/"
        },
        "id": "7PosrkhGLWgM",
        "outputId": "4cb43410-2db2-4286-b96a-bd05b3135a1b"
      },
      "source": [
        "# set a random seed\n",
        "tf.random.set_seed(42)\n",
        "\n",
        "# 1.) Create a model using the Sequential API\n",
        "\n",
        "model = tf.keras.Sequential(\n",
        "    [tf.keras.layers.Dense(1)]\n",
        "    )\n",
        "\n",
        "# 2.) Compile the model\n",
        "\n",
        "model.compile(loss = tf.keras.losses.mae ,\n",
        "              optimizer = tf.keras.optimizers.SGD(),\n",
        "              metrics = [\"mae\"])\n",
        "\n",
        "# 3.) Fit the model\n",
        "\n",
        "model.fit(x,y,epochs = 100)"
      ],
      "execution_count": null,
      "outputs": [
        {
          "output_type": "stream",
          "text": [
            "Epoch 1/100\n",
            "1/1 [==============================] - 0s 202ms/step - loss: 11.5048 - mae: 11.5048\n",
            "Epoch 2/100\n",
            "1/1 [==============================] - 0s 3ms/step - loss: 11.3723 - mae: 11.3723\n",
            "Epoch 3/100\n",
            "1/1 [==============================] - 0s 6ms/step - loss: 11.2398 - mae: 11.2398\n",
            "Epoch 4/100\n",
            "1/1 [==============================] - 0s 5ms/step - loss: 11.1073 - mae: 11.1073\n",
            "Epoch 5/100\n",
            "1/1 [==============================] - 0s 4ms/step - loss: 10.9748 - mae: 10.9748\n",
            "Epoch 6/100\n",
            "1/1 [==============================] - 0s 3ms/step - loss: 10.8423 - mae: 10.8423\n",
            "Epoch 7/100\n",
            "1/1 [==============================] - 0s 6ms/step - loss: 10.7098 - mae: 10.7098\n",
            "Epoch 8/100\n",
            "1/1 [==============================] - 0s 3ms/step - loss: 10.5773 - mae: 10.5773\n",
            "Epoch 9/100\n",
            "1/1 [==============================] - 0s 3ms/step - loss: 10.4448 - mae: 10.4448\n",
            "Epoch 10/100\n",
            "1/1 [==============================] - 0s 3ms/step - loss: 10.3123 - mae: 10.3123\n",
            "Epoch 11/100\n",
            "1/1 [==============================] - 0s 4ms/step - loss: 10.1798 - mae: 10.1798\n",
            "Epoch 12/100\n",
            "1/1 [==============================] - 0s 5ms/step - loss: 10.0473 - mae: 10.0473\n",
            "Epoch 13/100\n",
            "1/1 [==============================] - 0s 5ms/step - loss: 9.9148 - mae: 9.9148\n",
            "Epoch 14/100\n",
            "1/1 [==============================] - 0s 3ms/step - loss: 9.7823 - mae: 9.7823\n",
            "Epoch 15/100\n",
            "1/1 [==============================] - 0s 5ms/step - loss: 9.6498 - mae: 9.6498\n",
            "Epoch 16/100\n",
            "1/1 [==============================] - 0s 5ms/step - loss: 9.5173 - mae: 9.5173\n",
            "Epoch 17/100\n",
            "1/1 [==============================] - 0s 5ms/step - loss: 9.3848 - mae: 9.3848\n",
            "Epoch 18/100\n",
            "1/1 [==============================] - 0s 5ms/step - loss: 9.2523 - mae: 9.2523\n",
            "Epoch 19/100\n",
            "1/1 [==============================] - 0s 4ms/step - loss: 9.1198 - mae: 9.1198\n",
            "Epoch 20/100\n",
            "1/1 [==============================] - 0s 7ms/step - loss: 8.9873 - mae: 8.9873\n",
            "Epoch 21/100\n",
            "1/1 [==============================] - 0s 3ms/step - loss: 8.8548 - mae: 8.8548\n",
            "Epoch 22/100\n",
            "1/1 [==============================] - 0s 4ms/step - loss: 8.7223 - mae: 8.7223\n",
            "Epoch 23/100\n",
            "1/1 [==============================] - 0s 7ms/step - loss: 8.5898 - mae: 8.5898\n",
            "Epoch 24/100\n",
            "1/1 [==============================] - 0s 5ms/step - loss: 8.4573 - mae: 8.4573\n",
            "Epoch 25/100\n",
            "1/1 [==============================] - 0s 5ms/step - loss: 8.3248 - mae: 8.3248\n",
            "Epoch 26/100\n",
            "1/1 [==============================] - 0s 4ms/step - loss: 8.1923 - mae: 8.1923\n",
            "Epoch 27/100\n",
            "1/1 [==============================] - 0s 4ms/step - loss: 8.0598 - mae: 8.0598\n",
            "Epoch 28/100\n",
            "1/1 [==============================] - 0s 3ms/step - loss: 7.9273 - mae: 7.9273\n",
            "Epoch 29/100\n",
            "1/1 [==============================] - 0s 6ms/step - loss: 7.7948 - mae: 7.7948\n",
            "Epoch 30/100\n",
            "1/1 [==============================] - 0s 6ms/step - loss: 7.6623 - mae: 7.6623\n",
            "Epoch 31/100\n",
            "1/1 [==============================] - 0s 9ms/step - loss: 7.5298 - mae: 7.5298\n",
            "Epoch 32/100\n",
            "1/1 [==============================] - 0s 5ms/step - loss: 7.3973 - mae: 7.3973\n",
            "Epoch 33/100\n",
            "1/1 [==============================] - 0s 3ms/step - loss: 7.2648 - mae: 7.2648\n",
            "Epoch 34/100\n",
            "1/1 [==============================] - 0s 7ms/step - loss: 7.2525 - mae: 7.2525\n",
            "Epoch 35/100\n",
            "1/1 [==============================] - 0s 10ms/step - loss: 7.2469 - mae: 7.2469\n",
            "Epoch 36/100\n",
            "1/1 [==============================] - 0s 5ms/step - loss: 7.2413 - mae: 7.2413\n",
            "Epoch 37/100\n",
            "1/1 [==============================] - 0s 3ms/step - loss: 7.2356 - mae: 7.2356\n",
            "Epoch 38/100\n",
            "1/1 [==============================] - 0s 5ms/step - loss: 7.2300 - mae: 7.2300\n",
            "Epoch 39/100\n",
            "1/1 [==============================] - 0s 3ms/step - loss: 7.2244 - mae: 7.2244\n",
            "Epoch 40/100\n",
            "1/1 [==============================] - 0s 6ms/step - loss: 7.2188 - mae: 7.2188\n",
            "Epoch 41/100\n",
            "1/1 [==============================] - 0s 9ms/step - loss: 7.2131 - mae: 7.2131\n",
            "Epoch 42/100\n",
            "1/1 [==============================] - 0s 5ms/step - loss: 7.2075 - mae: 7.2075\n",
            "Epoch 43/100\n",
            "1/1 [==============================] - 0s 4ms/step - loss: 7.2019 - mae: 7.2019\n",
            "Epoch 44/100\n",
            "1/1 [==============================] - 0s 6ms/step - loss: 7.1962 - mae: 7.1962\n",
            "Epoch 45/100\n",
            "1/1 [==============================] - 0s 8ms/step - loss: 7.1906 - mae: 7.1906\n",
            "Epoch 46/100\n",
            "1/1 [==============================] - 0s 8ms/step - loss: 7.1850 - mae: 7.1850\n",
            "Epoch 47/100\n",
            "1/1 [==============================] - 0s 5ms/step - loss: 7.1794 - mae: 7.1794\n",
            "Epoch 48/100\n",
            "1/1 [==============================] - 0s 6ms/step - loss: 7.1738 - mae: 7.1738\n",
            "Epoch 49/100\n",
            "1/1 [==============================] - 0s 4ms/step - loss: 7.1681 - mae: 7.1681\n",
            "Epoch 50/100\n",
            "1/1 [==============================] - 0s 3ms/step - loss: 7.1625 - mae: 7.1625\n",
            "Epoch 51/100\n",
            "1/1 [==============================] - 0s 5ms/step - loss: 7.1569 - mae: 7.1569\n",
            "Epoch 52/100\n",
            "1/1 [==============================] - 0s 9ms/step - loss: 7.1512 - mae: 7.1512\n",
            "Epoch 53/100\n",
            "1/1 [==============================] - 0s 6ms/step - loss: 7.1456 - mae: 7.1456\n",
            "Epoch 54/100\n",
            "1/1 [==============================] - 0s 6ms/step - loss: 7.1400 - mae: 7.1400\n",
            "Epoch 55/100\n",
            "1/1 [==============================] - 0s 4ms/step - loss: 7.1344 - mae: 7.1344\n",
            "Epoch 56/100\n",
            "1/1 [==============================] - 0s 7ms/step - loss: 7.1287 - mae: 7.1287\n",
            "Epoch 57/100\n",
            "1/1 [==============================] - 0s 3ms/step - loss: 7.1231 - mae: 7.1231\n",
            "Epoch 58/100\n",
            "1/1 [==============================] - 0s 5ms/step - loss: 7.1175 - mae: 7.1175\n",
            "Epoch 59/100\n",
            "1/1 [==============================] - 0s 15ms/step - loss: 7.1119 - mae: 7.1119\n",
            "Epoch 60/100\n",
            "1/1 [==============================] - 0s 5ms/step - loss: 7.1063 - mae: 7.1063\n",
            "Epoch 61/100\n",
            "1/1 [==============================] - 0s 4ms/step - loss: 7.1006 - mae: 7.1006\n",
            "Epoch 62/100\n",
            "1/1 [==============================] - 0s 3ms/step - loss: 7.0950 - mae: 7.0950\n",
            "Epoch 63/100\n",
            "1/1 [==============================] - 0s 4ms/step - loss: 7.0894 - mae: 7.0894\n",
            "Epoch 64/100\n",
            "1/1 [==============================] - 0s 4ms/step - loss: 7.0838 - mae: 7.0838\n",
            "Epoch 65/100\n",
            "1/1 [==============================] - 0s 4ms/step - loss: 7.0781 - mae: 7.0781\n",
            "Epoch 66/100\n",
            "1/1 [==============================] - 0s 4ms/step - loss: 7.0725 - mae: 7.0725\n",
            "Epoch 67/100\n",
            "1/1 [==============================] - 0s 6ms/step - loss: 7.0669 - mae: 7.0669\n",
            "Epoch 68/100\n",
            "1/1 [==============================] - 0s 3ms/step - loss: 7.0613 - mae: 7.0613\n",
            "Epoch 69/100\n",
            "1/1 [==============================] - 0s 6ms/step - loss: 7.0556 - mae: 7.0556\n",
            "Epoch 70/100\n",
            "1/1 [==============================] - 0s 4ms/step - loss: 7.0500 - mae: 7.0500\n",
            "Epoch 71/100\n",
            "1/1 [==============================] - 0s 7ms/step - loss: 7.0444 - mae: 7.0444\n",
            "Epoch 72/100\n",
            "1/1 [==============================] - 0s 7ms/step - loss: 7.0388 - mae: 7.0388\n",
            "Epoch 73/100\n",
            "1/1 [==============================] - 0s 8ms/step - loss: 7.0331 - mae: 7.0331\n",
            "Epoch 74/100\n",
            "1/1 [==============================] - 0s 4ms/step - loss: 7.0275 - mae: 7.0275\n",
            "Epoch 75/100\n",
            "1/1 [==============================] - 0s 4ms/step - loss: 7.0219 - mae: 7.0219\n",
            "Epoch 76/100\n",
            "1/1 [==============================] - 0s 6ms/step - loss: 7.0163 - mae: 7.0163\n",
            "Epoch 77/100\n",
            "1/1 [==============================] - 0s 5ms/step - loss: 7.0106 - mae: 7.0106\n",
            "Epoch 78/100\n",
            "1/1 [==============================] - 0s 6ms/step - loss: 7.0050 - mae: 7.0050\n",
            "Epoch 79/100\n",
            "1/1 [==============================] - 0s 4ms/step - loss: 6.9994 - mae: 6.9994\n",
            "Epoch 80/100\n",
            "1/1 [==============================] - 0s 5ms/step - loss: 6.9938 - mae: 6.9938\n",
            "Epoch 81/100\n",
            "1/1 [==============================] - 0s 4ms/step - loss: 6.9881 - mae: 6.9881\n",
            "Epoch 82/100\n",
            "1/1 [==============================] - 0s 9ms/step - loss: 6.9825 - mae: 6.9825\n",
            "Epoch 83/100\n",
            "1/1 [==============================] - 0s 8ms/step - loss: 6.9769 - mae: 6.9769\n",
            "Epoch 84/100\n",
            "1/1 [==============================] - 0s 10ms/step - loss: 6.9713 - mae: 6.9713\n",
            "Epoch 85/100\n",
            "1/1 [==============================] - 0s 4ms/step - loss: 6.9656 - mae: 6.9656\n",
            "Epoch 86/100\n",
            "1/1 [==============================] - 0s 4ms/step - loss: 6.9600 - mae: 6.9600\n",
            "Epoch 87/100\n",
            "1/1 [==============================] - 0s 4ms/step - loss: 6.9544 - mae: 6.9544\n",
            "Epoch 88/100\n",
            "1/1 [==============================] - 0s 7ms/step - loss: 6.9488 - mae: 6.9488\n",
            "Epoch 89/100\n",
            "1/1 [==============================] - 0s 4ms/step - loss: 6.9431 - mae: 6.9431\n",
            "Epoch 90/100\n",
            "1/1 [==============================] - 0s 8ms/step - loss: 6.9375 - mae: 6.9375\n",
            "Epoch 91/100\n",
            "1/1 [==============================] - 0s 10ms/step - loss: 6.9319 - mae: 6.9319\n",
            "Epoch 92/100\n",
            "1/1 [==============================] - 0s 4ms/step - loss: 6.9263 - mae: 6.9263\n",
            "Epoch 93/100\n",
            "1/1 [==============================] - 0s 4ms/step - loss: 6.9206 - mae: 6.9206\n",
            "Epoch 94/100\n",
            "1/1 [==============================] - 0s 3ms/step - loss: 6.9150 - mae: 6.9150\n",
            "Epoch 95/100\n",
            "1/1 [==============================] - 0s 6ms/step - loss: 6.9094 - mae: 6.9094\n",
            "Epoch 96/100\n",
            "1/1 [==============================] - 0s 4ms/step - loss: 6.9038 - mae: 6.9038\n",
            "Epoch 97/100\n",
            "1/1 [==============================] - 0s 4ms/step - loss: 6.8981 - mae: 6.8981\n",
            "Epoch 98/100\n",
            "1/1 [==============================] - 0s 4ms/step - loss: 6.8925 - mae: 6.8925\n",
            "Epoch 99/100\n",
            "1/1 [==============================] - 0s 5ms/step - loss: 6.8869 - mae: 6.8869\n",
            "Epoch 100/100\n",
            "1/1 [==============================] - 0s 3ms/step - loss: 6.8813 - mae: 6.8813\n"
          ],
          "name": "stdout"
        },
        {
          "output_type": "execute_result",
          "data": {
            "text/plain": [
              "<tensorflow.python.keras.callbacks.History at 0x7f81d2c0c310>"
            ]
          },
          "metadata": {
            "tags": []
          },
          "execution_count": 85
        }
      ]
    },
    {
      "cell_type": "code",
      "metadata": {
        "colab": {
          "base_uri": "https://localhost:8080/"
        },
        "id": "ANMWSLcRM2kW",
        "outputId": "dded435a-4831-4de7-eca4-d436c6cd7c64"
      },
      "source": [
        "x,y"
      ],
      "execution_count": null,
      "outputs": [
        {
          "output_type": "execute_result",
          "data": {
            "text/plain": [
              "(<tf.Tensor: shape=(8,), dtype=float32, numpy=array([-7., -4., -1.,  2.,  5.,  8., 11., 14.], dtype=float32)>,\n",
              " <tf.Tensor: shape=(8,), dtype=float32, numpy=array([ 3.,  6.,  9., 12., 15., 18., 21., 24.], dtype=float32)>)"
            ]
          },
          "metadata": {
            "tags": []
          },
          "execution_count": 86
        }
      ]
    },
    {
      "cell_type": "code",
      "metadata": {
        "colab": {
          "base_uri": "https://localhost:8080/"
        },
        "id": "es5M8UvrNFvv",
        "outputId": "e4d83256-09a7-4851-eee4-35c39ded3fb2"
      },
      "source": [
        "# making prediction\n",
        "\n",
        "model.predict([17.0])"
      ],
      "execution_count": null,
      "outputs": [
        {
          "output_type": "stream",
          "text": [
            "WARNING:tensorflow:11 out of the last 11 calls to <function Model.make_predict_function.<locals>.predict_function at 0x7f81d2b55cb0> triggered tf.function retracing. Tracing is expensive and the excessive number of tracings could be due to (1) creating @tf.function repeatedly in a loop, (2) passing tensors with different shapes, (3) passing Python objects instead of tensors. For (1), please define your @tf.function outside of the loop. For (2), @tf.function has experimental_relax_shapes=True option that relaxes argument shapes that can avoid unnecessary retracing. For (3), please refer to https://www.tensorflow.org/guide/function#controlling_retracing and https://www.tensorflow.org/api_docs/python/tf/function for  more details.\n"
          ],
          "name": "stdout"
        },
        {
          "output_type": "execute_result",
          "data": {
            "text/plain": [
              "array([[30.158512]], dtype=float32)"
            ]
          },
          "metadata": {
            "tags": []
          },
          "execution_count": 87
        }
      ]
    },
    {
      "cell_type": "markdown",
      "metadata": {
        "id": "XKzBS70eNLBH"
      },
      "source": [
        "# Improving the model\n",
        "\n",
        "1.) we may add more layers.inc no of hidden units,chnage activation function,etc.\n",
        "\n",
        "2.)chage optimization function\n",
        "\n",
        "3.)more epochs or more data"
      ]
    },
    {
      "cell_type": "code",
      "metadata": {
        "colab": {
          "base_uri": "https://localhost:8080/"
        },
        "id": "9lm2gng1OPdn",
        "outputId": "26a28ffa-3dd1-4501-ef7e-dbf3f457988b"
      },
      "source": [
        "# 1.) Creating the model\n",
        "\n",
        "model = tf.keras.Sequential([\n",
        "    tf.keras.layers.Dense(100,activation=\"relu\"),\n",
        "    tf.keras.layers.Dense(100,activation=\"relu\"),\n",
        "    tf.keras.layers.Dense(100,activation=\"relu\"),\n",
        "    tf.keras.layers.Dense(1)\n",
        "])\n",
        "\n",
        "# 2.) Compile the model\n",
        "\n",
        "model.compile(loss = tf.keras.losses.mae ,\n",
        "              optimizer = tf.keras.optimizers.Adam(lr = 0.0001),\n",
        "              metrics = [\"mae\"])\n",
        "\n",
        "# 3 .) Fit the model\n",
        "\n",
        "model.fit(x,y,epochs = 100)"
      ],
      "execution_count": null,
      "outputs": [
        {
          "output_type": "stream",
          "text": [
            "Epoch 1/100\n",
            "1/1 [==============================] - 1s 523ms/step - loss: 14.3099 - mae: 14.3099\n",
            "Epoch 2/100\n",
            "1/1 [==============================] - 0s 4ms/step - loss: 14.2781 - mae: 14.2781\n",
            "Epoch 3/100\n",
            "1/1 [==============================] - 0s 5ms/step - loss: 14.2469 - mae: 14.2469\n",
            "Epoch 4/100\n",
            "1/1 [==============================] - 0s 3ms/step - loss: 14.2158 - mae: 14.2158\n",
            "Epoch 5/100\n",
            "1/1 [==============================] - 0s 3ms/step - loss: 14.1840 - mae: 14.1840\n",
            "Epoch 6/100\n",
            "1/1 [==============================] - 0s 4ms/step - loss: 14.1522 - mae: 14.1522\n",
            "Epoch 7/100\n",
            "1/1 [==============================] - 0s 3ms/step - loss: 14.1204 - mae: 14.1204\n",
            "Epoch 8/100\n",
            "1/1 [==============================] - 0s 3ms/step - loss: 14.0885 - mae: 14.0885\n",
            "Epoch 9/100\n",
            "1/1 [==============================] - 0s 3ms/step - loss: 14.0568 - mae: 14.0568\n",
            "Epoch 10/100\n",
            "1/1 [==============================] - 0s 3ms/step - loss: 14.0250 - mae: 14.0250\n",
            "Epoch 11/100\n",
            "1/1 [==============================] - 0s 5ms/step - loss: 13.9933 - mae: 13.9933\n",
            "Epoch 12/100\n",
            "1/1 [==============================] - 0s 3ms/step - loss: 13.9615 - mae: 13.9615\n",
            "Epoch 13/100\n",
            "1/1 [==============================] - 0s 3ms/step - loss: 13.9297 - mae: 13.9297\n",
            "Epoch 14/100\n",
            "1/1 [==============================] - 0s 5ms/step - loss: 13.8980 - mae: 13.8980\n",
            "Epoch 15/100\n",
            "1/1 [==============================] - 0s 3ms/step - loss: 13.8661 - mae: 13.8661\n",
            "Epoch 16/100\n",
            "1/1 [==============================] - 0s 5ms/step - loss: 13.8341 - mae: 13.8341\n",
            "Epoch 17/100\n",
            "1/1 [==============================] - 0s 5ms/step - loss: 13.8022 - mae: 13.8022\n",
            "Epoch 18/100\n",
            "1/1 [==============================] - 0s 3ms/step - loss: 13.7703 - mae: 13.7703\n",
            "Epoch 19/100\n",
            "1/1 [==============================] - 0s 3ms/step - loss: 13.7385 - mae: 13.7385\n",
            "Epoch 20/100\n",
            "1/1 [==============================] - 0s 3ms/step - loss: 13.7072 - mae: 13.7072\n",
            "Epoch 21/100\n",
            "1/1 [==============================] - 0s 3ms/step - loss: 13.6760 - mae: 13.6760\n",
            "Epoch 22/100\n",
            "1/1 [==============================] - 0s 6ms/step - loss: 13.6448 - mae: 13.6448\n",
            "Epoch 23/100\n",
            "1/1 [==============================] - 0s 4ms/step - loss: 13.6136 - mae: 13.6136\n",
            "Epoch 24/100\n",
            "1/1 [==============================] - 0s 3ms/step - loss: 13.5823 - mae: 13.5823\n",
            "Epoch 25/100\n",
            "1/1 [==============================] - 0s 6ms/step - loss: 13.5506 - mae: 13.5506\n",
            "Epoch 26/100\n",
            "1/1 [==============================] - 0s 7ms/step - loss: 13.5185 - mae: 13.5185\n",
            "Epoch 27/100\n",
            "1/1 [==============================] - 0s 11ms/step - loss: 13.4863 - mae: 13.4863\n",
            "Epoch 28/100\n",
            "1/1 [==============================] - 0s 6ms/step - loss: 13.4541 - mae: 13.4541\n",
            "Epoch 29/100\n",
            "1/1 [==============================] - 0s 6ms/step - loss: 13.4218 - mae: 13.4218\n",
            "Epoch 30/100\n",
            "1/1 [==============================] - 0s 5ms/step - loss: 13.3894 - mae: 13.3894\n",
            "Epoch 31/100\n",
            "1/1 [==============================] - 0s 5ms/step - loss: 13.3570 - mae: 13.3570\n",
            "Epoch 32/100\n",
            "1/1 [==============================] - 0s 5ms/step - loss: 13.3250 - mae: 13.3250\n",
            "Epoch 33/100\n",
            "1/1 [==============================] - 0s 4ms/step - loss: 13.2934 - mae: 13.2934\n",
            "Epoch 34/100\n",
            "1/1 [==============================] - 0s 5ms/step - loss: 13.2618 - mae: 13.2618\n",
            "Epoch 35/100\n",
            "1/1 [==============================] - 0s 5ms/step - loss: 13.2301 - mae: 13.2301\n",
            "Epoch 36/100\n",
            "1/1 [==============================] - 0s 6ms/step - loss: 13.1985 - mae: 13.1985\n",
            "Epoch 37/100\n",
            "1/1 [==============================] - 0s 5ms/step - loss: 13.1669 - mae: 13.1669\n",
            "Epoch 38/100\n",
            "1/1 [==============================] - 0s 4ms/step - loss: 13.1358 - mae: 13.1358\n",
            "Epoch 39/100\n",
            "1/1 [==============================] - 0s 6ms/step - loss: 13.1048 - mae: 13.1048\n",
            "Epoch 40/100\n",
            "1/1 [==============================] - 0s 4ms/step - loss: 13.0737 - mae: 13.0737\n",
            "Epoch 41/100\n",
            "1/1 [==============================] - 0s 5ms/step - loss: 13.0425 - mae: 13.0425\n",
            "Epoch 42/100\n",
            "1/1 [==============================] - 0s 4ms/step - loss: 13.0113 - mae: 13.0113\n",
            "Epoch 43/100\n",
            "1/1 [==============================] - 0s 4ms/step - loss: 12.9800 - mae: 12.9800\n",
            "Epoch 44/100\n",
            "1/1 [==============================] - 0s 4ms/step - loss: 12.9487 - mae: 12.9487\n",
            "Epoch 45/100\n",
            "1/1 [==============================] - 0s 5ms/step - loss: 12.9173 - mae: 12.9173\n",
            "Epoch 46/100\n",
            "1/1 [==============================] - 0s 5ms/step - loss: 12.8857 - mae: 12.8857\n",
            "Epoch 47/100\n",
            "1/1 [==============================] - 0s 8ms/step - loss: 12.8543 - mae: 12.8543\n",
            "Epoch 48/100\n",
            "1/1 [==============================] - 0s 5ms/step - loss: 12.8229 - mae: 12.8229\n",
            "Epoch 49/100\n",
            "1/1 [==============================] - 0s 5ms/step - loss: 12.7916 - mae: 12.7916\n",
            "Epoch 50/100\n",
            "1/1 [==============================] - 0s 4ms/step - loss: 12.7609 - mae: 12.7609\n",
            "Epoch 51/100\n",
            "1/1 [==============================] - 0s 4ms/step - loss: 12.7301 - mae: 12.7301\n",
            "Epoch 52/100\n",
            "1/1 [==============================] - 0s 5ms/step - loss: 12.6991 - mae: 12.6991\n",
            "Epoch 53/100\n",
            "1/1 [==============================] - 0s 4ms/step - loss: 12.6680 - mae: 12.6680\n",
            "Epoch 54/100\n",
            "1/1 [==============================] - 0s 4ms/step - loss: 12.6366 - mae: 12.6366\n",
            "Epoch 55/100\n",
            "1/1 [==============================] - 0s 4ms/step - loss: 12.6052 - mae: 12.6052\n",
            "Epoch 56/100\n",
            "1/1 [==============================] - 0s 4ms/step - loss: 12.5736 - mae: 12.5736\n",
            "Epoch 57/100\n",
            "1/1 [==============================] - 0s 8ms/step - loss: 12.5420 - mae: 12.5420\n",
            "Epoch 58/100\n",
            "1/1 [==============================] - 0s 6ms/step - loss: 12.5105 - mae: 12.5105\n",
            "Epoch 59/100\n",
            "1/1 [==============================] - 0s 5ms/step - loss: 12.4792 - mae: 12.4792\n",
            "Epoch 60/100\n",
            "1/1 [==============================] - 0s 5ms/step - loss: 12.4482 - mae: 12.4482\n",
            "Epoch 61/100\n",
            "1/1 [==============================] - 0s 6ms/step - loss: 12.4180 - mae: 12.4180\n",
            "Epoch 62/100\n",
            "1/1 [==============================] - 0s 4ms/step - loss: 12.3877 - mae: 12.3877\n",
            "Epoch 63/100\n",
            "1/1 [==============================] - 0s 4ms/step - loss: 12.3577 - mae: 12.3577\n",
            "Epoch 64/100\n",
            "1/1 [==============================] - 0s 8ms/step - loss: 12.3277 - mae: 12.3277\n",
            "Epoch 65/100\n",
            "1/1 [==============================] - 0s 4ms/step - loss: 12.2978 - mae: 12.2978\n",
            "Epoch 66/100\n",
            "1/1 [==============================] - 0s 4ms/step - loss: 12.2681 - mae: 12.2681\n",
            "Epoch 67/100\n",
            "1/1 [==============================] - 0s 4ms/step - loss: 12.2389 - mae: 12.2389\n",
            "Epoch 68/100\n",
            "1/1 [==============================] - 0s 5ms/step - loss: 12.2095 - mae: 12.2095\n",
            "Epoch 69/100\n",
            "1/1 [==============================] - 0s 4ms/step - loss: 12.1800 - mae: 12.1800\n",
            "Epoch 70/100\n",
            "1/1 [==============================] - 0s 4ms/step - loss: 12.1502 - mae: 12.1502\n",
            "Epoch 71/100\n",
            "1/1 [==============================] - 0s 5ms/step - loss: 12.1204 - mae: 12.1204\n",
            "Epoch 72/100\n",
            "1/1 [==============================] - 0s 4ms/step - loss: 12.0907 - mae: 12.0907\n",
            "Epoch 73/100\n",
            "1/1 [==============================] - 0s 6ms/step - loss: 12.0613 - mae: 12.0613\n",
            "Epoch 74/100\n",
            "1/1 [==============================] - 0s 7ms/step - loss: 12.0319 - mae: 12.0319\n",
            "Epoch 75/100\n",
            "1/1 [==============================] - 0s 5ms/step - loss: 12.0022 - mae: 12.0022\n",
            "Epoch 76/100\n",
            "1/1 [==============================] - 0s 7ms/step - loss: 11.9723 - mae: 11.9723\n",
            "Epoch 77/100\n",
            "1/1 [==============================] - 0s 6ms/step - loss: 11.9420 - mae: 11.9420\n",
            "Epoch 78/100\n",
            "1/1 [==============================] - 0s 13ms/step - loss: 11.9114 - mae: 11.9114\n",
            "Epoch 79/100\n",
            "1/1 [==============================] - 0s 5ms/step - loss: 11.8806 - mae: 11.8806\n",
            "Epoch 80/100\n",
            "1/1 [==============================] - 0s 4ms/step - loss: 11.8494 - mae: 11.8494\n",
            "Epoch 81/100\n",
            "1/1 [==============================] - 0s 6ms/step - loss: 11.8178 - mae: 11.8178\n",
            "Epoch 82/100\n",
            "1/1 [==============================] - 0s 7ms/step - loss: 11.7860 - mae: 11.7860\n",
            "Epoch 83/100\n",
            "1/1 [==============================] - 0s 7ms/step - loss: 11.7540 - mae: 11.7540\n",
            "Epoch 84/100\n",
            "1/1 [==============================] - 0s 5ms/step - loss: 11.7217 - mae: 11.7217\n",
            "Epoch 85/100\n",
            "1/1 [==============================] - 0s 6ms/step - loss: 11.6893 - mae: 11.6893\n",
            "Epoch 86/100\n",
            "1/1 [==============================] - 0s 6ms/step - loss: 11.6571 - mae: 11.6571\n",
            "Epoch 87/100\n",
            "1/1 [==============================] - 0s 5ms/step - loss: 11.6248 - mae: 11.6248\n",
            "Epoch 88/100\n",
            "1/1 [==============================] - 0s 10ms/step - loss: 11.5923 - mae: 11.5923\n",
            "Epoch 89/100\n",
            "1/1 [==============================] - 0s 7ms/step - loss: 11.5597 - mae: 11.5597\n",
            "Epoch 90/100\n",
            "1/1 [==============================] - 0s 9ms/step - loss: 11.5270 - mae: 11.5270\n",
            "Epoch 91/100\n",
            "1/1 [==============================] - 0s 6ms/step - loss: 11.4942 - mae: 11.4942\n",
            "Epoch 92/100\n",
            "1/1 [==============================] - 0s 11ms/step - loss: 11.4613 - mae: 11.4613\n",
            "Epoch 93/100\n",
            "1/1 [==============================] - 0s 19ms/step - loss: 11.4280 - mae: 11.4280\n",
            "Epoch 94/100\n",
            "1/1 [==============================] - 0s 13ms/step - loss: 11.3946 - mae: 11.3946\n",
            "Epoch 95/100\n",
            "1/1 [==============================] - 0s 19ms/step - loss: 11.3608 - mae: 11.3608\n",
            "Epoch 96/100\n",
            "1/1 [==============================] - 0s 8ms/step - loss: 11.3267 - mae: 11.3267\n",
            "Epoch 97/100\n",
            "1/1 [==============================] - 0s 7ms/step - loss: 11.2923 - mae: 11.2923\n",
            "Epoch 98/100\n",
            "1/1 [==============================] - 0s 8ms/step - loss: 11.2575 - mae: 11.2575\n",
            "Epoch 99/100\n",
            "1/1 [==============================] - 0s 6ms/step - loss: 11.2223 - mae: 11.2223\n",
            "Epoch 100/100\n",
            "1/1 [==============================] - 0s 9ms/step - loss: 11.1868 - mae: 11.1868\n"
          ],
          "name": "stdout"
        },
        {
          "output_type": "execute_result",
          "data": {
            "text/plain": [
              "<tensorflow.python.keras.callbacks.History at 0x7f81d2b1e950>"
            ]
          },
          "metadata": {
            "tags": []
          },
          "execution_count": 88
        }
      ]
    },
    {
      "cell_type": "code",
      "metadata": {
        "colab": {
          "base_uri": "https://localhost:8080/"
        },
        "id": "oaIATzvcSIve",
        "outputId": "e494bddb-259a-4626-c6a4-44573d054217"
      },
      "source": [
        "model.predict([17.0])"
      ],
      "execution_count": null,
      "outputs": [
        {
          "output_type": "stream",
          "text": [
            "WARNING:tensorflow:11 out of the last 11 calls to <function Model.make_predict_function.<locals>.predict_function at 0x7f81d13a18c0> triggered tf.function retracing. Tracing is expensive and the excessive number of tracings could be due to (1) creating @tf.function repeatedly in a loop, (2) passing tensors with different shapes, (3) passing Python objects instead of tensors. For (1), please define your @tf.function outside of the loop. For (2), @tf.function has experimental_relax_shapes=True option that relaxes argument shapes that can avoid unnecessary retracing. For (3), please refer to https://www.tensorflow.org/guide/function#controlling_retracing and https://www.tensorflow.org/api_docs/python/tf/function for  more details.\n"
          ],
          "name": "stdout"
        },
        {
          "output_type": "execute_result",
          "data": {
            "text/plain": [
              "array([[6.2900505]], dtype=float32)"
            ]
          },
          "metadata": {
            "tags": []
          },
          "execution_count": 89
        }
      ]
    },
    {
      "cell_type": "code",
      "metadata": {
        "colab": {
          "base_uri": "https://localhost:8080/"
        },
        "id": "SAXEyAj4SViz",
        "outputId": "3988b101-63e6-4a96-a3cc-66e6f9b9fb58"
      },
      "source": [
        "# We see that the error has increased. So making some changes.\n",
        "\n",
        "# changing lr in previous example\n",
        "\n",
        "# 1.) Creating the model\n",
        "\n",
        "model = tf.keras.Sequential([\n",
        "    tf.keras.layers.Dense(100,activation=\"relu\"),\n",
        "    tf.keras.layers.Dense(100,activation=\"relu\"),\n",
        "    tf.keras.layers.Dense(100,activation=\"relu\"),\n",
        "    tf.keras.layers.Dense(1)\n",
        "])\n",
        "\n",
        "# 2.) Compile the model\n",
        "\n",
        "model.compile(loss = tf.keras.losses.mae ,\n",
        "              optimizer = tf.keras.optimizers.Adam(lr = 0.01),\n",
        "              metrics = [\"mae\"])\n",
        "\n",
        "# 3 .) Fit the model\n",
        "\n",
        "model.fit(x,y,epochs = 100)"
      ],
      "execution_count": null,
      "outputs": [
        {
          "output_type": "stream",
          "text": [
            "Epoch 1/100\n",
            "1/1 [==============================] - 0s 336ms/step - loss: 13.0174 - mae: 13.0174\n",
            "Epoch 2/100\n",
            "1/1 [==============================] - 0s 4ms/step - loss: 9.0269 - mae: 9.0269\n",
            "Epoch 3/100\n",
            "1/1 [==============================] - 0s 4ms/step - loss: 4.6829 - mae: 4.6829\n",
            "Epoch 4/100\n",
            "1/1 [==============================] - 0s 4ms/step - loss: 6.8227 - mae: 6.8227\n",
            "Epoch 5/100\n",
            "1/1 [==============================] - 0s 4ms/step - loss: 7.2744 - mae: 7.2744\n",
            "Epoch 6/100\n",
            "1/1 [==============================] - 0s 4ms/step - loss: 5.4749 - mae: 5.4749\n",
            "Epoch 7/100\n",
            "1/1 [==============================] - 0s 5ms/step - loss: 3.9458 - mae: 3.9458\n",
            "Epoch 8/100\n",
            "1/1 [==============================] - 0s 4ms/step - loss: 4.5460 - mae: 4.5460\n",
            "Epoch 9/100\n",
            "1/1 [==============================] - 0s 3ms/step - loss: 5.3566 - mae: 5.3566\n",
            "Epoch 10/100\n",
            "1/1 [==============================] - 0s 4ms/step - loss: 4.9315 - mae: 4.9315\n",
            "Epoch 11/100\n",
            "1/1 [==============================] - 0s 4ms/step - loss: 3.7953 - mae: 3.7953\n",
            "Epoch 12/100\n",
            "1/1 [==============================] - 0s 4ms/step - loss: 3.7106 - mae: 3.7106\n",
            "Epoch 13/100\n",
            "1/1 [==============================] - 0s 4ms/step - loss: 4.0894 - mae: 4.0894\n",
            "Epoch 14/100\n",
            "1/1 [==============================] - 0s 4ms/step - loss: 4.1057 - mae: 4.1057\n",
            "Epoch 15/100\n",
            "1/1 [==============================] - 0s 3ms/step - loss: 3.6611 - mae: 3.6611\n",
            "Epoch 16/100\n",
            "1/1 [==============================] - 0s 6ms/step - loss: 3.4105 - mae: 3.4105\n",
            "Epoch 17/100\n",
            "1/1 [==============================] - 0s 5ms/step - loss: 3.3033 - mae: 3.3033\n",
            "Epoch 18/100\n",
            "1/1 [==============================] - 0s 4ms/step - loss: 3.2734 - mae: 3.2734\n",
            "Epoch 19/100\n",
            "1/1 [==============================] - 0s 3ms/step - loss: 3.0682 - mae: 3.0682\n",
            "Epoch 20/100\n",
            "1/1 [==============================] - 0s 3ms/step - loss: 2.8432 - mae: 2.8432\n",
            "Epoch 21/100\n",
            "1/1 [==============================] - 0s 7ms/step - loss: 2.7379 - mae: 2.7379\n",
            "Epoch 22/100\n",
            "1/1 [==============================] - 0s 6ms/step - loss: 2.5435 - mae: 2.5435\n",
            "Epoch 23/100\n",
            "1/1 [==============================] - 0s 6ms/step - loss: 2.2821 - mae: 2.2821\n",
            "Epoch 24/100\n",
            "1/1 [==============================] - 0s 6ms/step - loss: 1.9695 - mae: 1.9695\n",
            "Epoch 25/100\n",
            "1/1 [==============================] - 0s 5ms/step - loss: 1.8127 - mae: 1.8127\n",
            "Epoch 26/100\n",
            "1/1 [==============================] - 0s 8ms/step - loss: 1.4372 - mae: 1.4372\n",
            "Epoch 27/100\n",
            "1/1 [==============================] - 0s 6ms/step - loss: 1.1384 - mae: 1.1384\n",
            "Epoch 28/100\n",
            "1/1 [==============================] - 0s 5ms/step - loss: 0.7919 - mae: 0.7919\n",
            "Epoch 29/100\n",
            "1/1 [==============================] - 0s 4ms/step - loss: 1.2024 - mae: 1.2024\n",
            "Epoch 30/100\n",
            "1/1 [==============================] - 0s 7ms/step - loss: 0.6631 - mae: 0.6631\n",
            "Epoch 31/100\n",
            "1/1 [==============================] - 0s 8ms/step - loss: 2.5906 - mae: 2.5906\n",
            "Epoch 32/100\n",
            "1/1 [==============================] - 0s 4ms/step - loss: 2.4417 - mae: 2.4417\n",
            "Epoch 33/100\n",
            "1/1 [==============================] - 0s 3ms/step - loss: 0.4469 - mae: 0.4469\n",
            "Epoch 34/100\n",
            "1/1 [==============================] - 0s 10ms/step - loss: 2.5836 - mae: 2.5836\n",
            "Epoch 35/100\n",
            "1/1 [==============================] - 0s 8ms/step - loss: 3.7648 - mae: 3.7648\n",
            "Epoch 36/100\n",
            "1/1 [==============================] - 0s 3ms/step - loss: 3.9532 - mae: 3.9532\n",
            "Epoch 37/100\n",
            "1/1 [==============================] - 0s 7ms/step - loss: 3.3082 - mae: 3.3082\n",
            "Epoch 38/100\n",
            "1/1 [==============================] - 0s 5ms/step - loss: 1.9277 - mae: 1.9277\n",
            "Epoch 39/100\n",
            "1/1 [==============================] - 0s 5ms/step - loss: 0.5654 - mae: 0.5654\n",
            "Epoch 40/100\n",
            "1/1 [==============================] - 0s 6ms/step - loss: 1.4511 - mae: 1.4511\n",
            "Epoch 41/100\n",
            "1/1 [==============================] - 0s 4ms/step - loss: 1.1090 - mae: 1.1090\n",
            "Epoch 42/100\n",
            "1/1 [==============================] - 0s 11ms/step - loss: 0.7893 - mae: 0.7893\n",
            "Epoch 43/100\n",
            "1/1 [==============================] - 0s 8ms/step - loss: 0.8314 - mae: 0.8314\n",
            "Epoch 44/100\n",
            "1/1 [==============================] - 0s 9ms/step - loss: 0.3989 - mae: 0.3989\n",
            "Epoch 45/100\n",
            "1/1 [==============================] - 0s 7ms/step - loss: 0.8213 - mae: 0.8213\n",
            "Epoch 46/100\n",
            "1/1 [==============================] - 0s 7ms/step - loss: 0.6053 - mae: 0.6053\n",
            "Epoch 47/100\n",
            "1/1 [==============================] - 0s 5ms/step - loss: 0.8973 - mae: 0.8973\n",
            "Epoch 48/100\n",
            "1/1 [==============================] - 0s 3ms/step - loss: 0.5139 - mae: 0.5139\n",
            "Epoch 49/100\n",
            "1/1 [==============================] - 0s 3ms/step - loss: 0.6002 - mae: 0.6002\n",
            "Epoch 50/100\n",
            "1/1 [==============================] - 0s 3ms/step - loss: 0.7042 - mae: 0.7042\n",
            "Epoch 51/100\n",
            "1/1 [==============================] - 0s 4ms/step - loss: 0.5654 - mae: 0.5654\n",
            "Epoch 52/100\n",
            "1/1 [==============================] - 0s 3ms/step - loss: 0.6868 - mae: 0.6868\n",
            "Epoch 53/100\n",
            "1/1 [==============================] - 0s 4ms/step - loss: 0.3958 - mae: 0.3958\n",
            "Epoch 54/100\n",
            "1/1 [==============================] - 0s 6ms/step - loss: 0.2362 - mae: 0.2362\n",
            "Epoch 55/100\n",
            "1/1 [==============================] - 0s 5ms/step - loss: 0.9613 - mae: 0.9613\n",
            "Epoch 56/100\n",
            "1/1 [==============================] - 0s 5ms/step - loss: 1.1656 - mae: 1.1656\n",
            "Epoch 57/100\n",
            "1/1 [==============================] - 0s 8ms/step - loss: 0.6655 - mae: 0.6655\n",
            "Epoch 58/100\n",
            "1/1 [==============================] - 0s 8ms/step - loss: 0.7823 - mae: 0.7823\n",
            "Epoch 59/100\n",
            "1/1 [==============================] - 0s 5ms/step - loss: 0.9447 - mae: 0.9447\n",
            "Epoch 60/100\n",
            "1/1 [==============================] - 0s 8ms/step - loss: 0.2303 - mae: 0.2303\n",
            "Epoch 61/100\n",
            "1/1 [==============================] - 0s 4ms/step - loss: 1.4759 - mae: 1.4759\n",
            "Epoch 62/100\n",
            "1/1 [==============================] - 0s 6ms/step - loss: 1.8743 - mae: 1.8743\n",
            "Epoch 63/100\n",
            "1/1 [==============================] - 0s 3ms/step - loss: 1.4674 - mae: 1.4674\n",
            "Epoch 64/100\n",
            "1/1 [==============================] - 0s 5ms/step - loss: 0.3795 - mae: 0.3795\n",
            "Epoch 65/100\n",
            "1/1 [==============================] - 0s 5ms/step - loss: 1.6887 - mae: 1.6887\n",
            "Epoch 66/100\n",
            "1/1 [==============================] - 0s 8ms/step - loss: 2.4788 - mae: 2.4788\n",
            "Epoch 67/100\n",
            "1/1 [==============================] - 0s 4ms/step - loss: 2.0228 - mae: 2.0228\n",
            "Epoch 68/100\n",
            "1/1 [==============================] - 0s 3ms/step - loss: 0.6088 - mae: 0.6088\n",
            "Epoch 69/100\n",
            "1/1 [==============================] - 0s 6ms/step - loss: 1.3391 - mae: 1.3391\n",
            "Epoch 70/100\n",
            "1/1 [==============================] - 0s 4ms/step - loss: 2.1836 - mae: 2.1836\n",
            "Epoch 71/100\n",
            "1/1 [==============================] - 0s 6ms/step - loss: 2.2367 - mae: 2.2367\n",
            "Epoch 72/100\n",
            "1/1 [==============================] - 0s 6ms/step - loss: 1.5916 - mae: 1.5916\n",
            "Epoch 73/100\n",
            "1/1 [==============================] - 0s 4ms/step - loss: 0.2125 - mae: 0.2125\n",
            "Epoch 74/100\n",
            "1/1 [==============================] - 0s 4ms/step - loss: 1.6418 - mae: 1.6418\n",
            "Epoch 75/100\n",
            "1/1 [==============================] - 0s 6ms/step - loss: 2.2150 - mae: 2.2150\n",
            "Epoch 76/100\n",
            "1/1 [==============================] - 0s 3ms/step - loss: 1.6175 - mae: 1.6175\n",
            "Epoch 77/100\n",
            "1/1 [==============================] - 0s 8ms/step - loss: 0.1689 - mae: 0.1689\n",
            "Epoch 78/100\n",
            "1/1 [==============================] - 0s 6ms/step - loss: 1.6063 - mae: 1.6063\n",
            "Epoch 79/100\n",
            "1/1 [==============================] - 0s 4ms/step - loss: 2.4041 - mae: 2.4041\n",
            "Epoch 80/100\n",
            "1/1 [==============================] - 0s 5ms/step - loss: 2.5200 - mae: 2.5200\n",
            "Epoch 81/100\n",
            "1/1 [==============================] - 0s 4ms/step - loss: 2.0396 - mae: 2.0396\n",
            "Epoch 82/100\n",
            "1/1 [==============================] - 0s 5ms/step - loss: 0.9576 - mae: 0.9576\n",
            "Epoch 83/100\n",
            "1/1 [==============================] - 0s 4ms/step - loss: 0.8255 - mae: 0.8255\n",
            "Epoch 84/100\n",
            "1/1 [==============================] - 0s 4ms/step - loss: 1.6727 - mae: 1.6727\n",
            "Epoch 85/100\n",
            "1/1 [==============================] - 0s 14ms/step - loss: 1.5318 - mae: 1.5318\n",
            "Epoch 86/100\n",
            "1/1 [==============================] - 0s 4ms/step - loss: 0.5763 - mae: 0.5763\n",
            "Epoch 87/100\n",
            "1/1 [==============================] - 0s 8ms/step - loss: 0.9653 - mae: 0.9653\n",
            "Epoch 88/100\n",
            "1/1 [==============================] - 0s 6ms/step - loss: 1.5832 - mae: 1.5832\n",
            "Epoch 89/100\n",
            "1/1 [==============================] - 0s 6ms/step - loss: 1.5224 - mae: 1.5224\n",
            "Epoch 90/100\n",
            "1/1 [==============================] - 0s 6ms/step - loss: 0.8838 - mae: 0.8838\n",
            "Epoch 91/100\n",
            "1/1 [==============================] - 0s 6ms/step - loss: 0.4297 - mae: 0.4297\n",
            "Epoch 92/100\n",
            "1/1 [==============================] - 0s 9ms/step - loss: 0.8635 - mae: 0.8635\n",
            "Epoch 93/100\n",
            "1/1 [==============================] - 0s 4ms/step - loss: 0.4627 - mae: 0.4627\n",
            "Epoch 94/100\n",
            "1/1 [==============================] - 0s 11ms/step - loss: 0.5996 - mae: 0.5996\n",
            "Epoch 95/100\n",
            "1/1 [==============================] - 0s 9ms/step - loss: 0.8616 - mae: 0.8616\n",
            "Epoch 96/100\n",
            "1/1 [==============================] - 0s 4ms/step - loss: 0.4524 - mae: 0.4524\n",
            "Epoch 97/100\n",
            "1/1 [==============================] - 0s 8ms/step - loss: 0.5797 - mae: 0.5797\n",
            "Epoch 98/100\n",
            "1/1 [==============================] - 0s 9ms/step - loss: 0.6869 - mae: 0.6869\n",
            "Epoch 99/100\n",
            "1/1 [==============================] - 0s 6ms/step - loss: 0.1820 - mae: 0.1820\n",
            "Epoch 100/100\n",
            "1/1 [==============================] - 0s 8ms/step - loss: 1.0375 - mae: 1.0375\n"
          ],
          "name": "stdout"
        },
        {
          "output_type": "execute_result",
          "data": {
            "text/plain": [
              "<tensorflow.python.keras.callbacks.History at 0x7f81d28dda90>"
            ]
          },
          "metadata": {
            "tags": []
          },
          "execution_count": 90
        }
      ]
    },
    {
      "cell_type": "code",
      "metadata": {
        "colab": {
          "base_uri": "https://localhost:8080/"
        },
        "id": "zz9P3BM3TJsd",
        "outputId": "d98228de-bcc7-47d4-fa8f-1853927076cd"
      },
      "source": [
        "model.predict([17.0])"
      ],
      "execution_count": null,
      "outputs": [
        {
          "output_type": "stream",
          "text": [
            "WARNING:tensorflow:11 out of the last 11 calls to <function Model.make_predict_function.<locals>.predict_function at 0x7f81d131c5f0> triggered tf.function retracing. Tracing is expensive and the excessive number of tracings could be due to (1) creating @tf.function repeatedly in a loop, (2) passing tensors with different shapes, (3) passing Python objects instead of tensors. For (1), please define your @tf.function outside of the loop. For (2), @tf.function has experimental_relax_shapes=True option that relaxes argument shapes that can avoid unnecessary retracing. For (3), please refer to https://www.tensorflow.org/guide/function#controlling_retracing and https://www.tensorflow.org/api_docs/python/tf/function for  more details.\n"
          ],
          "name": "stdout"
        },
        {
          "output_type": "execute_result",
          "data": {
            "text/plain": [
              "array([[24.119102]], dtype=float32)"
            ]
          },
          "metadata": {
            "tags": []
          },
          "execution_count": 91
        }
      ]
    },
    {
      "cell_type": "code",
      "metadata": {
        "colab": {
          "base_uri": "https://localhost:8080/"
        },
        "id": "cbGjaM4pTPX8",
        "outputId": "d2ad1968-6876-4812-ee8e-126bb92c9059"
      },
      "source": [
        "# Again close\n",
        "\n",
        "# Making more changes\n",
        "\n",
        "# 1.) Creating the model\n",
        "\n",
        "model = tf.keras.Sequential([\n",
        "    tf.keras.layers.Dense(50,activation=\"relu\"),\n",
        "    tf.keras.layers.Dense(1)\n",
        "])\n",
        "\n",
        "# 2.) Compile the model\n",
        "\n",
        "model.compile(loss = tf.keras.losses.mae ,\n",
        "              optimizer = tf.keras.optimizers.Adam(lr = 0.01),\n",
        "              metrics = [\"mae\"])\n",
        "\n",
        "# 3 .) Fit the model\n",
        "\n",
        "model.fit(x,y,epochs = 100)"
      ],
      "execution_count": null,
      "outputs": [
        {
          "output_type": "stream",
          "text": [
            "Epoch 1/100\n",
            "1/1 [==============================] - 0s 276ms/step - loss: 13.4588 - mae: 13.4588\n",
            "Epoch 2/100\n",
            "1/1 [==============================] - 0s 4ms/step - loss: 12.8716 - mae: 12.8716\n",
            "Epoch 3/100\n",
            "1/1 [==============================] - 0s 3ms/step - loss: 12.2912 - mae: 12.2912\n",
            "Epoch 4/100\n",
            "1/1 [==============================] - 0s 3ms/step - loss: 11.7929 - mae: 11.7929\n",
            "Epoch 5/100\n",
            "1/1 [==============================] - 0s 5ms/step - loss: 11.4166 - mae: 11.4166\n",
            "Epoch 6/100\n",
            "1/1 [==============================] - 0s 5ms/step - loss: 11.0371 - mae: 11.0371\n",
            "Epoch 7/100\n",
            "1/1 [==============================] - 0s 6ms/step - loss: 10.6558 - mae: 10.6558\n",
            "Epoch 8/100\n",
            "1/1 [==============================] - 0s 3ms/step - loss: 10.2756 - mae: 10.2756\n",
            "Epoch 9/100\n",
            "1/1 [==============================] - 0s 7ms/step - loss: 9.8942 - mae: 9.8942\n",
            "Epoch 10/100\n",
            "1/1 [==============================] - 0s 4ms/step - loss: 9.5081 - mae: 9.5081\n",
            "Epoch 11/100\n",
            "1/1 [==============================] - 0s 4ms/step - loss: 9.1140 - mae: 9.1140\n",
            "Epoch 12/100\n",
            "1/1 [==============================] - 0s 5ms/step - loss: 8.7102 - mae: 8.7102\n",
            "Epoch 13/100\n",
            "1/1 [==============================] - 0s 3ms/step - loss: 8.2970 - mae: 8.2970\n",
            "Epoch 14/100\n",
            "1/1 [==============================] - 0s 3ms/step - loss: 7.8755 - mae: 7.8755\n",
            "Epoch 15/100\n",
            "1/1 [==============================] - 0s 4ms/step - loss: 7.4403 - mae: 7.4403\n",
            "Epoch 16/100\n",
            "1/1 [==============================] - 0s 4ms/step - loss: 6.9898 - mae: 6.9898\n",
            "Epoch 17/100\n",
            "1/1 [==============================] - 0s 7ms/step - loss: 6.5228 - mae: 6.5228\n",
            "Epoch 18/100\n",
            "1/1 [==============================] - 0s 5ms/step - loss: 6.0379 - mae: 6.0379\n",
            "Epoch 19/100\n",
            "1/1 [==============================] - 0s 3ms/step - loss: 5.5340 - mae: 5.5340\n",
            "Epoch 20/100\n",
            "1/1 [==============================] - 0s 3ms/step - loss: 5.0105 - mae: 5.0105\n",
            "Epoch 21/100\n",
            "1/1 [==============================] - 0s 3ms/step - loss: 4.4661 - mae: 4.4661\n",
            "Epoch 22/100\n",
            "1/1 [==============================] - 0s 3ms/step - loss: 3.9095 - mae: 3.9095\n",
            "Epoch 23/100\n",
            "1/1 [==============================] - 0s 3ms/step - loss: 3.7192 - mae: 3.7192\n",
            "Epoch 24/100\n",
            "1/1 [==============================] - 0s 4ms/step - loss: 3.6367 - mae: 3.6367\n",
            "Epoch 25/100\n",
            "1/1 [==============================] - 0s 6ms/step - loss: 3.7214 - mae: 3.7214\n",
            "Epoch 26/100\n",
            "1/1 [==============================] - 0s 8ms/step - loss: 3.7926 - mae: 3.7926\n",
            "Epoch 27/100\n",
            "1/1 [==============================] - 0s 9ms/step - loss: 3.8508 - mae: 3.8508\n",
            "Epoch 28/100\n",
            "1/1 [==============================] - 0s 3ms/step - loss: 4.0063 - mae: 4.0063\n",
            "Epoch 29/100\n",
            "1/1 [==============================] - 0s 6ms/step - loss: 4.1463 - mae: 4.1463\n",
            "Epoch 30/100\n",
            "1/1 [==============================] - 0s 8ms/step - loss: 4.2058 - mae: 4.2058\n",
            "Epoch 31/100\n",
            "1/1 [==============================] - 0s 4ms/step - loss: 4.1842 - mae: 4.1842\n",
            "Epoch 32/100\n",
            "1/1 [==============================] - 0s 5ms/step - loss: 4.1508 - mae: 4.1508\n",
            "Epoch 33/100\n",
            "1/1 [==============================] - 0s 7ms/step - loss: 4.0789 - mae: 4.0789\n",
            "Epoch 34/100\n",
            "1/1 [==============================] - 0s 5ms/step - loss: 3.9732 - mae: 3.9732\n",
            "Epoch 35/100\n",
            "1/1 [==============================] - 0s 3ms/step - loss: 3.8376 - mae: 3.8376\n",
            "Epoch 36/100\n",
            "1/1 [==============================] - 0s 11ms/step - loss: 3.6902 - mae: 3.6902\n",
            "Epoch 37/100\n",
            "1/1 [==============================] - 0s 5ms/step - loss: 3.6195 - mae: 3.6195\n",
            "Epoch 38/100\n",
            "1/1 [==============================] - 0s 10ms/step - loss: 3.5464 - mae: 3.5464\n",
            "Epoch 39/100\n",
            "1/1 [==============================] - 0s 10ms/step - loss: 3.4770 - mae: 3.4770\n",
            "Epoch 40/100\n",
            "1/1 [==============================] - 0s 9ms/step - loss: 3.4084 - mae: 3.4084\n",
            "Epoch 41/100\n",
            "1/1 [==============================] - 0s 7ms/step - loss: 3.3605 - mae: 3.3605\n",
            "Epoch 42/100\n",
            "1/1 [==============================] - 0s 6ms/step - loss: 3.2755 - mae: 3.2755\n",
            "Epoch 43/100\n",
            "1/1 [==============================] - 0s 5ms/step - loss: 3.2687 - mae: 3.2687\n",
            "Epoch 44/100\n",
            "1/1 [==============================] - 0s 5ms/step - loss: 3.2923 - mae: 3.2923\n",
            "Epoch 45/100\n",
            "1/1 [==============================] - 0s 7ms/step - loss: 3.2976 - mae: 3.2976\n",
            "Epoch 46/100\n",
            "1/1 [==============================] - 0s 4ms/step - loss: 3.2851 - mae: 3.2851\n",
            "Epoch 47/100\n",
            "1/1 [==============================] - 0s 4ms/step - loss: 3.2735 - mae: 3.2735\n",
            "Epoch 48/100\n",
            "1/1 [==============================] - 0s 4ms/step - loss: 3.2234 - mae: 3.2234\n",
            "Epoch 49/100\n",
            "1/1 [==============================] - 0s 4ms/step - loss: 3.1752 - mae: 3.1752\n",
            "Epoch 50/100\n",
            "1/1 [==============================] - 0s 4ms/step - loss: 3.1131 - mae: 3.1131\n",
            "Epoch 51/100\n",
            "1/1 [==============================] - 0s 4ms/step - loss: 3.0379 - mae: 3.0379\n",
            "Epoch 52/100\n",
            "1/1 [==============================] - 0s 4ms/step - loss: 3.0129 - mae: 3.0129\n",
            "Epoch 53/100\n",
            "1/1 [==============================] - 0s 6ms/step - loss: 3.0182 - mae: 3.0182\n",
            "Epoch 54/100\n",
            "1/1 [==============================] - 0s 7ms/step - loss: 2.9947 - mae: 2.9947\n",
            "Epoch 55/100\n",
            "1/1 [==============================] - 0s 7ms/step - loss: 2.9757 - mae: 2.9757\n",
            "Epoch 56/100\n",
            "1/1 [==============================] - 0s 6ms/step - loss: 2.9484 - mae: 2.9484\n",
            "Epoch 57/100\n",
            "1/1 [==============================] - 0s 8ms/step - loss: 2.9134 - mae: 2.9134\n",
            "Epoch 58/100\n",
            "1/1 [==============================] - 0s 4ms/step - loss: 2.8713 - mae: 2.8713\n",
            "Epoch 59/100\n",
            "1/1 [==============================] - 0s 4ms/step - loss: 2.8221 - mae: 2.8221\n",
            "Epoch 60/100\n",
            "1/1 [==============================] - 0s 7ms/step - loss: 2.7667 - mae: 2.7667\n",
            "Epoch 61/100\n",
            "1/1 [==============================] - 0s 6ms/step - loss: 2.7052 - mae: 2.7052\n",
            "Epoch 62/100\n",
            "1/1 [==============================] - 0s 6ms/step - loss: 2.6379 - mae: 2.6379\n",
            "Epoch 63/100\n",
            "1/1 [==============================] - 0s 6ms/step - loss: 2.5982 - mae: 2.5982\n",
            "Epoch 64/100\n",
            "1/1 [==============================] - 0s 4ms/step - loss: 2.5771 - mae: 2.5771\n",
            "Epoch 65/100\n",
            "1/1 [==============================] - 0s 4ms/step - loss: 2.5269 - mae: 2.5269\n",
            "Epoch 66/100\n",
            "1/1 [==============================] - 0s 7ms/step - loss: 2.4666 - mae: 2.4666\n",
            "Epoch 67/100\n",
            "1/1 [==============================] - 0s 6ms/step - loss: 2.3861 - mae: 2.3861\n",
            "Epoch 68/100\n",
            "1/1 [==============================] - 0s 4ms/step - loss: 2.3369 - mae: 2.3369\n",
            "Epoch 69/100\n",
            "1/1 [==============================] - 0s 4ms/step - loss: 2.3076 - mae: 2.3076\n",
            "Epoch 70/100\n",
            "1/1 [==============================] - 0s 4ms/step - loss: 2.2408 - mae: 2.2408\n",
            "Epoch 71/100\n",
            "1/1 [==============================] - 0s 6ms/step - loss: 2.1883 - mae: 2.1883\n",
            "Epoch 72/100\n",
            "1/1 [==============================] - 0s 4ms/step - loss: 2.1274 - mae: 2.1274\n",
            "Epoch 73/100\n",
            "1/1 [==============================] - 0s 6ms/step - loss: 2.0533 - mae: 2.0533\n",
            "Epoch 74/100\n",
            "1/1 [==============================] - 0s 4ms/step - loss: 1.9664 - mae: 1.9664\n",
            "Epoch 75/100\n",
            "1/1 [==============================] - 0s 4ms/step - loss: 1.8736 - mae: 1.8736\n",
            "Epoch 76/100\n",
            "1/1 [==============================] - 0s 4ms/step - loss: 1.7791 - mae: 1.7791\n",
            "Epoch 77/100\n",
            "1/1 [==============================] - 0s 4ms/step - loss: 1.7302 - mae: 1.7302\n",
            "Epoch 78/100\n",
            "1/1 [==============================] - 0s 6ms/step - loss: 1.6535 - mae: 1.6535\n",
            "Epoch 79/100\n",
            "1/1 [==============================] - 0s 4ms/step - loss: 1.5417 - mae: 1.5417\n",
            "Epoch 80/100\n",
            "1/1 [==============================] - 0s 4ms/step - loss: 1.4912 - mae: 1.4912\n",
            "Epoch 81/100\n",
            "1/1 [==============================] - 0s 4ms/step - loss: 1.3831 - mae: 1.3831\n",
            "Epoch 82/100\n",
            "1/1 [==============================] - 0s 4ms/step - loss: 1.2565 - mae: 1.2565\n",
            "Epoch 83/100\n",
            "1/1 [==============================] - 0s 9ms/step - loss: 1.1659 - mae: 1.1659\n",
            "Epoch 84/100\n",
            "1/1 [==============================] - 0s 9ms/step - loss: 1.0942 - mae: 1.0942\n",
            "Epoch 85/100\n",
            "1/1 [==============================] - 0s 11ms/step - loss: 0.9972 - mae: 0.9972\n",
            "Epoch 86/100\n",
            "1/1 [==============================] - 0s 5ms/step - loss: 0.8965 - mae: 0.8965\n",
            "Epoch 87/100\n",
            "1/1 [==============================] - 0s 8ms/step - loss: 0.7915 - mae: 0.7915\n",
            "Epoch 88/100\n",
            "1/1 [==============================] - 0s 3ms/step - loss: 0.6592 - mae: 0.6592\n",
            "Epoch 89/100\n",
            "1/1 [==============================] - 0s 7ms/step - loss: 0.5738 - mae: 0.5738\n",
            "Epoch 90/100\n",
            "1/1 [==============================] - 0s 9ms/step - loss: 0.5023 - mae: 0.5023\n",
            "Epoch 91/100\n",
            "1/1 [==============================] - 0s 4ms/step - loss: 0.5062 - mae: 0.5062\n",
            "Epoch 92/100\n",
            "1/1 [==============================] - 0s 4ms/step - loss: 0.4316 - mae: 0.4316\n",
            "Epoch 93/100\n",
            "1/1 [==============================] - 0s 4ms/step - loss: 0.3445 - mae: 0.3445\n",
            "Epoch 94/100\n",
            "1/1 [==============================] - 0s 12ms/step - loss: 0.3823 - mae: 0.3823\n",
            "Epoch 95/100\n",
            "1/1 [==============================] - 0s 13ms/step - loss: 0.4264 - mae: 0.4264\n",
            "Epoch 96/100\n",
            "1/1 [==============================] - 0s 9ms/step - loss: 0.4632 - mae: 0.4632\n",
            "Epoch 97/100\n",
            "1/1 [==============================] - 0s 6ms/step - loss: 0.3652 - mae: 0.3652\n",
            "Epoch 98/100\n",
            "1/1 [==============================] - 0s 5ms/step - loss: 0.4558 - mae: 0.4558\n",
            "Epoch 99/100\n",
            "1/1 [==============================] - 0s 8ms/step - loss: 0.4572 - mae: 0.4572\n",
            "Epoch 100/100\n",
            "1/1 [==============================] - 0s 5ms/step - loss: 0.4196 - mae: 0.4196\n"
          ],
          "name": "stdout"
        },
        {
          "output_type": "execute_result",
          "data": {
            "text/plain": [
              "<tensorflow.python.keras.callbacks.History at 0x7f81d2ac1250>"
            ]
          },
          "metadata": {
            "tags": []
          },
          "execution_count": 92
        }
      ]
    },
    {
      "cell_type": "code",
      "metadata": {
        "colab": {
          "base_uri": "https://localhost:8080/"
        },
        "id": "aJL5OB9STlQt",
        "outputId": "8890a451-82e6-42b3-b265-59b81a8d1cbc"
      },
      "source": [
        "model.predict([17.0])"
      ],
      "execution_count": null,
      "outputs": [
        {
          "output_type": "stream",
          "text": [
            "WARNING:tensorflow:11 out of the last 11 calls to <function Model.make_predict_function.<locals>.predict_function at 0x7f81d2ed25f0> triggered tf.function retracing. Tracing is expensive and the excessive number of tracings could be due to (1) creating @tf.function repeatedly in a loop, (2) passing tensors with different shapes, (3) passing Python objects instead of tensors. For (1), please define your @tf.function outside of the loop. For (2), @tf.function has experimental_relax_shapes=True option that relaxes argument shapes that can avoid unnecessary retracing. For (3), please refer to https://www.tensorflow.org/guide/function#controlling_retracing and https://www.tensorflow.org/api_docs/python/tf/function for  more details.\n"
          ],
          "name": "stdout"
        },
        {
          "output_type": "execute_result",
          "data": {
            "text/plain": [
              "array([[27.758877]], dtype=float32)"
            ]
          },
          "metadata": {
            "tags": []
          },
          "execution_count": 93
        }
      ]
    },
    {
      "cell_type": "code",
      "metadata": {
        "id": "rQ_tfTdrTobm"
      },
      "source": [
        "# The answer should be 27 and we have reached pretty close."
      ],
      "execution_count": null,
      "outputs": []
    },
    {
      "cell_type": "code",
      "metadata": {
        "id": "_xwQs-PRTurx",
        "colab": {
          "base_uri": "https://localhost:8080/"
        },
        "outputId": "4bc343fa-b8a6-4241-e41e-9aa7958ac60c"
      },
      "source": [
        "### Making a bigger dataset\n",
        "\n",
        "x = tf.range(-100,100,4)\n",
        "x"
      ],
      "execution_count": null,
      "outputs": [
        {
          "output_type": "execute_result",
          "data": {
            "text/plain": [
              "<tf.Tensor: shape=(50,), dtype=int32, numpy=\n",
              "array([-100,  -96,  -92,  -88,  -84,  -80,  -76,  -72,  -68,  -64,  -60,\n",
              "        -56,  -52,  -48,  -44,  -40,  -36,  -32,  -28,  -24,  -20,  -16,\n",
              "        -12,   -8,   -4,    0,    4,    8,   12,   16,   20,   24,   28,\n",
              "         32,   36,   40,   44,   48,   52,   56,   60,   64,   68,   72,\n",
              "         76,   80,   84,   88,   92,   96], dtype=int32)>"
            ]
          },
          "metadata": {
            "tags": []
          },
          "execution_count": 95
        }
      ]
    },
    {
      "cell_type": "code",
      "metadata": {
        "colab": {
          "base_uri": "https://localhost:8080/"
        },
        "id": "QooaQz4OHBLF",
        "outputId": "5bc23c0c-5889-4e84-d1db-1fe666ba7ba9"
      },
      "source": [
        "y = x+10\n",
        "y"
      ],
      "execution_count": null,
      "outputs": [
        {
          "output_type": "execute_result",
          "data": {
            "text/plain": [
              "<tf.Tensor: shape=(50,), dtype=int32, numpy=\n",
              "array([-90, -86, -82, -78, -74, -70, -66, -62, -58, -54, -50, -46, -42,\n",
              "       -38, -34, -30, -26, -22, -18, -14, -10,  -6,  -2,   2,   6,  10,\n",
              "        14,  18,  22,  26,  30,  34,  38,  42,  46,  50,  54,  58,  62,\n",
              "        66,  70,  74,  78,  82,  86,  90,  94,  98, 102, 106], dtype=int32)>"
            ]
          },
          "metadata": {
            "tags": []
          },
          "execution_count": 96
        }
      ]
    },
    {
      "cell_type": "code",
      "metadata": {
        "colab": {
          "base_uri": "https://localhost:8080/",
          "height": 282
        },
        "id": "v7fXA1__HNw4",
        "outputId": "948a3e5f-a327-4e58-bd30-f73a02e13fd9"
      },
      "source": [
        "plt.scatter(x,y)"
      ],
      "execution_count": null,
      "outputs": [
        {
          "output_type": "execute_result",
          "data": {
            "text/plain": [
              "<matplotlib.collections.PathCollection at 0x7f81d12273d0>"
            ]
          },
          "metadata": {
            "tags": []
          },
          "execution_count": 97
        },
        {
          "output_type": "display_data",
          "data": {
            "image/png": "[encoded data removed]",
            "text/plain": [
              "<Figure size 432x288 with 1 Axes>"
            ]
          },
          "metadata": {
            "tags": [],
            "needs_background": "light"
          }
        }
      ]
    },
    {
      "cell_type": "code",
      "metadata": {
        "colab": {
          "base_uri": "https://localhost:8080/"
        },
        "id": "wbfZXRDQHVFn",
        "outputId": "02051f77-7523-4924-e4ec-4652256a6760"
      },
      "source": [
        "# Making training and testing set\n",
        "\n",
        "len(x)"
      ],
      "execution_count": null,
      "outputs": [
        {
          "output_type": "execute_result",
          "data": {
            "text/plain": [
              "50"
            ]
          },
          "metadata": {
            "tags": []
          },
          "execution_count": 98
        }
      ]
    },
    {
      "cell_type": "code",
      "metadata": {
        "id": "PSdVI37WHn5v"
      },
      "source": [
        "\n",
        "x_train = x[:40]\n",
        "y_train = y[:40]\n",
        "\n",
        "x_test = x[40:]\n",
        "y_test = y[40:]"
      ],
      "execution_count": null,
      "outputs": []
    },
    {
      "cell_type": "code",
      "metadata": {
        "colab": {
          "base_uri": "https://localhost:8080/"
        },
        "id": "_aZt63tUH1DZ",
        "outputId": "1d4f6f00-0ea1-4e6f-e10a-3ed81bb2a567"
      },
      "source": [
        "len(x_train),len(y_train),len(x_test),len(y_test)"
      ],
      "execution_count": null,
      "outputs": [
        {
          "output_type": "execute_result",
          "data": {
            "text/plain": [
              "(40, 40, 10, 10)"
            ]
          },
          "metadata": {
            "tags": []
          },
          "execution_count": 100
        }
      ]
    },
    {
      "cell_type": "code",
      "metadata": {
        "colab": {
          "base_uri": "https://localhost:8080/",
          "height": 265
        },
        "id": "zK9oqYENH8rQ",
        "outputId": "df95f6fd-6717-49d7-fffd-9a053684d4f1"
      },
      "source": [
        "plt.scatter(x_train,y_train , c='b', label = 'Training data')\n",
        "\n",
        "plt.scatter(x_test,y_test , c='g', label = 'Testing data')\n",
        "\n",
        "plt.legend();"
      ],
      "execution_count": null,
      "outputs": [
        {
          "output_type": "display_data",
          "data": {
            "image/png": "[encoded data removed]",
            "text/plain": [
              "<Figure size 432x288 with 1 Axes>"
            ]
          },
          "metadata": {
            "tags": [],
            "needs_background": "light"
          }
        }
      ]
    },
    {
      "cell_type": "code",
      "metadata": {
        "colab": {
          "base_uri": "https://localhost:8080/"
        },
        "id": "FMnVdzN9ISZE",
        "outputId": "0faaf0b7-fd69-46ca-88f7-b9d51f051253"
      },
      "source": [
        "# Trying to get an idea of what our model is like.\n",
        "\n",
        "tf.random.set_seed(42)\n",
        "\n",
        "model = tf.keras.Sequential([\n",
        "    tf.keras.layers.Dense(10,input_shape = [1],name = \"input_layer\"),\n",
        "    tf.keras.layers.Dense(1,name = \"output_layer\")                 \n",
        "],name = \"model_1\")\n",
        "\n",
        "# input_shape = 1 means one feature one output \n",
        "\n",
        "model.compile(loss = tf.keras.losses.mae,\n",
        "              optimizer = tf.keras.optimizers.SGD(),\n",
        "              metrics = [\"mae\"])\n",
        "\n",
        "# getting the summary\n",
        "\n",
        "model.summary()"
      ],
      "execution_count": null,
      "outputs": [
        {
          "output_type": "stream",
          "text": [
            "Model: \"model_1\"\n",
            "_________________________________________________________________\n",
            "Layer (type)                 Output Shape              Param #   \n",
            "=================================================================\n",
            "input_layer (Dense)          (None, 10)                20        \n",
            "_________________________________________________________________\n",
            "output_layer (Dense)         (None, 1)                 11        \n",
            "=================================================================\n",
            "Total params: 31\n",
            "Trainable params: 31\n",
            "Non-trainable params: 0\n",
            "_________________________________________________________________\n"
          ],
          "name": "stdout"
        }
      ]
    },
    {
      "cell_type": "code",
      "metadata": {
        "colab": {
          "base_uri": "https://localhost:8080/"
        },
        "id": "ig8PY7RQJMzm",
        "outputId": "d2dd80ce-1fec-4dbe-e307-bc071d0baac3"
      },
      "source": [
        "# Dense means fully connected neural network\n",
        "\n",
        "# Fitting\n",
        "\n",
        "model.fit(x_train,y_train,epochs = 100,verbose = 1)"
      ],
      "execution_count": null,
      "outputs": [
        {
          "output_type": "stream",
          "text": [
            "Epoch 1/100\n",
            "2/2 [==============================] - 0s 6ms/step - loss: 26.8627 - mae: 26.8627\n",
            "Epoch 2/100\n",
            "2/2 [==============================] - 0s 3ms/step - loss: 24.4175 - mae: 24.4175\n",
            "Epoch 3/100\n",
            "2/2 [==============================] - 0s 3ms/step - loss: 31.5187 - mae: 31.5187\n",
            "Epoch 4/100\n",
            "2/2 [==============================] - 0s 5ms/step - loss: 27.8490 - mae: 27.8490\n",
            "Epoch 5/100\n",
            "2/2 [==============================] - 0s 5ms/step - loss: 14.6465 - mae: 14.6465\n",
            "Epoch 6/100\n",
            "2/2 [==============================] - 0s 4ms/step - loss: 11.9682 - mae: 11.9682\n",
            "Epoch 7/100\n",
            "2/2 [==============================] - 0s 5ms/step - loss: 11.0874 - mae: 11.0874\n",
            "Epoch 8/100\n",
            "2/2 [==============================] - 0s 5ms/step - loss: 11.3978 - mae: 11.3978\n",
            "Epoch 9/100\n",
            "2/2 [==============================] - 0s 5ms/step - loss: 42.4087 - mae: 42.4087\n",
            "Epoch 10/100\n",
            "2/2 [==============================] - 0s 5ms/step - loss: 28.3537 - mae: 28.3537\n",
            "Epoch 11/100\n",
            "2/2 [==============================] - 0s 5ms/step - loss: 9.6590 - mae: 9.6590\n",
            "Epoch 12/100\n",
            "2/2 [==============================] - 0s 5ms/step - loss: 25.8820 - mae: 25.8820\n",
            "Epoch 13/100\n",
            "2/2 [==============================] - 0s 5ms/step - loss: 16.7682 - mae: 16.7682\n",
            "Epoch 14/100\n",
            "2/2 [==============================] - 0s 5ms/step - loss: 26.6019 - mae: 26.6019\n",
            "Epoch 15/100\n",
            "2/2 [==============================] - 0s 5ms/step - loss: 17.7361 - mae: 17.7361\n",
            "Epoch 16/100\n",
            "2/2 [==============================] - 0s 5ms/step - loss: 7.4550 - mae: 7.4550\n",
            "Epoch 17/100\n",
            "2/2 [==============================] - 0s 7ms/step - loss: 10.6974 - mae: 10.6974\n",
            "Epoch 18/100\n",
            "2/2 [==============================] - 0s 5ms/step - loss: 20.7691 - mae: 20.7691\n",
            "Epoch 19/100\n",
            "2/2 [==============================] - 0s 5ms/step - loss: 9.6535 - mae: 9.6535\n",
            "Epoch 20/100\n",
            "2/2 [==============================] - 0s 5ms/step - loss: 18.4600 - mae: 18.4600\n",
            "Epoch 21/100\n",
            "2/2 [==============================] - 0s 6ms/step - loss: 16.2352 - mae: 16.2352\n",
            "Epoch 22/100\n",
            "2/2 [==============================] - 0s 5ms/step - loss: 14.5012 - mae: 14.5012\n",
            "Epoch 23/100\n",
            "2/2 [==============================] - 0s 7ms/step - loss: 8.6493 - mae: 8.6493\n",
            "Epoch 24/100\n",
            "2/2 [==============================] - 0s 3ms/step - loss: 10.4430 - mae: 10.4430\n",
            "Epoch 25/100\n",
            "2/2 [==============================] - 0s 4ms/step - loss: 12.8060 - mae: 12.8060\n",
            "Epoch 26/100\n",
            "2/2 [==============================] - 0s 3ms/step - loss: 26.8011 - mae: 26.8011\n",
            "Epoch 27/100\n",
            "2/2 [==============================] - 0s 6ms/step - loss: 12.0333 - mae: 12.0333\n",
            "Epoch 28/100\n",
            "2/2 [==============================] - 0s 9ms/step - loss: 23.4573 - mae: 23.4573\n",
            "Epoch 29/100\n",
            "2/2 [==============================] - 0s 5ms/step - loss: 9.1266 - mae: 9.1266\n",
            "Epoch 30/100\n",
            "2/2 [==============================] - 0s 8ms/step - loss: 31.1804 - mae: 31.1804\n",
            "Epoch 31/100\n",
            "2/2 [==============================] - 0s 7ms/step - loss: 56.8211 - mae: 56.8211\n",
            "Epoch 32/100\n",
            "2/2 [==============================] - 0s 5ms/step - loss: 12.2909 - mae: 12.2909\n",
            "Epoch 33/100\n",
            "2/2 [==============================] - 0s 5ms/step - loss: 15.3304 - mae: 15.3304\n",
            "Epoch 34/100\n",
            "2/2 [==============================] - 0s 7ms/step - loss: 12.8145 - mae: 12.8145\n",
            "Epoch 35/100\n",
            "2/2 [==============================] - 0s 4ms/step - loss: 9.4721 - mae: 9.4721\n",
            "Epoch 36/100\n",
            "2/2 [==============================] - 0s 4ms/step - loss: 16.6526 - mae: 16.6526\n",
            "Epoch 37/100\n",
            "2/2 [==============================] - 0s 5ms/step - loss: 10.4634 - mae: 10.4634\n",
            "Epoch 38/100\n",
            "2/2 [==============================] - 0s 4ms/step - loss: 18.7760 - mae: 18.7760\n",
            "Epoch 39/100\n",
            "2/2 [==============================] - 0s 4ms/step - loss: 20.1198 - mae: 20.1198\n",
            "Epoch 40/100\n",
            "2/2 [==============================] - 0s 6ms/step - loss: 21.4944 - mae: 21.4944\n",
            "Epoch 41/100\n",
            "2/2 [==============================] - 0s 4ms/step - loss: 14.5667 - mae: 14.5667\n",
            "Epoch 42/100\n",
            "2/2 [==============================] - 0s 7ms/step - loss: 12.2999 - mae: 12.2999\n",
            "Epoch 43/100\n",
            "2/2 [==============================] - 0s 3ms/step - loss: 11.1115 - mae: 11.1115\n",
            "Epoch 44/100\n",
            "2/2 [==============================] - 0s 5ms/step - loss: 23.5895 - mae: 23.5895\n",
            "Epoch 45/100\n",
            "2/2 [==============================] - 0s 4ms/step - loss: 9.9461 - mae: 9.9461\n",
            "Epoch 46/100\n",
            "2/2 [==============================] - 0s 4ms/step - loss: 12.0273 - mae: 12.0273\n",
            "Epoch 47/100\n",
            "2/2 [==============================] - 0s 3ms/step - loss: 9.0557 - mae: 9.0557\n",
            "Epoch 48/100\n",
            "2/2 [==============================] - 0s 6ms/step - loss: 17.8711 - mae: 17.8711\n",
            "Epoch 49/100\n",
            "2/2 [==============================] - 0s 6ms/step - loss: 9.5485 - mae: 9.5485\n",
            "Epoch 50/100\n",
            "2/2 [==============================] - 0s 6ms/step - loss: 13.7912 - mae: 13.7912\n",
            "Epoch 51/100\n",
            "2/2 [==============================] - 0s 5ms/step - loss: 11.2969 - mae: 11.2969\n",
            "Epoch 52/100\n",
            "2/2 [==============================] - 0s 5ms/step - loss: 32.1753 - mae: 32.1753\n",
            "Epoch 53/100\n",
            "2/2 [==============================] - 0s 5ms/step - loss: 14.1257 - mae: 14.1257\n",
            "Epoch 54/100\n",
            "2/2 [==============================] - 0s 4ms/step - loss: 24.3921 - mae: 24.3921\n",
            "Epoch 55/100\n",
            "2/2 [==============================] - 0s 5ms/step - loss: 23.5967 - mae: 23.5967\n",
            "Epoch 56/100\n",
            "2/2 [==============================] - 0s 5ms/step - loss: 10.0101 - mae: 10.0101\n",
            "Epoch 57/100\n",
            "2/2 [==============================] - 0s 8ms/step - loss: 12.4333 - mae: 12.4333\n",
            "Epoch 58/100\n",
            "2/2 [==============================] - 0s 5ms/step - loss: 9.4491 - mae: 9.4491\n",
            "Epoch 59/100\n",
            "2/2 [==============================] - 0s 5ms/step - loss: 12.6438 - mae: 12.6438\n",
            "Epoch 60/100\n",
            "2/2 [==============================] - 0s 5ms/step - loss: 12.3168 - mae: 12.3168\n",
            "Epoch 61/100\n",
            "2/2 [==============================] - 0s 16ms/step - loss: 17.1832 - mae: 17.1832\n",
            "Epoch 62/100\n",
            "2/2 [==============================] - 0s 4ms/step - loss: 10.4860 - mae: 10.4860\n",
            "Epoch 63/100\n",
            "2/2 [==============================] - 0s 5ms/step - loss: 10.8072 - mae: 10.8072\n",
            "Epoch 64/100\n",
            "2/2 [==============================] - 0s 4ms/step - loss: 25.2892 - mae: 25.2892\n",
            "Epoch 65/100\n",
            "2/2 [==============================] - 0s 4ms/step - loss: 10.7923 - mae: 10.7923\n",
            "Epoch 66/100\n",
            "2/2 [==============================] - 0s 4ms/step - loss: 22.0328 - mae: 22.0328\n",
            "Epoch 67/100\n",
            "2/2 [==============================] - 0s 5ms/step - loss: 10.6505 - mae: 10.6505\n",
            "Epoch 68/100\n",
            "2/2 [==============================] - 0s 5ms/step - loss: 10.8455 - mae: 10.8455\n",
            "Epoch 69/100\n",
            "2/2 [==============================] - 0s 5ms/step - loss: 23.0960 - mae: 23.0960\n",
            "Epoch 70/100\n",
            "2/2 [==============================] - 0s 5ms/step - loss: 8.7402 - mae: 8.7402\n",
            "Epoch 71/100\n",
            "2/2 [==============================] - 0s 4ms/step - loss: 15.8968 - mae: 15.8968\n",
            "Epoch 72/100\n",
            "2/2 [==============================] - 0s 5ms/step - loss: 6.7092 - mae: 6.7092\n",
            "Epoch 73/100\n",
            "2/2 [==============================] - 0s 4ms/step - loss: 10.6475 - mae: 10.6475\n",
            "Epoch 74/100\n",
            "2/2 [==============================] - 0s 7ms/step - loss: 24.6152 - mae: 24.6152\n",
            "Epoch 75/100\n",
            "2/2 [==============================] - 0s 7ms/step - loss: 8.7602 - mae: 8.7602\n",
            "Epoch 76/100\n",
            "2/2 [==============================] - 0s 6ms/step - loss: 11.9799 - mae: 11.9799\n",
            "Epoch 77/100\n",
            "2/2 [==============================] - 0s 5ms/step - loss: 16.6488 - mae: 16.6488\n",
            "Epoch 78/100\n",
            "2/2 [==============================] - 0s 5ms/step - loss: 9.2784 - mae: 9.2784\n",
            "Epoch 79/100\n",
            "2/2 [==============================] - 0s 5ms/step - loss: 24.4604 - mae: 24.4604\n",
            "Epoch 80/100\n",
            "2/2 [==============================] - 0s 7ms/step - loss: 27.4405 - mae: 27.4405\n",
            "Epoch 81/100\n",
            "2/2 [==============================] - 0s 6ms/step - loss: 11.7139 - mae: 11.7139\n",
            "Epoch 82/100\n",
            "2/2 [==============================] - 0s 5ms/step - loss: 11.6757 - mae: 11.6757\n",
            "Epoch 83/100\n",
            "2/2 [==============================] - 0s 4ms/step - loss: 17.9045 - mae: 17.9045\n",
            "Epoch 84/100\n",
            "2/2 [==============================] - 0s 5ms/step - loss: 7.0376 - mae: 7.0376\n",
            "Epoch 85/100\n",
            "2/2 [==============================] - 0s 5ms/step - loss: 15.1558 - mae: 15.1558\n",
            "Epoch 86/100\n",
            "2/2 [==============================] - 0s 3ms/step - loss: 15.1583 - mae: 15.1583\n",
            "Epoch 87/100\n",
            "2/2 [==============================] - 0s 4ms/step - loss: 19.8683 - mae: 19.8683\n",
            "Epoch 88/100\n",
            "2/2 [==============================] - 0s 5ms/step - loss: 30.7657 - mae: 30.7657\n",
            "Epoch 89/100\n",
            "2/2 [==============================] - 0s 4ms/step - loss: 9.7059 - mae: 9.7059\n",
            "Epoch 90/100\n",
            "2/2 [==============================] - 0s 5ms/step - loss: 21.5531 - mae: 21.5531\n",
            "Epoch 91/100\n",
            "2/2 [==============================] - 0s 3ms/step - loss: 9.5827 - mae: 9.5827\n",
            "Epoch 92/100\n",
            "2/2 [==============================] - 0s 7ms/step - loss: 18.2158 - mae: 18.2158\n",
            "Epoch 93/100\n",
            "2/2 [==============================] - 0s 4ms/step - loss: 7.1935 - mae: 7.1935\n",
            "Epoch 94/100\n",
            "2/2 [==============================] - 0s 5ms/step - loss: 17.4261 - mae: 17.4261\n",
            "Epoch 95/100\n",
            "2/2 [==============================] - 0s 5ms/step - loss: 11.1722 - mae: 11.1722\n",
            "Epoch 96/100\n",
            "2/2 [==============================] - 0s 6ms/step - loss: 18.9207 - mae: 18.9207\n",
            "Epoch 97/100\n",
            "2/2 [==============================] - 0s 6ms/step - loss: 12.2012 - mae: 12.2012\n",
            "Epoch 98/100\n",
            "2/2 [==============================] - 0s 4ms/step - loss: 11.2931 - mae: 11.2931\n",
            "Epoch 99/100\n",
            "2/2 [==============================] - 0s 6ms/step - loss: 13.4563 - mae: 13.4563\n",
            "Epoch 100/100\n",
            "2/2 [==============================] - 0s 3ms/step - loss: 20.1754 - mae: 20.1754\n"
          ],
          "name": "stdout"
        },
        {
          "output_type": "execute_result",
          "data": {
            "text/plain": [
              "<tensorflow.python.keras.callbacks.History at 0x7f81d11664d0>"
            ]
          },
          "metadata": {
            "tags": []
          },
          "execution_count": 103
        }
      ]
    },
    {
      "cell_type": "code",
      "metadata": {
        "colab": {
          "base_uri": "https://localhost:8080/",
          "height": 312
        },
        "id": "HI1M9H5AKkO0",
        "outputId": "a4a9f0b6-ccdf-4e6f-d9be-5ccaf8cceb33"
      },
      "source": [
        "# plotting the model\n",
        "\n",
        "from tensorflow.keras.utils import plot_model\n",
        "\n",
        "plot_model(model = model , show_shapes = True)"
      ],
      "execution_count": null,
      "outputs": [
        {
          "output_type": "execute_result",
          "data": {
            "image/png": "[encoded data removed]",
            "text/plain": [
              "<IPython.core.display.Image object>"
            ]
          },
          "metadata": {
            "tags": []
          },
          "execution_count": 104
        }
      ]
    },
    {
      "cell_type": "code",
      "metadata": {
        "colab": {
          "base_uri": "https://localhost:8080/"
        },
        "id": "B2q09EH8LlEk",
        "outputId": "282b21c6-cfd4-456f-9a2b-75e896d38387"
      },
      "source": [
        "# Visualizing predictions\n",
        "\n",
        "y_pred = model.predict(x_test)\n",
        "y_pred,y_test"
      ],
      "execution_count": null,
      "outputs": [
        {
          "output_type": "stream",
          "text": [
            "WARNING:tensorflow:11 out of the last 11 calls to <function Model.make_predict_function.<locals>.predict_function at 0x7f81d3491680> triggered tf.function retracing. Tracing is expensive and the excessive number of tracings could be due to (1) creating @tf.function repeatedly in a loop, (2) passing tensors with different shapes, (3) passing Python objects instead of tensors. For (1), please define your @tf.function outside of the loop. For (2), @tf.function has experimental_relax_shapes=True option that relaxes argument shapes that can avoid unnecessary retracing. For (3), please refer to https://www.tensorflow.org/guide/function#controlling_retracing and https://www.tensorflow.org/api_docs/python/tf/function for  more details.\n"
          ],
          "name": "stdout"
        },
        {
          "output_type": "execute_result",
          "data": {
            "text/plain": [
              "(array([[ 70.55219 ],\n",
              "        [ 75.139915],\n",
              "        [ 79.72764 ],\n",
              "        [ 84.31536 ],\n",
              "        [ 88.90308 ],\n",
              "        [ 93.49081 ],\n",
              "        [ 98.07853 ],\n",
              "        [102.66626 ],\n",
              "        [107.253975],\n",
              "        [111.841705]], dtype=float32),\n",
              " <tf.Tensor: shape=(10,), dtype=int32, numpy=array([ 70,  74,  78,  82,  86,  90,  94,  98, 102, 106], dtype=int32)>)"
            ]
          },
          "metadata": {
            "tags": []
          },
          "execution_count": 105
        }
      ]
    },
    {
      "cell_type": "code",
      "metadata": {
        "id": "cU-KShuWM7GB"
      },
      "source": [
        "def plot_preds(x_train,y_train,x_test,y_test,y_pred):\n",
        "  plt.figure(figsize=(10,7))\n",
        "\n",
        "  plt.scatter(x_train,y_train,c='b',label = 'Training data')\n",
        "\n",
        "  plt.scatter(x_test,y_test,c='g',label = 'Testing data')\n",
        "\n",
        "  plt.scatter(x_test,y_pred,c='r',label = 'Predictions')\n",
        "\n",
        "  plt.legend()"
      ],
      "execution_count": null,
      "outputs": []
    },
    {
      "cell_type": "code",
      "metadata": {
        "colab": {
          "base_uri": "https://localhost:8080/",
          "height": 428
        },
        "id": "IvsdkSudZ-lp",
        "outputId": "d36ee6f3-1660-42a5-876d-03f21cbf17f3"
      },
      "source": [
        "plot_preds(x_train,y_train,x_test,y_test,y_pred)"
      ],
      "execution_count": null,
      "outputs": [
        {
          "output_type": "display_data",
          "data": {
            "image/png": "[encoded data removed]",
            "text/plain": [
              "<Figure size 720x504 with 1 Axes>"
            ]
          },
          "metadata": {
            "tags": [],
            "needs_background": "light"
          }
        }
      ]
    },
    {
      "cell_type": "markdown",
      "metadata": {
        "id": "y7nXo2CKaCqE"
      },
      "source": [
        "### Evaluating our model's predicitons with regression evaluation metrics"
      ]
    },
    {
      "cell_type": "markdown",
      "metadata": {
        "id": "ZTtmF05FcJwm"
      },
      "source": [
        "##### Two of the main metrics are:- \n",
        " * mae\n",
        " * mse\n",
        " * huber"
      ]
    },
    {
      "cell_type": "markdown",
      "metadata": {
        "id": "CaMZfrzWcUcy"
      },
      "source": [
        "![image.png](data:image/png;base64,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)"
      ]
    },
    {
      "cell_type": "markdown",
      "metadata": {
        "id": "Ve4kY4-tc0VQ"
      },
      "source": [
        "![image.png](data:image/png;base64,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)"
      ]
    },
    {
      "cell_type": "markdown",
      "metadata": {
        "id": "jl4GvzfmdEXT"
      },
      "source": [
        "![image.png](data:image/png;base64,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)"
      ]
    },
    {
      "cell_type": "code",
      "metadata": {
        "colab": {
          "base_uri": "https://localhost:8080/"
        },
        "id": "hP7IAkTudjfa",
        "outputId": "561b03c3-a5ae-4042-85db-9082a0d65cef"
      },
      "source": [
        "# Evaluating the model\n",
        "\n",
        "model.evaluate(x_test,y_test)"
      ],
      "execution_count": null,
      "outputs": [
        {
          "output_type": "stream",
          "text": [
            "1/1 [==============================] - 0s 107ms/step - loss: 3.1969 - mae: 3.1969\n"
          ],
          "name": "stdout"
        },
        {
          "output_type": "execute_result",
          "data": {
            "text/plain": [
              "[3.196946620941162, 3.196946620941162]"
            ]
          },
          "metadata": {
            "tags": []
          },
          "execution_count": 109
        }
      ]
    },
    {
      "cell_type": "code",
      "metadata": {
        "colab": {
          "base_uri": "https://localhost:8080/"
        },
        "id": "WKbNngJkd5Nj",
        "outputId": "7e78b09f-e3c9-432d-84d9-9c52356f99dc"
      },
      "source": [
        "# calculating mean absolute error\n",
        "\n",
        "tf.keras.losses.MAE(y_test,y_pred)"
      ],
      "execution_count": null,
      "outputs": [
        {
          "output_type": "execute_result",
          "data": {
            "text/plain": [
              "<tf.Tensor: shape=(10,), dtype=float32, numpy=\n",
              "array([17.558247, 14.116051, 11.708944, 10.336927, 10.      , 10.698161,\n",
              "       12.447118, 15.333008, 19.253975, 23.841705], dtype=float32)>"
            ]
          },
          "metadata": {
            "tags": []
          },
          "execution_count": 111
        }
      ]
    },
    {
      "cell_type": "code",
      "metadata": {
        "id": "ngAzQTiNeRnD"
      },
      "source": [
        "# we expeccted mae = 3.1969 but we're getting an array.\n",
        "\n",
        "# The reason is the shape of both y_test and y_pred are not the same"
      ],
      "execution_count": null,
      "outputs": []
    },
    {
      "cell_type": "code",
      "metadata": {
        "id": "ZWCONpVGe8Xf"
      },
      "source": [
        "y_pred = tf.constant(y_pred)"
      ],
      "execution_count": null,
      "outputs": []
    },
    {
      "cell_type": "code",
      "metadata": {
        "colab": {
          "base_uri": "https://localhost:8080/"
        },
        "id": "AS8AxSNvfCf5",
        "outputId": "647daf5f-e5b5-4885-d286-52f707832c9e"
      },
      "source": [
        "y_test.shape , y_pred.shape"
      ],
      "execution_count": null,
      "outputs": [
        {
          "output_type": "execute_result",
          "data": {
            "text/plain": [
              "(TensorShape([10]), TensorShape([10, 1]))"
            ]
          },
          "metadata": {
            "tags": []
          },
          "execution_count": 115
        }
      ]
    },
    {
      "cell_type": "code",
      "metadata": {
        "colab": {
          "base_uri": "https://localhost:8080/"
        },
        "id": "fYy0xcYLfEmT",
        "outputId": "4fbfa251-1563-494b-afb2-164c210b3de2"
      },
      "source": [
        "# squeezing - getting rid of 1 - dim\n",
        "\n",
        "tf.squeeze(y_pred)"
      ],
      "execution_count": null,
      "outputs": [
        {
          "output_type": "execute_result",
          "data": {
            "text/plain": [
              "<tf.Tensor: shape=(10,), dtype=float32, numpy=\n",
              "array([ 70.55219 ,  75.139915,  79.72764 ,  84.31536 ,  88.90308 ,\n",
              "        93.49081 ,  98.07853 , 102.66626 , 107.253975, 111.841705],\n",
              "      dtype=float32)>"
            ]
          },
          "metadata": {
            "tags": []
          },
          "execution_count": 116
        }
      ]
    },
    {
      "cell_type": "code",
      "metadata": {
        "colab": {
          "base_uri": "https://localhost:8080/"
        },
        "id": "xxvEmkQ8fPS9",
        "outputId": "b0d01623-ee19-4e3a-b8da-b81a1f51aa18"
      },
      "source": [
        "mae = tf.keras.losses.MAE(y_test,tf.squeeze(y_pred))\n",
        "\n",
        "mae"
      ],
      "execution_count": null,
      "outputs": [
        {
          "output_type": "execute_result",
          "data": {
            "text/plain": [
              "<tf.Tensor: shape=(), dtype=float32, numpy=3.1969466>"
            ]
          },
          "metadata": {
            "tags": []
          },
          "execution_count": 119
        }
      ]
    },
    {
      "cell_type": "code",
      "metadata": {
        "colab": {
          "base_uri": "https://localhost:8080/"
        },
        "id": "XvSKOncQfcs9",
        "outputId": "58f74c03-0b7a-4114-a41b-b92ae36f59a7"
      },
      "source": [
        "# Calculating the mean square error\n",
        "\n",
        "mse = tf.keras.losses.MSE(y_test , tf.squeeze(y_pred))\n",
        "\n",
        "mse"
      ],
      "execution_count": null,
      "outputs": [
        {
          "output_type": "execute_result",
          "data": {
            "text/plain": [
              "<tf.Tensor: shape=(), dtype=float32, numpy=13.070175>"
            ]
          },
          "metadata": {
            "tags": []
          },
          "execution_count": 120
        }
      ]
    },
    {
      "cell_type": "code",
      "metadata": {
        "id": "nMPuiCXkmdC2"
      },
      "source": [
        "def mae(y_test,y_pred):\n",
        "  m_a_e = tf.keras.losses.MAE(y_test,tf.squeeze(y_pred))\n",
        "  return m_a_e\n",
        "\n",
        "def mse(y_test,y_pred):\n",
        "  m_s_e = tf.keras.losses.MSE(y_test , tf.squeeze(y_pred))\n",
        "  return m_s_e"
      ],
      "execution_count": null,
      "outputs": []
    },
    {
      "cell_type": "markdown",
      "metadata": {
        "id": "i8JBNZeqfx4t"
      },
      "source": [
        "# Running experiments to improve our model"
      ]
    },
    {
      "cell_type": "markdown",
      "metadata": {
        "id": "boA5gMkxgVyG"
      },
      "source": [
        " ##### Lets try 3 models\n",
        "\n",
        " * model1 - 1 layer , trained for 100 epochs\n",
        "\n",
        " * model2 - 2 layers , trained for 100 epochs\n",
        "\n",
        " * model3 - 2 layers , trained for 500 epochs"
      ]
    },
    {
      "cell_type": "markdown",
      "metadata": {
        "id": "CjCBATMUnMM3"
      },
      "source": [
        "### MODEL-1"
      ]
    },
    {
      "cell_type": "code",
      "metadata": {
        "colab": {
          "base_uri": "https://localhost:8080/"
        },
        "id": "4kGgK-MmlVuu",
        "outputId": "92d8f132-2d84-47e1-810a-6766db4ac6c3"
      },
      "source": [
        "tf.random.set_seed(42)\n",
        "\n",
        "\n",
        "# creating the model\n",
        "\n",
        "model1 = tf.keras.Sequential([\n",
        "      tf.keras.layers.Dense(1)\n",
        "])\n",
        "\n",
        "# compile\n",
        "\n",
        "model1.compile(loss = tf.keras.losses.mae,\n",
        "               optimizer = tf.keras.optimizers.SGD(),\n",
        "               metrics = [\"mae\"])\n",
        "\n",
        "# fit\n",
        "\n",
        "model1.fit(x_train,y_train , epochs = 100)"
      ],
      "execution_count": null,
      "outputs": [
        {
          "output_type": "stream",
          "text": [
            "Epoch 1/100\n",
            "2/2 [==============================] - 0s 5ms/step - loss: 16.4124 - mae: 16.4124\n",
            "Epoch 2/100\n",
            "2/2 [==============================] - 0s 5ms/step - loss: 11.0829 - mae: 11.0829\n",
            "Epoch 3/100\n",
            "2/2 [==============================] - 0s 5ms/step - loss: 11.1242 - mae: 11.1242\n",
            "Epoch 4/100\n",
            "2/2 [==============================] - 0s 3ms/step - loss: 8.6945 - mae: 8.6945\n",
            "Epoch 5/100\n",
            "2/2 [==============================] - 0s 4ms/step - loss: 9.8003 - mae: 9.8003\n",
            "Epoch 6/100\n",
            "2/2 [==============================] - 0s 3ms/step - loss: 9.5263 - mae: 9.5263\n",
            "Epoch 7/100\n",
            "2/2 [==============================] - 0s 4ms/step - loss: 8.4102 - mae: 8.4102\n",
            "Epoch 8/100\n",
            "2/2 [==============================] - 0s 9ms/step - loss: 9.1449 - mae: 9.1449\n",
            "Epoch 9/100\n",
            "2/2 [==============================] - 0s 5ms/step - loss: 19.4932 - mae: 19.4932\n",
            "Epoch 10/100\n",
            "2/2 [==============================] - 0s 5ms/step - loss: 9.6061 - mae: 9.6061\n",
            "Epoch 11/100\n",
            "2/2 [==============================] - 0s 5ms/step - loss: 8.5992 - mae: 8.5992\n",
            "Epoch 12/100\n",
            "2/2 [==============================] - 0s 5ms/step - loss: 10.9324 - mae: 10.9324\n",
            "Epoch 13/100\n",
            "2/2 [==============================] - 0s 5ms/step - loss: 10.0574 - mae: 10.0574\n",
            "Epoch 14/100\n",
            "2/2 [==============================] - 0s 5ms/step - loss: 16.5679 - mae: 16.5679\n",
            "Epoch 15/100\n",
            "2/2 [==============================] - 0s 5ms/step - loss: 11.4537 - mae: 11.4537\n",
            "Epoch 16/100\n",
            "2/2 [==============================] - 0s 5ms/step - loss: 8.4056 - mae: 8.4056\n",
            "Epoch 17/100\n",
            "2/2 [==============================] - 0s 5ms/step - loss: 13.8417 - mae: 13.8417\n",
            "Epoch 18/100\n",
            "2/2 [==============================] - 0s 5ms/step - loss: 11.6621 - mae: 11.6621\n",
            "Epoch 19/100\n",
            "2/2 [==============================] - 0s 5ms/step - loss: 18.7623 - mae: 18.7623\n",
            "Epoch 20/100\n",
            "2/2 [==============================] - 0s 6ms/step - loss: 15.5702 - mae: 15.5702\n",
            "Epoch 21/100\n",
            "2/2 [==============================] - 0s 6ms/step - loss: 10.9959 - mae: 10.9959\n",
            "Epoch 22/100\n",
            "2/2 [==============================] - 0s 5ms/step - loss: 8.0023 - mae: 8.0023\n",
            "Epoch 23/100\n",
            "2/2 [==============================] - 0s 5ms/step - loss: 9.8593 - mae: 9.8593\n",
            "Epoch 24/100\n",
            "2/2 [==============================] - 0s 5ms/step - loss: 7.5796 - mae: 7.5796\n",
            "Epoch 25/100\n",
            "2/2 [==============================] - 0s 7ms/step - loss: 13.7226 - mae: 13.7226\n",
            "Epoch 26/100\n",
            "2/2 [==============================] - 0s 7ms/step - loss: 17.1740 - mae: 17.1740\n",
            "Epoch 27/100\n",
            "2/2 [==============================] - 0s 5ms/step - loss: 13.4233 - mae: 13.4233\n",
            "Epoch 28/100\n",
            "2/2 [==============================] - 0s 5ms/step - loss: 14.5473 - mae: 14.5473\n",
            "Epoch 29/100\n",
            "2/2 [==============================] - 0s 5ms/step - loss: 9.8753 - mae: 9.8753\n",
            "Epoch 30/100\n",
            "2/2 [==============================] - 0s 5ms/step - loss: 17.1187 - mae: 17.1187\n",
            "Epoch 31/100\n",
            "2/2 [==============================] - 0s 5ms/step - loss: 24.5949 - mae: 24.5949\n",
            "Epoch 32/100\n",
            "2/2 [==============================] - 0s 5ms/step - loss: 7.6765 - mae: 7.6765\n",
            "Epoch 33/100\n",
            "2/2 [==============================] - 0s 5ms/step - loss: 9.2971 - mae: 9.2971\n",
            "Epoch 34/100\n",
            "2/2 [==============================] - 0s 5ms/step - loss: 14.1703 - mae: 14.1703\n",
            "Epoch 35/100\n",
            "2/2 [==============================] - 0s 3ms/step - loss: 10.8635 - mae: 10.8635\n",
            "Epoch 36/100\n",
            "2/2 [==============================] - 0s 5ms/step - loss: 13.5689 - mae: 13.5689\n",
            "Epoch 37/100\n",
            "2/2 [==============================] - 0s 6ms/step - loss: 9.3448 - mae: 9.3448\n",
            "Epoch 38/100\n",
            "2/2 [==============================] - 0s 8ms/step - loss: 10.4804 - mae: 10.4804\n",
            "Epoch 39/100\n",
            "2/2 [==============================] - 0s 7ms/step - loss: 10.0178 - mae: 10.0178\n",
            "Epoch 40/100\n",
            "2/2 [==============================] - 0s 5ms/step - loss: 10.8005 - mae: 10.8005\n",
            "Epoch 41/100\n",
            "2/2 [==============================] - 0s 7ms/step - loss: 7.7789 - mae: 7.7789\n",
            "Epoch 42/100\n",
            "2/2 [==============================] - 0s 4ms/step - loss: 10.2844 - mae: 10.2844\n",
            "Epoch 43/100\n",
            "2/2 [==============================] - 0s 5ms/step - loss: 8.9628 - mae: 8.9628\n",
            "Epoch 44/100\n",
            "2/2 [==============================] - 0s 7ms/step - loss: 12.6243 - mae: 12.6243\n",
            "Epoch 45/100\n",
            "2/2 [==============================] - 0s 5ms/step - loss: 14.1236 - mae: 14.1236\n",
            "Epoch 46/100\n",
            "2/2 [==============================] - 0s 8ms/step - loss: 8.2681 - mae: 8.2681\n",
            "Epoch 47/100\n",
            "2/2 [==============================] - 0s 3ms/step - loss: 9.0126 - mae: 9.0126\n",
            "Epoch 48/100\n",
            "2/2 [==============================] - 0s 5ms/step - loss: 10.6882 - mae: 10.6882\n",
            "Epoch 49/100\n",
            "2/2 [==============================] - 0s 5ms/step - loss: 7.7431 - mae: 7.7431\n",
            "Epoch 50/100\n",
            "2/2 [==============================] - 0s 4ms/step - loss: 9.3950 - mae: 9.3950\n",
            "Epoch 51/100\n",
            "2/2 [==============================] - 0s 10ms/step - loss: 8.9267 - mae: 8.9267\n",
            "Epoch 52/100\n",
            "2/2 [==============================] - 0s 4ms/step - loss: 16.9818 - mae: 16.9818\n",
            "Epoch 53/100\n",
            "2/2 [==============================] - 0s 4ms/step - loss: 14.8677 - mae: 14.8677\n",
            "Epoch 54/100\n",
            "2/2 [==============================] - 0s 3ms/step - loss: 22.0413 - mae: 22.0413\n",
            "Epoch 55/100\n",
            "2/2 [==============================] - 0s 4ms/step - loss: 17.0640 - mae: 17.0640\n",
            "Epoch 56/100\n",
            "2/2 [==============================] - 0s 4ms/step - loss: 9.9520 - mae: 9.9520\n",
            "Epoch 57/100\n",
            "2/2 [==============================] - 0s 5ms/step - loss: 9.7522 - mae: 9.7522\n",
            "Epoch 58/100\n",
            "2/2 [==============================] - 0s 5ms/step - loss: 9.4378 - mae: 9.4378\n",
            "Epoch 59/100\n",
            "2/2 [==============================] - 0s 4ms/step - loss: 8.3373 - mae: 8.3373\n",
            "Epoch 60/100\n",
            "2/2 [==============================] - 0s 4ms/step - loss: 9.6425 - mae: 9.6425\n",
            "Epoch 61/100\n",
            "2/2 [==============================] - 0s 4ms/step - loss: 11.7590 - mae: 11.7590\n",
            "Epoch 62/100\n",
            "2/2 [==============================] - 0s 5ms/step - loss: 11.7187 - mae: 11.7187\n",
            "Epoch 63/100\n",
            "2/2 [==============================] - 0s 5ms/step - loss: 7.2316 - mae: 7.2316\n",
            "Epoch 64/100\n",
            "2/2 [==============================] - 0s 4ms/step - loss: 17.7848 - mae: 17.7848\n",
            "Epoch 65/100\n",
            "2/2 [==============================] - 0s 4ms/step - loss: 12.6255 - mae: 12.6255\n",
            "Epoch 66/100\n",
            "2/2 [==============================] - 0s 5ms/step - loss: 13.2840 - mae: 13.2840\n",
            "Epoch 67/100\n",
            "2/2 [==============================] - 0s 4ms/step - loss: 7.8471 - mae: 7.8471\n",
            "Epoch 68/100\n",
            "2/2 [==============================] - 0s 10ms/step - loss: 9.9708 - mae: 9.9708\n",
            "Epoch 69/100\n",
            "2/2 [==============================] - 0s 5ms/step - loss: 12.4903 - mae: 12.4903\n",
            "Epoch 70/100\n",
            "2/2 [==============================] - 0s 3ms/step - loss: 8.5001 - mae: 8.5001\n",
            "Epoch 71/100\n",
            "2/2 [==============================] - 0s 5ms/step - loss: 9.9996 - mae: 9.9996\n",
            "Epoch 72/100\n",
            "2/2 [==============================] - 0s 3ms/step - loss: 10.1797 - mae: 10.1797\n",
            "Epoch 73/100\n",
            "2/2 [==============================] - 0s 7ms/step - loss: 13.0024 - mae: 13.0024\n",
            "Epoch 74/100\n",
            "2/2 [==============================] - 0s 5ms/step - loss: 10.3812 - mae: 10.3812\n",
            "Epoch 75/100\n",
            "2/2 [==============================] - 0s 6ms/step - loss: 9.7621 - mae: 9.7621\n",
            "Epoch 76/100\n",
            "2/2 [==============================] - 0s 3ms/step - loss: 11.5186 - mae: 11.5186\n",
            "Epoch 77/100\n",
            "2/2 [==============================] - 0s 8ms/step - loss: 8.3070 - mae: 8.3070\n",
            "Epoch 78/100\n",
            "2/2 [==============================] - 0s 5ms/step - loss: 9.4436 - mae: 9.4436\n",
            "Epoch 79/100\n",
            "2/2 [==============================] - 0s 6ms/step - loss: 20.3897 - mae: 20.3897\n",
            "Epoch 80/100\n",
            "2/2 [==============================] - 0s 4ms/step - loss: 15.4751 - mae: 15.4751\n",
            "Epoch 81/100\n",
            "2/2 [==============================] - 0s 4ms/step - loss: 9.0208 - mae: 9.0208\n",
            "Epoch 82/100\n",
            "2/2 [==============================] - 0s 4ms/step - loss: 13.3869 - mae: 13.3869\n",
            "Epoch 83/100\n",
            "2/2 [==============================] - 0s 5ms/step - loss: 7.9649 - mae: 7.9649\n",
            "Epoch 84/100\n",
            "2/2 [==============================] - 0s 5ms/step - loss: 7.5702 - mae: 7.5702\n",
            "Epoch 85/100\n",
            "2/2 [==============================] - 0s 4ms/step - loss: 9.9706 - mae: 9.9706\n",
            "Epoch 86/100\n",
            "2/2 [==============================] - 0s 5ms/step - loss: 9.0533 - mae: 9.0533\n",
            "Epoch 87/100\n",
            "2/2 [==============================] - 0s 4ms/step - loss: 12.2670 - mae: 12.2670\n",
            "Epoch 88/100\n",
            "2/2 [==============================] - 0s 5ms/step - loss: 10.6052 - mae: 10.6052\n",
            "Epoch 89/100\n",
            "2/2 [==============================] - 0s 4ms/step - loss: 7.1986 - mae: 7.1986\n",
            "Epoch 90/100\n",
            "2/2 [==============================] - 0s 10ms/step - loss: 13.0379 - mae: 13.0379\n",
            "Epoch 91/100\n",
            "2/2 [==============================] - 0s 4ms/step - loss: 7.1968 - mae: 7.1968\n",
            "Epoch 92/100\n",
            "2/2 [==============================] - 0s 5ms/step - loss: 7.5386 - mae: 7.5386\n",
            "Epoch 93/100\n",
            "2/2 [==============================] - 0s 5ms/step - loss: 7.0932 - mae: 7.0932\n",
            "Epoch 94/100\n",
            "2/2 [==============================] - 0s 5ms/step - loss: 12.8860 - mae: 12.8860\n",
            "Epoch 95/100\n",
            "2/2 [==============================] - 0s 5ms/step - loss: 9.9620 - mae: 9.9620\n",
            "Epoch 96/100\n",
            "2/2 [==============================] - 0s 5ms/step - loss: 8.7739 - mae: 8.7739\n",
            "Epoch 97/100\n",
            "2/2 [==============================] - 0s 5ms/step - loss: 13.0861 - mae: 13.0861\n",
            "Epoch 98/100\n",
            "2/2 [==============================] - 0s 5ms/step - loss: 8.3848 - mae: 8.3848\n",
            "Epoch 99/100\n",
            "2/2 [==============================] - 0s 5ms/step - loss: 9.7828 - mae: 9.7828\n",
            "Epoch 100/100\n",
            "2/2 [==============================] - 0s 4ms/step - loss: 8.5252 - mae: 8.5252\n"
          ],
          "name": "stdout"
        },
        {
          "output_type": "execute_result",
          "data": {
            "text/plain": [
              "<tensorflow.python.keras.callbacks.History at 0x7f81d3cff290>"
            ]
          },
          "metadata": {
            "tags": []
          },
          "execution_count": 122
        }
      ]
    },
    {
      "cell_type": "code",
      "metadata": {
        "colab": {
          "base_uri": "https://localhost:8080/",
          "height": 428
        },
        "id": "dE8--kH3l-Ba",
        "outputId": "141f69b1-9498-48b0-90e3-a90adcbdcc97"
      },
      "source": [
        "# model1 results \n",
        "\n",
        "y_pred1 = model1.predict(x_test)\n",
        "\n",
        "plot_preds(x_train,y_train,x_test,y_test,y_pred1)"
      ],
      "execution_count": null,
      "outputs": [
        {
          "output_type": "display_data",
          "data": {
            "image/png": "[encoded data removed]",
            "text/plain": [
              "<Figure size 720x504 with 1 Axes>"
            ]
          },
          "metadata": {
            "tags": [],
            "needs_background": "light"
          }
        }
      ]
    },
    {
      "cell_type": "code",
      "metadata": {
        "colab": {
          "base_uri": "https://localhost:8080/"
        },
        "id": "lnfPZHuQmQlI",
        "outputId": "71649290-93a4-463c-bee6-c9171e983286"
      },
      "source": [
        "# seeing evaluation metrics\n",
        "\n",
        "mae1 = mae(y_test , y_pred1)\n",
        "\n",
        "mse1 = mse(y_test , y_pred1)\n",
        "\n",
        "mae1,mse1"
      ],
      "execution_count": null,
      "outputs": [
        {
          "output_type": "execute_result",
          "data": {
            "text/plain": [
              "(<tf.Tensor: shape=(), dtype=float32, numpy=18.745327>,\n",
              " <tf.Tensor: shape=(), dtype=float32, numpy=353.5734>)"
            ]
          },
          "metadata": {
            "tags": []
          },
          "execution_count": 126
        }
      ]
    },
    {
      "cell_type": "markdown",
      "metadata": {
        "id": "0l6G04KjnBHd"
      },
      "source": [
        "### Model-2"
      ]
    },
    {
      "cell_type": "code",
      "metadata": {
        "colab": {
          "base_uri": "https://localhost:8080/"
        },
        "id": "7CUK739ZnQky",
        "outputId": "532d1fa4-a589-4ae1-abc6-123a84e775d1"
      },
      "source": [
        "tf.random.set_seed(42)\n",
        "\n",
        "# creating the model\n",
        "model2 = tf.keras.Sequential([\n",
        "    tf.keras.layers.Dense(10,name = 'input_layer'),\n",
        "    tf.keras.layers.Dense(1,name = 'output_layer')\n",
        "])\n",
        "\n",
        "# compiling \n",
        "\n",
        "model2.compile(loss = tf.keras.losses.mae,\n",
        "               optimizer = tf.keras.optimizers.SGD(),\n",
        "               metrics = [\"mae\"])\n",
        "\n",
        "# fit\n",
        "\n",
        "model2.fit(x_train,y_train,epochs =100)"
      ],
      "execution_count": null,
      "outputs": [
        {
          "output_type": "stream",
          "text": [
            "Epoch 1/100\n",
            "2/2 [==============================] - 0s 6ms/step - loss: 26.8627 - mae: 26.8627\n",
            "Epoch 2/100\n",
            "2/2 [==============================] - 0s 3ms/step - loss: 24.4175 - mae: 24.4175\n",
            "Epoch 3/100\n",
            "2/2 [==============================] - 0s 3ms/step - loss: 31.5187 - mae: 31.5187\n",
            "Epoch 4/100\n",
            "2/2 [==============================] - 0s 8ms/step - loss: 27.8490 - mae: 27.8490\n",
            "Epoch 5/100\n",
            "2/2 [==============================] - 0s 5ms/step - loss: 14.6465 - mae: 14.6465\n",
            "Epoch 6/100\n",
            "2/2 [==============================] - 0s 4ms/step - loss: 11.9682 - mae: 11.9682\n",
            "Epoch 7/100\n",
            "2/2 [==============================] - 0s 5ms/step - loss: 11.0874 - mae: 11.0874\n",
            "Epoch 8/100\n",
            "2/2 [==============================] - 0s 5ms/step - loss: 11.3978 - mae: 11.3978\n",
            "Epoch 9/100\n",
            "2/2 [==============================] - 0s 4ms/step - loss: 42.4087 - mae: 42.4087\n",
            "Epoch 10/100\n",
            "2/2 [==============================] - 0s 5ms/step - loss: 28.3537 - mae: 28.3537\n",
            "Epoch 11/100\n",
            "2/2 [==============================] - 0s 5ms/step - loss: 9.6590 - mae: 9.6590\n",
            "Epoch 12/100\n",
            "2/2 [==============================] - 0s 6ms/step - loss: 25.8820 - mae: 25.8820\n",
            "Epoch 13/100\n",
            "2/2 [==============================] - 0s 5ms/step - loss: 16.7682 - mae: 16.7682\n",
            "Epoch 14/100\n",
            "2/2 [==============================] - 0s 5ms/step - loss: 26.6019 - mae: 26.6019\n",
            "Epoch 15/100\n",
            "2/2 [==============================] - 0s 5ms/step - loss: 17.7361 - mae: 17.7361\n",
            "Epoch 16/100\n",
            "2/2 [==============================] - 0s 5ms/step - loss: 7.4550 - mae: 7.4550\n",
            "Epoch 17/100\n",
            "2/2 [==============================] - 0s 5ms/step - loss: 10.6974 - mae: 10.6974\n",
            "Epoch 18/100\n",
            "2/2 [==============================] - 0s 5ms/step - loss: 20.7691 - mae: 20.7691\n",
            "Epoch 19/100\n",
            "2/2 [==============================] - 0s 5ms/step - loss: 9.6535 - mae: 9.6535\n",
            "Epoch 20/100\n",
            "2/2 [==============================] - 0s 6ms/step - loss: 18.4600 - mae: 18.4600\n",
            "Epoch 21/100\n",
            "2/2 [==============================] - 0s 7ms/step - loss: 16.2352 - mae: 16.2352\n",
            "Epoch 22/100\n",
            "2/2 [==============================] - 0s 5ms/step - loss: 14.5012 - mae: 14.5012\n",
            "Epoch 23/100\n",
            "2/2 [==============================] - 0s 5ms/step - loss: 8.6493 - mae: 8.6493\n",
            "Epoch 24/100\n",
            "2/2 [==============================] - 0s 5ms/step - loss: 10.4430 - mae: 10.4430\n",
            "Epoch 25/100\n",
            "2/2 [==============================] - 0s 7ms/step - loss: 12.8060 - mae: 12.8060\n",
            "Epoch 26/100\n",
            "2/2 [==============================] - 0s 5ms/step - loss: 26.8011 - mae: 26.8011\n",
            "Epoch 27/100\n",
            "2/2 [==============================] - 0s 5ms/step - loss: 12.0333 - mae: 12.0333\n",
            "Epoch 28/100\n",
            "2/2 [==============================] - 0s 5ms/step - loss: 23.4573 - mae: 23.4573\n",
            "Epoch 29/100\n",
            "2/2 [==============================] - 0s 8ms/step - loss: 9.1266 - mae: 9.1266\n",
            "Epoch 30/100\n",
            "2/2 [==============================] - 0s 8ms/step - loss: 31.1804 - mae: 31.1804\n",
            "Epoch 31/100\n",
            "2/2 [==============================] - 0s 9ms/step - loss: 56.8211 - mae: 56.8211\n",
            "Epoch 32/100\n",
            "2/2 [==============================] - 0s 6ms/step - loss: 12.2909 - mae: 12.2909\n",
            "Epoch 33/100\n",
            "2/2 [==============================] - 0s 5ms/step - loss: 15.3304 - mae: 15.3304\n",
            "Epoch 34/100\n",
            "2/2 [==============================] - 0s 5ms/step - loss: 12.8145 - mae: 12.8145\n",
            "Epoch 35/100\n",
            "2/2 [==============================] - 0s 7ms/step - loss: 9.4721 - mae: 9.4721\n",
            "Epoch 36/100\n",
            "2/2 [==============================] - 0s 7ms/step - loss: 16.6526 - mae: 16.6526\n",
            "Epoch 37/100\n",
            "2/2 [==============================] - 0s 5ms/step - loss: 10.4634 - mae: 10.4634\n",
            "Epoch 38/100\n",
            "2/2 [==============================] - 0s 5ms/step - loss: 18.7760 - mae: 18.7760\n",
            "Epoch 39/100\n",
            "2/2 [==============================] - 0s 5ms/step - loss: 20.1198 - mae: 20.1198\n",
            "Epoch 40/100\n",
            "2/2 [==============================] - 0s 6ms/step - loss: 21.4944 - mae: 21.4944\n",
            "Epoch 41/100\n",
            "2/2 [==============================] - 0s 6ms/step - loss: 14.5667 - mae: 14.5667\n",
            "Epoch 42/100\n",
            "2/2 [==============================] - 0s 5ms/step - loss: 12.2999 - mae: 12.2999\n",
            "Epoch 43/100\n",
            "2/2 [==============================] - 0s 5ms/step - loss: 11.1115 - mae: 11.1115\n",
            "Epoch 44/100\n",
            "2/2 [==============================] - 0s 5ms/step - loss: 23.5895 - mae: 23.5895\n",
            "Epoch 45/100\n",
            "2/2 [==============================] - 0s 6ms/step - loss: 9.9461 - mae: 9.9461\n",
            "Epoch 46/100\n",
            "2/2 [==============================] - 0s 8ms/step - loss: 12.0273 - mae: 12.0273\n",
            "Epoch 47/100\n",
            "2/2 [==============================] - 0s 4ms/step - loss: 9.0557 - mae: 9.0557\n",
            "Epoch 48/100\n",
            "2/2 [==============================] - 0s 6ms/step - loss: 17.8711 - mae: 17.8711\n",
            "Epoch 49/100\n",
            "2/2 [==============================] - 0s 6ms/step - loss: 9.5485 - mae: 9.5485\n",
            "Epoch 50/100\n",
            "2/2 [==============================] - 0s 7ms/step - loss: 13.7912 - mae: 13.7912\n",
            "Epoch 51/100\n",
            "2/2 [==============================] - 0s 5ms/step - loss: 11.2969 - mae: 11.2969\n",
            "Epoch 52/100\n",
            "2/2 [==============================] - 0s 6ms/step - loss: 32.1753 - mae: 32.1753\n",
            "Epoch 53/100\n",
            "2/2 [==============================] - 0s 7ms/step - loss: 14.1257 - mae: 14.1257\n",
            "Epoch 54/100\n",
            "2/2 [==============================] - 0s 8ms/step - loss: 24.3921 - mae: 24.3921\n",
            "Epoch 55/100\n",
            "2/2 [==============================] - 0s 5ms/step - loss: 23.5967 - mae: 23.5967\n",
            "Epoch 56/100\n",
            "2/2 [==============================] - 0s 6ms/step - loss: 10.0101 - mae: 10.0101\n",
            "Epoch 57/100\n",
            "2/2 [==============================] - 0s 6ms/step - loss: 12.4333 - mae: 12.4333\n",
            "Epoch 58/100\n",
            "2/2 [==============================] - 0s 5ms/step - loss: 9.4491 - mae: 9.4491\n",
            "Epoch 59/100\n",
            "2/2 [==============================] - 0s 5ms/step - loss: 12.6438 - mae: 12.6438\n",
            "Epoch 60/100\n",
            "2/2 [==============================] - 0s 6ms/step - loss: 12.3168 - mae: 12.3168\n",
            "Epoch 61/100\n",
            "2/2 [==============================] - 0s 5ms/step - loss: 17.1832 - mae: 17.1832\n",
            "Epoch 62/100\n",
            "2/2 [==============================] - 0s 7ms/step - loss: 10.4860 - mae: 10.4860\n",
            "Epoch 63/100\n",
            "2/2 [==============================] - 0s 6ms/step - loss: 10.8072 - mae: 10.8072\n",
            "Epoch 64/100\n",
            "2/2 [==============================] - 0s 7ms/step - loss: 25.2892 - mae: 25.2892\n",
            "Epoch 65/100\n",
            "2/2 [==============================] - 0s 5ms/step - loss: 10.7923 - mae: 10.7923\n",
            "Epoch 66/100\n",
            "2/2 [==============================] - 0s 5ms/step - loss: 22.0328 - mae: 22.0328\n",
            "Epoch 67/100\n",
            "2/2 [==============================] - 0s 8ms/step - loss: 10.6505 - mae: 10.6505\n",
            "Epoch 68/100\n",
            "2/2 [==============================] - 0s 6ms/step - loss: 10.8455 - mae: 10.8455\n",
            "Epoch 69/100\n",
            "2/2 [==============================] - 0s 5ms/step - loss: 23.0960 - mae: 23.0960\n",
            "Epoch 70/100\n",
            "2/2 [==============================] - 0s 4ms/step - loss: 8.7402 - mae: 8.7402\n",
            "Epoch 71/100\n",
            "2/2 [==============================] - 0s 6ms/step - loss: 15.8968 - mae: 15.8968\n",
            "Epoch 72/100\n",
            "2/2 [==============================] - 0s 7ms/step - loss: 6.7092 - mae: 6.7092\n",
            "Epoch 73/100\n",
            "2/2 [==============================] - 0s 5ms/step - loss: 10.6475 - mae: 10.6475\n",
            "Epoch 74/100\n",
            "2/2 [==============================] - 0s 5ms/step - loss: 24.6152 - mae: 24.6152\n",
            "Epoch 75/100\n",
            "2/2 [==============================] - 0s 10ms/step - loss: 8.7602 - mae: 8.7602\n",
            "Epoch 76/100\n",
            "2/2 [==============================] - 0s 8ms/step - loss: 11.9799 - mae: 11.9799\n",
            "Epoch 77/100\n",
            "2/2 [==============================] - 0s 6ms/step - loss: 16.6488 - mae: 16.6488\n",
            "Epoch 78/100\n",
            "2/2 [==============================] - 0s 5ms/step - loss: 9.2784 - mae: 9.2784\n",
            "Epoch 79/100\n",
            "2/2 [==============================] - 0s 4ms/step - loss: 24.4604 - mae: 24.4604\n",
            "Epoch 80/100\n",
            "2/2 [==============================] - 0s 5ms/step - loss: 27.4405 - mae: 27.4405\n",
            "Epoch 81/100\n",
            "2/2 [==============================] - 0s 7ms/step - loss: 11.7139 - mae: 11.7139\n",
            "Epoch 82/100\n",
            "2/2 [==============================] - 0s 6ms/step - loss: 11.6757 - mae: 11.6757\n",
            "Epoch 83/100\n",
            "2/2 [==============================] - 0s 6ms/step - loss: 17.9045 - mae: 17.9045\n",
            "Epoch 84/100\n",
            "2/2 [==============================] - 0s 9ms/step - loss: 7.0376 - mae: 7.0376\n",
            "Epoch 85/100\n",
            "2/2 [==============================] - 0s 5ms/step - loss: 15.1558 - mae: 15.1558\n",
            "Epoch 86/100\n",
            "2/2 [==============================] - 0s 6ms/step - loss: 15.1583 - mae: 15.1583\n",
            "Epoch 87/100\n",
            "2/2 [==============================] - 0s 5ms/step - loss: 19.8683 - mae: 19.8683\n",
            "Epoch 88/100\n",
            "2/2 [==============================] - 0s 5ms/step - loss: 30.7657 - mae: 30.7657\n",
            "Epoch 89/100\n",
            "2/2 [==============================] - 0s 5ms/step - loss: 9.7059 - mae: 9.7059\n",
            "Epoch 90/100\n",
            "2/2 [==============================] - 0s 5ms/step - loss: 21.5531 - mae: 21.5531\n",
            "Epoch 91/100\n",
            "2/2 [==============================] - 0s 4ms/step - loss: 9.5827 - mae: 9.5827\n",
            "Epoch 92/100\n",
            "2/2 [==============================] - 0s 6ms/step - loss: 18.2158 - mae: 18.2158\n",
            "Epoch 93/100\n",
            "2/2 [==============================] - 0s 4ms/step - loss: 7.1935 - mae: 7.1935\n",
            "Epoch 94/100\n",
            "2/2 [==============================] - 0s 6ms/step - loss: 17.4261 - mae: 17.4261\n",
            "Epoch 95/100\n",
            "2/2 [==============================] - 0s 6ms/step - loss: 11.1722 - mae: 11.1722\n",
            "Epoch 96/100\n",
            "2/2 [==============================] - 0s 5ms/step - loss: 18.9207 - mae: 18.9207\n",
            "Epoch 97/100\n",
            "2/2 [==============================] - 0s 5ms/step - loss: 12.2012 - mae: 12.2012\n",
            "Epoch 98/100\n",
            "2/2 [==============================] - 0s 7ms/step - loss: 11.2931 - mae: 11.2931\n",
            "Epoch 99/100\n",
            "2/2 [==============================] - 0s 8ms/step - loss: 13.4563 - mae: 13.4563\n",
            "Epoch 100/100\n",
            "2/2 [==============================] - 0s 5ms/step - loss: 20.1754 - mae: 20.1754\n"
          ],
          "name": "stdout"
        },
        {
          "output_type": "execute_result",
          "data": {
            "text/plain": [
              "<tensorflow.python.keras.callbacks.History at 0x7f81c35e3390>"
            ]
          },
          "metadata": {
            "tags": []
          },
          "execution_count": 130
        }
      ]
    },
    {
      "cell_type": "code",
      "metadata": {
        "colab": {
          "base_uri": "https://localhost:8080/",
          "height": 465
        },
        "id": "q-eAnDABoMX7",
        "outputId": "9061ae3f-157d-45a9-a9d9-fb09b0511aa7"
      },
      "source": [
        "y_pred2 = model2.predict(x_test)\n",
        "\n",
        "plot_preds(x_train,y_train,x_test,y_test,y_pred2)"
      ],
      "execution_count": null,
      "outputs": [
        {
          "output_type": "stream",
          "text": [
            "WARNING:tensorflow:10 out of the last 11 calls to <function Model.make_predict_function.<locals>.predict_function at 0x7f81d1e15200> triggered tf.function retracing. Tracing is expensive and the excessive number of tracings could be due to (1) creating @tf.function repeatedly in a loop, (2) passing tensors with different shapes, (3) passing Python objects instead of tensors. For (1), please define your @tf.function outside of the loop. For (2), @tf.function has experimental_relax_shapes=True option that relaxes argument shapes that can avoid unnecessary retracing. For (3), please refer to https://www.tensorflow.org/guide/function#controlling_retracing and https://www.tensorflow.org/api_docs/python/tf/function for  more details.\n"
          ],
          "name": "stdout"
        },
        {
          "output_type": "display_data",
          "data": {
            "image/png": "[encoded data removed]",
            "text/plain": [
              "<Figure size 720x504 with 1 Axes>"
            ]
          },
          "metadata": {
            "tags": [],
            "needs_background": "light"
          }
        }
      ]
    },
    {
      "cell_type": "code",
      "metadata": {
        "colab": {
          "base_uri": "https://localhost:8080/"
        },
        "id": "H0lo7olpohdn",
        "outputId": "baa4feaf-6dd6-4343-d54f-049126d5d8e4"
      },
      "source": [
        "# eval metrics\n",
        "\n",
        "mae2 = mae(y_test,y_pred2)\n",
        "\n",
        "mse2 = mse(y_test,y_pred2)\n",
        "\n",
        "mae2,mse2"
      ],
      "execution_count": null,
      "outputs": [
        {
          "output_type": "execute_result",
          "data": {
            "text/plain": [
              "(<tf.Tensor: shape=(), dtype=float32, numpy=3.1969466>,\n",
              " <tf.Tensor: shape=(), dtype=float32, numpy=13.070175>)"
            ]
          },
          "metadata": {
            "tags": []
          },
          "execution_count": 132
        }
      ]
    },
    {
      "cell_type": "markdown",
      "metadata": {
        "id": "zBE0WeknoxHL"
      },
      "source": [
        "### Model-3"
      ]
    },
    {
      "cell_type": "code",
      "metadata": {
        "colab": {
          "base_uri": "https://localhost:8080/"
        },
        "id": "T49RxW25ozKe",
        "outputId": "06d3f76a-32e9-43c4-8326-b5404ed00dfc"
      },
      "source": [
        "tf.random.set_seed(42)\n",
        "\n",
        "# creating the model\n",
        "\n",
        "model3 = tf.keras.Sequential([\n",
        "    tf.keras.layers.Dense(10),\n",
        "    tf.keras.layers.Dense(1)\n",
        "])\n",
        "\n",
        "# compile\n",
        "\n",
        "model3.compile(loss = tf.keras.losses.mae,\n",
        "               optimizer = tf.keras.optimizers.SGD(),\n",
        "               metrics = [\"mae\"])\n",
        "\n",
        "# fit\n",
        "\n",
        "model3.fit(x_train,y_train,epochs = 500)\n",
        "\n"
      ],
      "execution_count": null,
      "outputs": [
        {
          "output_type": "stream",
          "text": [
            "Epoch 1/500\n",
            "2/2 [==============================] - 0s 6ms/step - loss: 26.8627 - mae: 26.8627\n",
            "Epoch 2/500\n",
            "2/2 [==============================] - 0s 3ms/step - loss: 24.4175 - mae: 24.4175\n",
            "Epoch 3/500\n",
            "2/2 [==============================] - 0s 3ms/step - loss: 31.5187 - mae: 31.5187\n",
            "Epoch 4/500\n",
            "2/2 [==============================] - 0s 3ms/step - loss: 27.8490 - mae: 27.8490\n",
            "Epoch 5/500\n",
            "2/2 [==============================] - 0s 4ms/step - loss: 14.6465 - mae: 14.6465\n",
            "Epoch 6/500\n",
            "2/2 [==============================] - 0s 4ms/step - loss: 11.9682 - mae: 11.9682\n",
            "Epoch 7/500\n",
            "2/2 [==============================] - 0s 6ms/step - loss: 11.0874 - mae: 11.0874\n",
            "Epoch 8/500\n",
            "2/2 [==============================] - 0s 4ms/step - loss: 11.3978 - mae: 11.3978\n",
            "Epoch 9/500\n",
            "2/2 [==============================] - 0s 3ms/step - loss: 42.4087 - mae: 42.4087\n",
            "Epoch 10/500\n",
            "2/2 [==============================] - 0s 3ms/step - loss: 28.3537 - mae: 28.3537\n",
            "Epoch 11/500\n",
            "2/2 [==============================] - 0s 3ms/step - loss: 9.6590 - mae: 9.6590\n",
            "Epoch 12/500\n",
            "2/2 [==============================] - 0s 3ms/step - loss: 25.8820 - mae: 25.8820\n",
            "Epoch 13/500\n",
            "2/2 [==============================] - 0s 3ms/step - loss: 16.7682 - mae: 16.7682\n",
            "Epoch 14/500\n",
            "2/2 [==============================] - 0s 5ms/step - loss: 26.6019 - mae: 26.6019\n",
            "Epoch 15/500\n",
            "2/2 [==============================] - 0s 5ms/step - loss: 17.7361 - mae: 17.7361\n",
            "Epoch 16/500\n",
            "2/2 [==============================] - 0s 3ms/step - loss: 7.4550 - mae: 7.4550\n",
            "Epoch 17/500\n",
            "2/2 [==============================] - 0s 5ms/step - loss: 10.6974 - mae: 10.6974\n",
            "Epoch 18/500\n",
            "2/2 [==============================] - 0s 5ms/step - loss: 20.7691 - mae: 20.7691\n",
            "Epoch 19/500\n",
            "2/2 [==============================] - 0s 5ms/step - loss: 9.6535 - mae: 9.6535\n",
            "Epoch 20/500\n",
            "2/2 [==============================] - 0s 5ms/step - loss: 18.4600 - mae: 18.4600\n",
            "Epoch 21/500\n",
            "2/2 [==============================] - 0s 7ms/step - loss: 16.2352 - mae: 16.2352\n",
            "Epoch 22/500\n",
            "2/2 [==============================] - 0s 5ms/step - loss: 14.5012 - mae: 14.5012\n",
            "Epoch 23/500\n",
            "2/2 [==============================] - 0s 4ms/step - loss: 8.6493 - mae: 8.6493\n",
            "Epoch 24/500\n",
            "2/2 [==============================] - 0s 5ms/step - loss: 10.4430 - mae: 10.4430\n",
            "Epoch 25/500\n",
            "2/2 [==============================] - 0s 5ms/step - loss: 12.8060 - mae: 12.8060\n",
            "Epoch 26/500\n",
            "2/2 [==============================] - 0s 4ms/step - loss: 26.8011 - mae: 26.8011\n",
            "Epoch 27/500\n",
            "2/2 [==============================] - 0s 5ms/step - loss: 12.0333 - mae: 12.0333\n",
            "Epoch 28/500\n",
            "2/2 [==============================] - 0s 8ms/step - loss: 23.4573 - mae: 23.4573\n",
            "Epoch 29/500\n",
            "2/2 [==============================] - 0s 5ms/step - loss: 9.1266 - mae: 9.1266\n",
            "Epoch 30/500\n",
            "2/2 [==============================] - 0s 5ms/step - loss: 31.1804 - mae: 31.1804\n",
            "Epoch 31/500\n",
            "2/2 [==============================] - 0s 11ms/step - loss: 56.8211 - mae: 56.8211\n",
            "Epoch 32/500\n",
            "2/2 [==============================] - 0s 4ms/step - loss: 12.2909 - mae: 12.2909\n",
            "Epoch 33/500\n",
            "2/2 [==============================] - 0s 7ms/step - loss: 15.3304 - mae: 15.3304\n",
            "Epoch 34/500\n",
            "2/2 [==============================] - 0s 6ms/step - loss: 12.8145 - mae: 12.8145\n",
            "Epoch 35/500\n",
            "2/2 [==============================] - 0s 6ms/step - loss: 9.4721 - mae: 9.4721\n",
            "Epoch 36/500\n",
            "2/2 [==============================] - 0s 9ms/step - loss: 16.6526 - mae: 16.6526\n",
            "Epoch 37/500\n",
            "2/2 [==============================] - 0s 7ms/step - loss: 10.4634 - mae: 10.4634\n",
            "Epoch 38/500\n",
            "2/2 [==============================] - 0s 5ms/step - loss: 18.7760 - mae: 18.7760\n",
            "Epoch 39/500\n",
            "2/2 [==============================] - 0s 5ms/step - loss: 20.1198 - mae: 20.1198\n",
            "Epoch 40/500\n",
            "2/2 [==============================] - 0s 6ms/step - loss: 21.4944 - mae: 21.4944\n",
            "Epoch 41/500\n",
            "2/2 [==============================] - 0s 5ms/step - loss: 14.5667 - mae: 14.5667\n",
            "Epoch 42/500\n",
            "2/2 [==============================] - 0s 7ms/step - loss: 12.2999 - mae: 12.2999\n",
            "Epoch 43/500\n",
            "2/2 [==============================] - 0s 7ms/step - loss: 11.1115 - mae: 11.1115\n",
            "Epoch 44/500\n",
            "2/2 [==============================] - 0s 7ms/step - loss: 23.5895 - mae: 23.5895\n",
            "Epoch 45/500\n",
            "2/2 [==============================] - 0s 5ms/step - loss: 9.9461 - mae: 9.9461\n",
            "Epoch 46/500\n",
            "2/2 [==============================] - 0s 5ms/step - loss: 12.0273 - mae: 12.0273\n",
            "Epoch 47/500\n",
            "2/2 [==============================] - 0s 5ms/step - loss: 9.0557 - mae: 9.0557\n",
            "Epoch 48/500\n",
            "2/2 [==============================] - 0s 5ms/step - loss: 17.8711 - mae: 17.8711\n",
            "Epoch 49/500\n",
            "2/2 [==============================] - 0s 6ms/step - loss: 9.5485 - mae: 9.5485\n",
            "Epoch 50/500\n",
            "2/2 [==============================] - 0s 6ms/step - loss: 13.7912 - mae: 13.7912\n",
            "Epoch 51/500\n",
            "2/2 [==============================] - 0s 6ms/step - loss: 11.2969 - mae: 11.2969\n",
            "Epoch 52/500\n",
            "2/2 [==============================] - 0s 5ms/step - loss: 32.1753 - mae: 32.1753\n",
            "Epoch 53/500\n",
            "2/2 [==============================] - 0s 9ms/step - loss: 14.1257 - mae: 14.1257\n",
            "Epoch 54/500\n",
            "2/2 [==============================] - 0s 6ms/step - loss: 24.3921 - mae: 24.3921\n",
            "Epoch 55/500\n",
            "2/2 [==============================] - 0s 5ms/step - loss: 23.5967 - mae: 23.5967\n",
            "Epoch 56/500\n",
            "2/2 [==============================] - 0s 6ms/step - loss: 10.0101 - mae: 10.0101\n",
            "Epoch 57/500\n",
            "2/2 [==============================] - 0s 5ms/step - loss: 12.4333 - mae: 12.4333\n",
            "Epoch 58/500\n",
            "2/2 [==============================] - 0s 4ms/step - loss: 9.4491 - mae: 9.4491\n",
            "Epoch 59/500\n",
            "2/2 [==============================] - 0s 4ms/step - loss: 12.6438 - mae: 12.6438\n",
            "Epoch 60/500\n",
            "2/2 [==============================] - 0s 4ms/step - loss: 12.3168 - mae: 12.3168\n",
            "Epoch 61/500\n",
            "2/2 [==============================] - 0s 5ms/step - loss: 17.1832 - mae: 17.1832\n",
            "Epoch 62/500\n",
            "2/2 [==============================] - 0s 4ms/step - loss: 10.4860 - mae: 10.4860\n",
            "Epoch 63/500\n",
            "2/2 [==============================] - 0s 4ms/step - loss: 10.8072 - mae: 10.8072\n",
            "Epoch 64/500\n",
            "2/2 [==============================] - 0s 5ms/step - loss: 25.2892 - mae: 25.2892\n",
            "Epoch 65/500\n",
            "2/2 [==============================] - 0s 6ms/step - loss: 10.7923 - mae: 10.7923\n",
            "Epoch 66/500\n",
            "2/2 [==============================] - 0s 7ms/step - loss: 22.0328 - mae: 22.0328\n",
            "Epoch 67/500\n",
            "2/2 [==============================] - 0s 5ms/step - loss: 10.6505 - mae: 10.6505\n",
            "Epoch 68/500\n",
            "2/2 [==============================] - 0s 5ms/step - loss: 10.8455 - mae: 10.8455\n",
            "Epoch 69/500\n",
            "2/2 [==============================] - 0s 6ms/step - loss: 23.0960 - mae: 23.0960\n",
            "Epoch 70/500\n",
            "2/2 [==============================] - 0s 7ms/step - loss: 8.7402 - mae: 8.7402\n",
            "Epoch 71/500\n",
            "2/2 [==============================] - 0s 5ms/step - loss: 15.8968 - mae: 15.8968\n",
            "Epoch 72/500\n",
            "2/2 [==============================] - 0s 7ms/step - loss: 6.7092 - mae: 6.7092\n",
            "Epoch 73/500\n",
            "2/2 [==============================] - 0s 7ms/step - loss: 10.6475 - mae: 10.6475\n",
            "Epoch 74/500\n",
            "2/2 [==============================] - 0s 7ms/step - loss: 24.6152 - mae: 24.6152\n",
            "Epoch 75/500\n",
            "2/2 [==============================] - 0s 5ms/step - loss: 8.7602 - mae: 8.7602\n",
            "Epoch 76/500\n",
            "2/2 [==============================] - 0s 7ms/step - loss: 11.9799 - mae: 11.9799\n",
            "Epoch 77/500\n",
            "2/2 [==============================] - 0s 5ms/step - loss: 16.6488 - mae: 16.6488\n",
            "Epoch 78/500\n",
            "2/2 [==============================] - 0s 9ms/step - loss: 9.2784 - mae: 9.2784\n",
            "Epoch 79/500\n",
            "2/2 [==============================] - 0s 4ms/step - loss: 24.4604 - mae: 24.4604\n",
            "Epoch 80/500\n",
            "2/2 [==============================] - 0s 7ms/step - loss: 27.4405 - mae: 27.4405\n",
            "Epoch 81/500\n",
            "2/2 [==============================] - 0s 6ms/step - loss: 11.7139 - mae: 11.7139\n",
            "Epoch 82/500\n",
            "2/2 [==============================] - 0s 6ms/step - loss: 11.6757 - mae: 11.6757\n",
            "Epoch 83/500\n",
            "2/2 [==============================] - 0s 6ms/step - loss: 17.9045 - mae: 17.9045\n",
            "Epoch 84/500\n",
            "2/2 [==============================] - 0s 7ms/step - loss: 7.0376 - mae: 7.0376\n",
            "Epoch 85/500\n",
            "2/2 [==============================] - 0s 7ms/step - loss: 15.1558 - mae: 15.1558\n",
            "Epoch 86/500\n",
            "2/2 [==============================] - 0s 5ms/step - loss: 15.1583 - mae: 15.1583\n",
            "Epoch 87/500\n",
            "2/2 [==============================] - 0s 7ms/step - loss: 19.8683 - mae: 19.8683\n",
            "Epoch 88/500\n",
            "2/2 [==============================] - 0s 7ms/step - loss: 30.7657 - mae: 30.7657\n",
            "Epoch 89/500\n",
            "2/2 [==============================] - 0s 7ms/step - loss: 9.7059 - mae: 9.7059\n",
            "Epoch 90/500\n",
            "2/2 [==============================] - 0s 7ms/step - loss: 21.5531 - mae: 21.5531\n",
            "Epoch 91/500\n",
            "2/2 [==============================] - 0s 6ms/step - loss: 9.5827 - mae: 9.5827\n",
            "Epoch 92/500\n",
            "2/2 [==============================] - 0s 6ms/step - loss: 18.2158 - mae: 18.2158\n",
            "Epoch 93/500\n",
            "2/2 [==============================] - 0s 6ms/step - loss: 7.1935 - mae: 7.1935\n",
            "Epoch 94/500\n",
            "2/2 [==============================] - 0s 6ms/step - loss: 17.4261 - mae: 17.4261\n",
            "Epoch 95/500\n",
            "2/2 [==============================] - 0s 6ms/step - loss: 11.1722 - mae: 11.1722\n",
            "Epoch 96/500\n",
            "2/2 [==============================] - 0s 9ms/step - loss: 18.9207 - mae: 18.9207\n",
            "Epoch 97/500\n",
            "2/2 [==============================] - 0s 6ms/step - loss: 12.2012 - mae: 12.2012\n",
            "Epoch 98/500\n",
            "2/2 [==============================] - 0s 7ms/step - loss: 11.2931 - mae: 11.2931\n",
            "Epoch 99/500\n",
            "2/2 [==============================] - 0s 6ms/step - loss: 13.4563 - mae: 13.4563\n",
            "Epoch 100/500\n",
            "2/2 [==============================] - 0s 9ms/step - loss: 20.1754 - mae: 20.1754\n",
            "Epoch 101/500\n",
            "2/2 [==============================] - 0s 8ms/step - loss: 11.4395 - mae: 11.4395\n",
            "Epoch 102/500\n",
            "2/2 [==============================] - 0s 5ms/step - loss: 17.0888 - mae: 17.0888\n",
            "Epoch 103/500\n",
            "2/2 [==============================] - 0s 6ms/step - loss: 6.9455 - mae: 6.9455\n",
            "Epoch 104/500\n",
            "2/2 [==============================] - 0s 6ms/step - loss: 24.3779 - mae: 24.3779\n",
            "Epoch 105/500\n",
            "2/2 [==============================] - 0s 6ms/step - loss: 16.8800 - mae: 16.8800\n",
            "Epoch 106/500\n",
            "2/2 [==============================] - 0s 6ms/step - loss: 8.5557 - mae: 8.5557\n",
            "Epoch 107/500\n",
            "2/2 [==============================] - 0s 6ms/step - loss: 26.5426 - mae: 26.5426\n",
            "Epoch 108/500\n",
            "2/2 [==============================] - 0s 6ms/step - loss: 13.2375 - mae: 13.2375\n",
            "Epoch 109/500\n",
            "2/2 [==============================] - 0s 5ms/step - loss: 9.1284 - mae: 9.1284\n",
            "Epoch 110/500\n",
            "2/2 [==============================] - 0s 6ms/step - loss: 8.9256 - mae: 8.9256\n",
            "Epoch 111/500\n",
            "2/2 [==============================] - 0s 5ms/step - loss: 14.0550 - mae: 14.0550\n",
            "Epoch 112/500\n",
            "2/2 [==============================] - 0s 12ms/step - loss: 9.7418 - mae: 9.7418\n",
            "Epoch 113/500\n",
            "2/2 [==============================] - 0s 4ms/step - loss: 17.5151 - mae: 17.5151\n",
            "Epoch 114/500\n",
            "2/2 [==============================] - 0s 5ms/step - loss: 17.0304 - mae: 17.0304\n",
            "Epoch 115/500\n",
            "2/2 [==============================] - 0s 6ms/step - loss: 10.9228 - mae: 10.9228\n",
            "Epoch 116/500\n",
            "2/2 [==============================] - 0s 6ms/step - loss: 23.5453 - mae: 23.5453\n",
            "Epoch 117/500\n",
            "2/2 [==============================] - 0s 7ms/step - loss: 8.8340 - mae: 8.8340\n",
            "Epoch 118/500\n",
            "2/2 [==============================] - 0s 7ms/step - loss: 10.2978 - mae: 10.2978\n",
            "Epoch 119/500\n",
            "2/2 [==============================] - 0s 7ms/step - loss: 8.3192 - mae: 8.3192\n",
            "Epoch 120/500\n",
            "2/2 [==============================] - 0s 8ms/step - loss: 30.7265 - mae: 30.7265\n",
            "Epoch 121/500\n",
            "2/2 [==============================] - 0s 4ms/step - loss: 8.1436 - mae: 8.1436\n",
            "Epoch 122/500\n",
            "2/2 [==============================] - 0s 7ms/step - loss: 29.4327 - mae: 29.4327\n",
            "Epoch 123/500\n",
            "2/2 [==============================] - 0s 7ms/step - loss: 34.2183 - mae: 34.2183\n",
            "Epoch 124/500\n",
            "2/2 [==============================] - 0s 5ms/step - loss: 19.6697 - mae: 19.6697\n",
            "Epoch 125/500\n",
            "2/2 [==============================] - 0s 6ms/step - loss: 6.5959 - mae: 6.5959\n",
            "Epoch 126/500\n",
            "2/2 [==============================] - 0s 4ms/step - loss: 21.8683 - mae: 21.8683\n",
            "Epoch 127/500\n",
            "2/2 [==============================] - 0s 4ms/step - loss: 8.0892 - mae: 8.0892\n",
            "Epoch 128/500\n",
            "2/2 [==============================] - 0s 6ms/step - loss: 21.1329 - mae: 21.1329\n",
            "Epoch 129/500\n",
            "2/2 [==============================] - 0s 6ms/step - loss: 9.3481 - mae: 9.3481\n",
            "Epoch 130/500\n",
            "2/2 [==============================] - 0s 6ms/step - loss: 24.2633 - mae: 24.2633\n",
            "Epoch 131/500\n",
            "2/2 [==============================] - 0s 5ms/step - loss: 9.9302 - mae: 9.9302\n",
            "Epoch 132/500\n",
            "2/2 [==============================] - 0s 6ms/step - loss: 18.3634 - mae: 18.3634\n",
            "Epoch 133/500\n",
            "2/2 [==============================] - 0s 5ms/step - loss: 7.2677 - mae: 7.2677\n",
            "Epoch 134/500\n",
            "2/2 [==============================] - 0s 5ms/step - loss: 18.4166 - mae: 18.4166\n",
            "Epoch 135/500\n",
            "2/2 [==============================] - 0s 6ms/step - loss: 9.7401 - mae: 9.7401\n",
            "Epoch 136/500\n",
            "2/2 [==============================] - 0s 5ms/step - loss: 17.8516 - mae: 17.8516\n",
            "Epoch 137/500\n",
            "2/2 [==============================] - 0s 5ms/step - loss: 22.9936 - mae: 22.9936\n",
            "Epoch 138/500\n",
            "2/2 [==============================] - 0s 8ms/step - loss: 8.2012 - mae: 8.2012\n",
            "Epoch 139/500\n",
            "2/2 [==============================] - 0s 6ms/step - loss: 8.0097 - mae: 8.0097\n",
            "Epoch 140/500\n",
            "2/2 [==============================] - 0s 5ms/step - loss: 15.9624 - mae: 15.9624\n",
            "Epoch 141/500\n",
            "2/2 [==============================] - 0s 6ms/step - loss: 8.6422 - mae: 8.6422\n",
            "Epoch 142/500\n",
            "2/2 [==============================] - 0s 4ms/step - loss: 39.2127 - mae: 39.2127\n",
            "Epoch 143/500\n",
            "2/2 [==============================] - 0s 5ms/step - loss: 25.9599 - mae: 25.9599\n",
            "Epoch 144/500\n",
            "2/2 [==============================] - 0s 7ms/step - loss: 8.6134 - mae: 8.6134\n",
            "Epoch 145/500\n",
            "2/2 [==============================] - 0s 6ms/step - loss: 27.7680 - mae: 27.7680\n",
            "Epoch 146/500\n",
            "2/2 [==============================] - 0s 7ms/step - loss: 8.3428 - mae: 8.3428\n",
            "Epoch 147/500\n",
            "2/2 [==============================] - 0s 5ms/step - loss: 15.0730 - mae: 15.0730\n",
            "Epoch 148/500\n",
            "2/2 [==============================] - 0s 4ms/step - loss: 19.1933 - mae: 19.1933\n",
            "Epoch 149/500\n",
            "2/2 [==============================] - 0s 4ms/step - loss: 7.4993 - mae: 7.4993\n",
            "Epoch 150/500\n",
            "2/2 [==============================] - 0s 8ms/step - loss: 7.4097 - mae: 7.4097\n",
            "Epoch 151/500\n",
            "2/2 [==============================] - 0s 5ms/step - loss: 18.1762 - mae: 18.1762\n",
            "Epoch 152/500\n",
            "2/2 [==============================] - 0s 4ms/step - loss: 9.9065 - mae: 9.9065\n",
            "Epoch 153/500\n",
            "2/2 [==============================] - 0s 6ms/step - loss: 30.6868 - mae: 30.6868\n",
            "Epoch 154/500\n",
            "2/2 [==============================] - 0s 6ms/step - loss: 9.6497 - mae: 9.6497\n",
            "Epoch 155/500\n",
            "2/2 [==============================] - 0s 4ms/step - loss: 16.0887 - mae: 16.0887\n",
            "Epoch 156/500\n",
            "2/2 [==============================] - 0s 6ms/step - loss: 18.0462 - mae: 18.0462\n",
            "Epoch 157/500\n",
            "2/2 [==============================] - 0s 4ms/step - loss: 34.4868 - mae: 34.4868\n",
            "Epoch 158/500\n",
            "2/2 [==============================] - 0s 3ms/step - loss: 10.3002 - mae: 10.3002\n",
            "Epoch 159/500\n",
            "2/2 [==============================] - 0s 4ms/step - loss: 8.5288 - mae: 8.5288\n",
            "Epoch 160/500\n",
            "2/2 [==============================] - 0s 6ms/step - loss: 22.2562 - mae: 22.2562\n",
            "Epoch 161/500\n",
            "2/2 [==============================] - 0s 7ms/step - loss: 11.2986 - mae: 11.2986\n",
            "Epoch 162/500\n",
            "2/2 [==============================] - 0s 8ms/step - loss: 21.5576 - mae: 21.5576\n",
            "Epoch 163/500\n",
            "2/2 [==============================] - 0s 6ms/step - loss: 18.8923 - mae: 18.8923\n",
            "Epoch 164/500\n",
            "2/2 [==============================] - 0s 5ms/step - loss: 10.9458 - mae: 10.9458\n",
            "Epoch 165/500\n",
            "2/2 [==============================] - 0s 5ms/step - loss: 8.7489 - mae: 8.7489\n",
            "Epoch 166/500\n",
            "2/2 [==============================] - 0s 5ms/step - loss: 22.6552 - mae: 22.6552\n",
            "Epoch 167/500\n",
            "2/2 [==============================] - 0s 6ms/step - loss: 26.9724 - mae: 26.9724\n",
            "Epoch 168/500\n",
            "2/2 [==============================] - 0s 6ms/step - loss: 9.2709 - mae: 9.2709\n",
            "Epoch 169/500\n",
            "2/2 [==============================] - 0s 6ms/step - loss: 23.1678 - mae: 23.1678\n",
            "Epoch 170/500\n",
            "2/2 [==============================] - 0s 9ms/step - loss: 9.3051 - mae: 9.3051\n",
            "Epoch 171/500\n",
            "2/2 [==============================] - 0s 7ms/step - loss: 18.9237 - mae: 18.9237\n",
            "Epoch 172/500\n",
            "2/2 [==============================] - 0s 6ms/step - loss: 29.9900 - mae: 29.9900\n",
            "Epoch 173/500\n",
            "2/2 [==============================] - 0s 8ms/step - loss: 16.4918 - mae: 16.4918\n",
            "Epoch 174/500\n",
            "2/2 [==============================] - 0s 7ms/step - loss: 10.2796 - mae: 10.2796\n",
            "Epoch 175/500\n",
            "2/2 [==============================] - 0s 6ms/step - loss: 28.8074 - mae: 28.8074\n",
            "Epoch 176/500\n",
            "2/2 [==============================] - 0s 6ms/step - loss: 8.1042 - mae: 8.1042\n",
            "Epoch 177/500\n",
            "2/2 [==============================] - 0s 6ms/step - loss: 8.8722 - mae: 8.8722\n",
            "Epoch 178/500\n",
            "2/2 [==============================] - 0s 7ms/step - loss: 17.8721 - mae: 17.8721\n",
            "Epoch 179/500\n",
            "2/2 [==============================] - 0s 6ms/step - loss: 10.4428 - mae: 10.4428\n",
            "Epoch 180/500\n",
            "2/2 [==============================] - 0s 6ms/step - loss: 7.2716 - mae: 7.2716\n",
            "Epoch 181/500\n",
            "2/2 [==============================] - 0s 7ms/step - loss: 17.0166 - mae: 17.0166\n",
            "Epoch 182/500\n",
            "2/2 [==============================] - 0s 6ms/step - loss: 10.3910 - mae: 10.3910\n",
            "Epoch 183/500\n",
            "2/2 [==============================] - 0s 7ms/step - loss: 11.1568 - mae: 11.1568\n",
            "Epoch 184/500\n",
            "2/2 [==============================] - 0s 4ms/step - loss: 31.6483 - mae: 31.6483\n",
            "Epoch 185/500\n",
            "2/2 [==============================] - 0s 5ms/step - loss: 7.0154 - mae: 7.0154\n",
            "Epoch 186/500\n",
            "2/2 [==============================] - 0s 7ms/step - loss: 16.6843 - mae: 16.6843\n",
            "Epoch 187/500\n",
            "2/2 [==============================] - 0s 6ms/step - loss: 8.1126 - mae: 8.1126\n",
            "Epoch 188/500\n",
            "2/2 [==============================] - 0s 7ms/step - loss: 29.6995 - mae: 29.6995\n",
            "Epoch 189/500\n",
            "2/2 [==============================] - 0s 5ms/step - loss: 12.3776 - mae: 12.3776\n",
            "Epoch 190/500\n",
            "2/2 [==============================] - 0s 9ms/step - loss: 19.3024 - mae: 19.3024\n",
            "Epoch 191/500\n",
            "2/2 [==============================] - 0s 5ms/step - loss: 13.9023 - mae: 13.9023\n",
            "Epoch 192/500\n",
            "2/2 [==============================] - 0s 6ms/step - loss: 12.9345 - mae: 12.9345\n",
            "Epoch 193/500\n",
            "2/2 [==============================] - 0s 7ms/step - loss: 29.5007 - mae: 29.5007\n",
            "Epoch 194/500\n",
            "2/2 [==============================] - 0s 5ms/step - loss: 6.6526 - mae: 6.6526\n",
            "Epoch 195/500\n",
            "2/2 [==============================] - 0s 6ms/step - loss: 6.6620 - mae: 6.6620\n",
            "Epoch 196/500\n",
            "2/2 [==============================] - 0s 7ms/step - loss: 22.8540 - mae: 22.8540\n",
            "Epoch 197/500\n",
            "2/2 [==============================] - 0s 6ms/step - loss: 20.7492 - mae: 20.7492\n",
            "Epoch 198/500\n",
            "2/2 [==============================] - 0s 4ms/step - loss: 11.8978 - mae: 11.8978\n",
            "Epoch 199/500\n",
            "2/2 [==============================] - 0s 6ms/step - loss: 17.4222 - mae: 17.4222\n",
            "Epoch 200/500\n",
            "2/2 [==============================] - 0s 6ms/step - loss: 13.4876 - mae: 13.4876\n",
            "Epoch 201/500\n",
            "2/2 [==============================] - 0s 6ms/step - loss: 5.6035 - mae: 5.6035\n",
            "Epoch 202/500\n",
            "2/2 [==============================] - 0s 5ms/step - loss: 13.1062 - mae: 13.1062\n",
            "Epoch 203/500\n",
            "2/2 [==============================] - 0s 5ms/step - loss: 8.4001 - mae: 8.4001\n",
            "Epoch 204/500\n",
            "2/2 [==============================] - 0s 7ms/step - loss: 21.0158 - mae: 21.0158\n",
            "Epoch 205/500\n",
            "2/2 [==============================] - 0s 8ms/step - loss: 8.7459 - mae: 8.7459\n",
            "Epoch 206/500\n",
            "2/2 [==============================] - 0s 6ms/step - loss: 11.0638 - mae: 11.0638\n",
            "Epoch 207/500\n",
            "2/2 [==============================] - 0s 6ms/step - loss: 13.8665 - mae: 13.8665\n",
            "Epoch 208/500\n",
            "2/2 [==============================] - 0s 5ms/step - loss: 13.9839 - mae: 13.9839\n",
            "Epoch 209/500\n",
            "2/2 [==============================] - 0s 8ms/step - loss: 14.2824 - mae: 14.2824\n",
            "Epoch 210/500\n",
            "2/2 [==============================] - 0s 7ms/step - loss: 17.6257 - mae: 17.6257\n",
            "Epoch 211/500\n",
            "2/2 [==============================] - 0s 7ms/step - loss: 8.8540 - mae: 8.8540\n",
            "Epoch 212/500\n",
            "2/2 [==============================] - 0s 8ms/step - loss: 18.6211 - mae: 18.6211\n",
            "Epoch 213/500\n",
            "2/2 [==============================] - 0s 7ms/step - loss: 15.0631 - mae: 15.0631\n",
            "Epoch 214/500\n",
            "2/2 [==============================] - 0s 8ms/step - loss: 14.8075 - mae: 14.8075\n",
            "Epoch 215/500\n",
            "2/2 [==============================] - 0s 5ms/step - loss: 24.6706 - mae: 24.6706\n",
            "Epoch 216/500\n",
            "2/2 [==============================] - 0s 10ms/step - loss: 12.8053 - mae: 12.8053\n",
            "Epoch 217/500\n",
            "2/2 [==============================] - 0s 7ms/step - loss: 9.7938 - mae: 9.7938\n",
            "Epoch 218/500\n",
            "2/2 [==============================] - 0s 7ms/step - loss: 12.3979 - mae: 12.3979\n",
            "Epoch 219/500\n",
            "2/2 [==============================] - 0s 5ms/step - loss: 5.0245 - mae: 5.0245\n",
            "Epoch 220/500\n",
            "2/2 [==============================] - 0s 7ms/step - loss: 6.8297 - mae: 6.8297\n",
            "Epoch 221/500\n",
            "2/2 [==============================] - 0s 4ms/step - loss: 37.3270 - mae: 37.3270\n",
            "Epoch 222/500\n",
            "2/2 [==============================] - 0s 12ms/step - loss: 36.7870 - mae: 36.7870\n",
            "Epoch 223/500\n",
            "2/2 [==============================] - 0s 4ms/step - loss: 7.3082 - mae: 7.3082\n",
            "Epoch 224/500\n",
            "2/2 [==============================] - 0s 6ms/step - loss: 15.3583 - mae: 15.3583\n",
            "Epoch 225/500\n",
            "2/2 [==============================] - 0s 7ms/step - loss: 16.9646 - mae: 16.9646\n",
            "Epoch 226/500\n",
            "2/2 [==============================] - 0s 6ms/step - loss: 16.5040 - mae: 16.5040\n",
            "Epoch 227/500\n",
            "2/2 [==============================] - 0s 5ms/step - loss: 16.8008 - mae: 16.8008\n",
            "Epoch 228/500\n",
            "2/2 [==============================] - 0s 7ms/step - loss: 14.3646 - mae: 14.3646\n",
            "Epoch 229/500\n",
            "2/2 [==============================] - 0s 5ms/step - loss: 18.9498 - mae: 18.9498\n",
            "Epoch 230/500\n",
            "2/2 [==============================] - 0s 8ms/step - loss: 15.3734 - mae: 15.3734\n",
            "Epoch 231/500\n",
            "2/2 [==============================] - 0s 5ms/step - loss: 22.2855 - mae: 22.2855\n",
            "Epoch 232/500\n",
            "2/2 [==============================] - 0s 10ms/step - loss: 25.6766 - mae: 25.6766\n",
            "Epoch 233/500\n",
            "2/2 [==============================] - 0s 4ms/step - loss: 15.8456 - mae: 15.8456\n",
            "Epoch 234/500\n",
            "2/2 [==============================] - 0s 6ms/step - loss: 7.1198 - mae: 7.1198\n",
            "Epoch 235/500\n",
            "2/2 [==============================] - 0s 5ms/step - loss: 16.5359 - mae: 16.5359\n",
            "Epoch 236/500\n",
            "2/2 [==============================] - 0s 7ms/step - loss: 6.8411 - mae: 6.8411\n",
            "Epoch 237/500\n",
            "2/2 [==============================] - 0s 6ms/step - loss: 8.4978 - mae: 8.4978\n",
            "Epoch 238/500\n",
            "2/2 [==============================] - 0s 4ms/step - loss: 7.6219 - mae: 7.6219\n",
            "Epoch 239/500\n",
            "2/2 [==============================] - 0s 5ms/step - loss: 16.6738 - mae: 16.6738\n",
            "Epoch 240/500\n",
            "2/2 [==============================] - 0s 7ms/step - loss: 8.1090 - mae: 8.1090\n",
            "Epoch 241/500\n",
            "2/2 [==============================] - 0s 9ms/step - loss: 12.2173 - mae: 12.2173\n",
            "Epoch 242/500\n",
            "2/2 [==============================] - 0s 6ms/step - loss: 8.4286 - mae: 8.4286\n",
            "Epoch 243/500\n",
            "2/2 [==============================] - 0s 6ms/step - loss: 19.0475 - mae: 19.0475\n",
            "Epoch 244/500\n",
            "2/2 [==============================] - 0s 6ms/step - loss: 13.8906 - mae: 13.8906\n",
            "Epoch 245/500\n",
            "2/2 [==============================] - 0s 5ms/step - loss: 14.9766 - mae: 14.9766\n",
            "Epoch 246/500\n",
            "2/2 [==============================] - 0s 7ms/step - loss: 16.5221 - mae: 16.5221\n",
            "Epoch 247/500\n",
            "2/2 [==============================] - 0s 6ms/step - loss: 18.3671 - mae: 18.3671\n",
            "Epoch 248/500\n",
            "2/2 [==============================] - 0s 4ms/step - loss: 12.7968 - mae: 12.7968\n",
            "Epoch 249/500\n",
            "2/2 [==============================] - 0s 6ms/step - loss: 14.6663 - mae: 14.6663\n",
            "Epoch 250/500\n",
            "2/2 [==============================] - 0s 6ms/step - loss: 24.6626 - mae: 24.6626\n",
            "Epoch 251/500\n",
            "2/2 [==============================] - 0s 4ms/step - loss: 8.8291 - mae: 8.8291\n",
            "Epoch 252/500\n",
            "2/2 [==============================] - 0s 6ms/step - loss: 38.5683 - mae: 38.5683\n",
            "Epoch 253/500\n",
            "2/2 [==============================] - 0s 6ms/step - loss: 21.8404 - mae: 21.8404\n",
            "Epoch 254/500\n",
            "2/2 [==============================] - 0s 4ms/step - loss: 6.6485 - mae: 6.6485\n",
            "Epoch 255/500\n",
            "2/2 [==============================] - 0s 7ms/step - loss: 24.9959 - mae: 24.9959\n",
            "Epoch 256/500\n",
            "2/2 [==============================] - 0s 5ms/step - loss: 11.5965 - mae: 11.5965\n",
            "Epoch 257/500\n",
            "2/2 [==============================] - 0s 7ms/step - loss: 10.0635 - mae: 10.0635\n",
            "Epoch 258/500\n",
            "2/2 [==============================] - 0s 4ms/step - loss: 13.8021 - mae: 13.8021\n",
            "Epoch 259/500\n",
            "2/2 [==============================] - 0s 8ms/step - loss: 8.3765 - mae: 8.3765\n",
            "Epoch 260/500\n",
            "2/2 [==============================] - 0s 7ms/step - loss: 45.7482 - mae: 45.7482\n",
            "Epoch 261/500\n",
            "2/2 [==============================] - 0s 6ms/step - loss: 18.1356 - mae: 18.1356\n",
            "Epoch 262/500\n",
            "2/2 [==============================] - 0s 9ms/step - loss: 6.3169 - mae: 6.3169\n",
            "Epoch 263/500\n",
            "2/2 [==============================] - 0s 7ms/step - loss: 13.7268 - mae: 13.7268\n",
            "Epoch 264/500\n",
            "2/2 [==============================] - 0s 7ms/step - loss: 22.1387 - mae: 22.1387\n",
            "Epoch 265/500\n",
            "2/2 [==============================] - 0s 4ms/step - loss: 19.3151 - mae: 19.3151\n",
            "Epoch 266/500\n",
            "2/2 [==============================] - 0s 3ms/step - loss: 10.9408 - mae: 10.9408\n",
            "Epoch 267/500\n",
            "2/2 [==============================] - 0s 7ms/step - loss: 6.7507 - mae: 6.7507\n",
            "Epoch 268/500\n",
            "2/2 [==============================] - 0s 4ms/step - loss: 22.1636 - mae: 22.1636\n",
            "Epoch 269/500\n",
            "2/2 [==============================] - 0s 6ms/step - loss: 34.7302 - mae: 34.7302\n",
            "Epoch 270/500\n",
            "2/2 [==============================] - 0s 6ms/step - loss: 9.6729 - mae: 9.6729\n",
            "Epoch 271/500\n",
            "2/2 [==============================] - 0s 6ms/step - loss: 10.5268 - mae: 10.5268\n",
            "Epoch 272/500\n",
            "2/2 [==============================] - 0s 6ms/step - loss: 26.9760 - mae: 26.9760\n",
            "Epoch 273/500\n",
            "2/2 [==============================] - 0s 9ms/step - loss: 11.6137 - mae: 11.6137\n",
            "Epoch 274/500\n",
            "2/2 [==============================] - 0s 6ms/step - loss: 12.0721 - mae: 12.0721\n",
            "Epoch 275/500\n",
            "2/2 [==============================] - 0s 13ms/step - loss: 30.5160 - mae: 30.5160\n",
            "Epoch 276/500\n",
            "2/2 [==============================] - 0s 7ms/step - loss: 6.5488 - mae: 6.5488\n",
            "Epoch 277/500\n",
            "2/2 [==============================] - 0s 7ms/step - loss: 31.9636 - mae: 31.9636\n",
            "Epoch 278/500\n",
            "2/2 [==============================] - 0s 7ms/step - loss: 11.5564 - mae: 11.5564\n",
            "Epoch 279/500\n",
            "2/2 [==============================] - 0s 6ms/step - loss: 17.3607 - mae: 17.3607\n",
            "Epoch 280/500\n",
            "2/2 [==============================] - 0s 5ms/step - loss: 23.1189 - mae: 23.1189\n",
            "Epoch 281/500\n",
            "2/2 [==============================] - 0s 10ms/step - loss: 22.5077 - mae: 22.5077\n",
            "Epoch 282/500\n",
            "2/2 [==============================] - 0s 6ms/step - loss: 7.2140 - mae: 7.2140\n",
            "Epoch 283/500\n",
            "2/2 [==============================] - 0s 6ms/step - loss: 7.7725 - mae: 7.7725\n",
            "Epoch 284/500\n",
            "2/2 [==============================] - 0s 6ms/step - loss: 25.4832 - mae: 25.4832\n",
            "Epoch 285/500\n",
            "2/2 [==============================] - 0s 12ms/step - loss: 13.3877 - mae: 13.3877\n",
            "Epoch 286/500\n",
            "2/2 [==============================] - 0s 4ms/step - loss: 6.2528 - mae: 6.2528\n",
            "Epoch 287/500\n",
            "2/2 [==============================] - 0s 6ms/step - loss: 25.2020 - mae: 25.2020\n",
            "Epoch 288/500\n",
            "2/2 [==============================] - 0s 7ms/step - loss: 20.5697 - mae: 20.5697\n",
            "Epoch 289/500\n",
            "2/2 [==============================] - 0s 5ms/step - loss: 11.0906 - mae: 11.0906\n",
            "Epoch 290/500\n",
            "2/2 [==============================] - 0s 6ms/step - loss: 17.0029 - mae: 17.0029\n",
            "Epoch 291/500\n",
            "2/2 [==============================] - 0s 5ms/step - loss: 17.6342 - mae: 17.6342\n",
            "Epoch 292/500\n",
            "2/2 [==============================] - 0s 7ms/step - loss: 8.1010 - mae: 8.1010\n",
            "Epoch 293/500\n",
            "2/2 [==============================] - 0s 9ms/step - loss: 15.5974 - mae: 15.5974\n",
            "Epoch 294/500\n",
            "2/2 [==============================] - 0s 10ms/step - loss: 24.0056 - mae: 24.0056\n",
            "Epoch 295/500\n",
            "2/2 [==============================] - 0s 5ms/step - loss: 17.6288 - mae: 17.6288\n",
            "Epoch 296/500\n",
            "2/2 [==============================] - 0s 4ms/step - loss: 5.7207 - mae: 5.7207\n",
            "Epoch 297/500\n",
            "2/2 [==============================] - 0s 5ms/step - loss: 9.5090 - mae: 9.5090\n",
            "Epoch 298/500\n",
            "2/2 [==============================] - 0s 6ms/step - loss: 24.2070 - mae: 24.2070\n",
            "Epoch 299/500\n",
            "2/2 [==============================] - 0s 6ms/step - loss: 17.5093 - mae: 17.5093\n",
            "Epoch 300/500\n",
            "2/2 [==============================] - 0s 7ms/step - loss: 6.9937 - mae: 6.9937\n",
            "Epoch 301/500\n",
            "2/2 [==============================] - 0s 6ms/step - loss: 25.4316 - mae: 25.4316\n",
            "Epoch 302/500\n",
            "2/2 [==============================] - 0s 7ms/step - loss: 8.5327 - mae: 8.5327\n",
            "Epoch 303/500\n",
            "2/2 [==============================] - 0s 6ms/step - loss: 17.2889 - mae: 17.2889\n",
            "Epoch 304/500\n",
            "2/2 [==============================] - 0s 4ms/step - loss: 10.1101 - mae: 10.1101\n",
            "Epoch 305/500\n",
            "2/2 [==============================] - 0s 4ms/step - loss: 12.0683 - mae: 12.0683\n",
            "Epoch 306/500\n",
            "2/2 [==============================] - 0s 7ms/step - loss: 7.9177 - mae: 7.9177\n",
            "Epoch 307/500\n",
            "2/2 [==============================] - 0s 7ms/step - loss: 12.7052 - mae: 12.7052\n",
            "Epoch 308/500\n",
            "2/2 [==============================] - 0s 6ms/step - loss: 6.9439 - mae: 6.9439\n",
            "Epoch 309/500\n",
            "2/2 [==============================] - 0s 6ms/step - loss: 8.8822 - mae: 8.8822\n",
            "Epoch 310/500\n",
            "2/2 [==============================] - 0s 7ms/step - loss: 10.3575 - mae: 10.3575\n",
            "Epoch 311/500\n",
            "2/2 [==============================] - 0s 8ms/step - loss: 12.4583 - mae: 12.4583\n",
            "Epoch 312/500\n",
            "2/2 [==============================] - 0s 5ms/step - loss: 30.1003 - mae: 30.1003\n",
            "Epoch 313/500\n",
            "2/2 [==============================] - 0s 7ms/step - loss: 6.8146 - mae: 6.8146\n",
            "Epoch 314/500\n",
            "2/2 [==============================] - 0s 4ms/step - loss: 8.5820 - mae: 8.5820\n",
            "Epoch 315/500\n",
            "2/2 [==============================] - 0s 5ms/step - loss: 24.8169 - mae: 24.8169\n",
            "Epoch 316/500\n",
            "2/2 [==============================] - 0s 4ms/step - loss: 15.7743 - mae: 15.7743\n",
            "Epoch 317/500\n",
            "2/2 [==============================] - 0s 6ms/step - loss: 20.6639 - mae: 20.6639\n",
            "Epoch 318/500\n",
            "2/2 [==============================] - 0s 4ms/step - loss: 7.6411 - mae: 7.6411\n",
            "Epoch 319/500\n",
            "2/2 [==============================] - 0s 10ms/step - loss: 17.5016 - mae: 17.5016\n",
            "Epoch 320/500\n",
            "2/2 [==============================] - 0s 4ms/step - loss: 9.6369 - mae: 9.6369\n",
            "Epoch 321/500\n",
            "2/2 [==============================] - 0s 4ms/step - loss: 7.6257 - mae: 7.6257\n",
            "Epoch 322/500\n",
            "2/2 [==============================] - 0s 4ms/step - loss: 4.7523 - mae: 4.7523\n",
            "Epoch 323/500\n",
            "2/2 [==============================] - 0s 4ms/step - loss: 23.8769 - mae: 23.8769\n",
            "Epoch 324/500\n",
            "2/2 [==============================] - 0s 4ms/step - loss: 6.5827 - mae: 6.5827\n",
            "Epoch 325/500\n",
            "2/2 [==============================] - 0s 3ms/step - loss: 15.7011 - mae: 15.7011\n",
            "Epoch 326/500\n",
            "2/2 [==============================] - 0s 10ms/step - loss: 7.0888 - mae: 7.0888\n",
            "Epoch 327/500\n",
            "2/2 [==============================] - 0s 8ms/step - loss: 20.2157 - mae: 20.2157\n",
            "Epoch 328/500\n",
            "2/2 [==============================] - 0s 8ms/step - loss: 13.8279 - mae: 13.8279\n",
            "Epoch 329/500\n",
            "2/2 [==============================] - 0s 5ms/step - loss: 17.7642 - mae: 17.7642\n",
            "Epoch 330/500\n",
            "2/2 [==============================] - 0s 3ms/step - loss: 6.3600 - mae: 6.3600\n",
            "Epoch 331/500\n",
            "2/2 [==============================] - 0s 4ms/step - loss: 21.7519 - mae: 21.7519\n",
            "Epoch 332/500\n",
            "2/2 [==============================] - 0s 4ms/step - loss: 11.2420 - mae: 11.2420\n",
            "Epoch 333/500\n",
            "2/2 [==============================] - 0s 4ms/step - loss: 11.1790 - mae: 11.1790\n",
            "Epoch 334/500\n",
            "2/2 [==============================] - 0s 4ms/step - loss: 7.5349 - mae: 7.5349\n",
            "Epoch 335/500\n",
            "2/2 [==============================] - 0s 5ms/step - loss: 11.1596 - mae: 11.1596\n",
            "Epoch 336/500\n",
            "2/2 [==============================] - 0s 4ms/step - loss: 32.2226 - mae: 32.2226\n",
            "Epoch 337/500\n",
            "2/2 [==============================] - 0s 4ms/step - loss: 9.5676 - mae: 9.5676\n",
            "Epoch 338/500\n",
            "2/2 [==============================] - 0s 4ms/step - loss: 20.4626 - mae: 20.4626\n",
            "Epoch 339/500\n",
            "2/2 [==============================] - 0s 4ms/step - loss: 36.5697 - mae: 36.5697\n",
            "Epoch 340/500\n",
            "2/2 [==============================] - 0s 4ms/step - loss: 9.4412 - mae: 9.4412\n",
            "Epoch 341/500\n",
            "2/2 [==============================] - 0s 4ms/step - loss: 9.2981 - mae: 9.2981\n",
            "Epoch 342/500\n",
            "2/2 [==============================] - 0s 5ms/step - loss: 11.7808 - mae: 11.7808\n",
            "Epoch 343/500\n",
            "2/2 [==============================] - 0s 4ms/step - loss: 8.6574 - mae: 8.6574\n",
            "Epoch 344/500\n",
            "2/2 [==============================] - 0s 4ms/step - loss: 5.2876 - mae: 5.2876\n",
            "Epoch 345/500\n",
            "2/2 [==============================] - 0s 4ms/step - loss: 39.5019 - mae: 39.5019\n",
            "Epoch 346/500\n",
            "2/2 [==============================] - 0s 4ms/step - loss: 16.1694 - mae: 16.1694\n",
            "Epoch 347/500\n",
            "2/2 [==============================] - 0s 4ms/step - loss: 12.1609 - mae: 12.1609\n",
            "Epoch 348/500\n",
            "2/2 [==============================] - 0s 4ms/step - loss: 7.1087 - mae: 7.1087\n",
            "Epoch 349/500\n",
            "2/2 [==============================] - 0s 4ms/step - loss: 12.9491 - mae: 12.9491\n",
            "Epoch 350/500\n",
            "2/2 [==============================] - 0s 6ms/step - loss: 16.1665 - mae: 16.1665\n",
            "Epoch 351/500\n",
            "2/2 [==============================] - 0s 4ms/step - loss: 34.0546 - mae: 34.0546\n",
            "Epoch 352/500\n",
            "2/2 [==============================] - 0s 8ms/step - loss: 14.2398 - mae: 14.2398\n",
            "Epoch 353/500\n",
            "2/2 [==============================] - 0s 12ms/step - loss: 16.6958 - mae: 16.6958\n",
            "Epoch 354/500\n",
            "2/2 [==============================] - 0s 5ms/step - loss: 19.8495 - mae: 19.8495\n",
            "Epoch 355/500\n",
            "2/2 [==============================] - 0s 6ms/step - loss: 35.6263 - mae: 35.6263\n",
            "Epoch 356/500\n",
            "2/2 [==============================] - 0s 5ms/step - loss: 7.3612 - mae: 7.3612\n",
            "Epoch 357/500\n",
            "2/2 [==============================] - 0s 4ms/step - loss: 25.8731 - mae: 25.8731\n",
            "Epoch 358/500\n",
            "2/2 [==============================] - 0s 5ms/step - loss: 23.0121 - mae: 23.0121\n",
            "Epoch 359/500\n",
            "2/2 [==============================] - 0s 4ms/step - loss: 7.5922 - mae: 7.5922\n",
            "Epoch 360/500\n",
            "2/2 [==============================] - 0s 9ms/step - loss: 22.7494 - mae: 22.7494\n",
            "Epoch 361/500\n",
            "2/2 [==============================] - 0s 6ms/step - loss: 20.6563 - mae: 20.6563\n",
            "Epoch 362/500\n",
            "2/2 [==============================] - 0s 5ms/step - loss: 6.4755 - mae: 6.4755\n",
            "Epoch 363/500\n",
            "2/2 [==============================] - 0s 3ms/step - loss: 26.4405 - mae: 26.4405\n",
            "Epoch 364/500\n",
            "2/2 [==============================] - 0s 6ms/step - loss: 33.4598 - mae: 33.4598\n",
            "Epoch 365/500\n",
            "2/2 [==============================] - 0s 4ms/step - loss: 9.3624 - mae: 9.3624\n",
            "Epoch 366/500\n",
            "2/2 [==============================] - 0s 6ms/step - loss: 8.1176 - mae: 8.1176\n",
            "Epoch 367/500\n",
            "2/2 [==============================] - 0s 5ms/step - loss: 31.5796 - mae: 31.5796\n",
            "Epoch 368/500\n",
            "2/2 [==============================] - 0s 5ms/step - loss: 9.3113 - mae: 9.3113\n",
            "Epoch 369/500\n",
            "2/2 [==============================] - 0s 5ms/step - loss: 15.4732 - mae: 15.4732\n",
            "Epoch 370/500\n",
            "2/2 [==============================] - 0s 5ms/step - loss: 15.1064 - mae: 15.1064\n",
            "Epoch 371/500\n",
            "2/2 [==============================] - 0s 6ms/step - loss: 24.6474 - mae: 24.6474\n",
            "Epoch 372/500\n",
            "2/2 [==============================] - 0s 3ms/step - loss: 12.0766 - mae: 12.0766\n",
            "Epoch 373/500\n",
            "2/2 [==============================] - 0s 5ms/step - loss: 8.6625 - mae: 8.6625\n",
            "Epoch 374/500\n",
            "2/2 [==============================] - 0s 7ms/step - loss: 8.5077 - mae: 8.5077\n",
            "Epoch 375/500\n",
            "2/2 [==============================] - 0s 7ms/step - loss: 12.7402 - mae: 12.7402\n",
            "Epoch 376/500\n",
            "2/2 [==============================] - 0s 5ms/step - loss: 15.4849 - mae: 15.4849\n",
            "Epoch 377/500\n",
            "2/2 [==============================] - 0s 8ms/step - loss: 14.3770 - mae: 14.3770\n",
            "Epoch 378/500\n",
            "2/2 [==============================] - 0s 6ms/step - loss: 17.3350 - mae: 17.3350\n",
            "Epoch 379/500\n",
            "2/2 [==============================] - 0s 5ms/step - loss: 21.5410 - mae: 21.5410\n",
            "Epoch 380/500\n",
            "2/2 [==============================] - 0s 5ms/step - loss: 35.0745 - mae: 35.0745\n",
            "Epoch 381/500\n",
            "2/2 [==============================] - 0s 5ms/step - loss: 7.6949 - mae: 7.6949\n",
            "Epoch 382/500\n",
            "2/2 [==============================] - 0s 5ms/step - loss: 12.5581 - mae: 12.5581\n",
            "Epoch 383/500\n",
            "2/2 [==============================] - 0s 6ms/step - loss: 7.7018 - mae: 7.7018\n",
            "Epoch 384/500\n",
            "2/2 [==============================] - 0s 4ms/step - loss: 6.5894 - mae: 6.5894\n",
            "Epoch 385/500\n",
            "2/2 [==============================] - 0s 6ms/step - loss: 9.5069 - mae: 9.5069\n",
            "Epoch 386/500\n",
            "2/2 [==============================] - 0s 7ms/step - loss: 21.0157 - mae: 21.0157\n",
            "Epoch 387/500\n",
            "2/2 [==============================] - 0s 4ms/step - loss: 25.3279 - mae: 25.3279\n",
            "Epoch 388/500\n",
            "2/2 [==============================] - 0s 4ms/step - loss: 8.1201 - mae: 8.1201\n",
            "Epoch 389/500\n",
            "2/2 [==============================] - 0s 8ms/step - loss: 5.9262 - mae: 5.9262\n",
            "Epoch 390/500\n",
            "2/2 [==============================] - 0s 5ms/step - loss: 24.9399 - mae: 24.9399\n",
            "Epoch 391/500\n",
            "2/2 [==============================] - 0s 5ms/step - loss: 5.3383 - mae: 5.3383\n",
            "Epoch 392/500\n",
            "2/2 [==============================] - 0s 7ms/step - loss: 15.4748 - mae: 15.4748\n",
            "Epoch 393/500\n",
            "2/2 [==============================] - 0s 5ms/step - loss: 5.3155 - mae: 5.3155\n",
            "Epoch 394/500\n",
            "2/2 [==============================] - 0s 8ms/step - loss: 10.0902 - mae: 10.0902\n",
            "Epoch 395/500\n",
            "2/2 [==============================] - 0s 7ms/step - loss: 14.1821 - mae: 14.1821\n",
            "Epoch 396/500\n",
            "2/2 [==============================] - 0s 11ms/step - loss: 6.8618 - mae: 6.8618\n",
            "Epoch 397/500\n",
            "2/2 [==============================] - 0s 5ms/step - loss: 8.0388 - mae: 8.0388\n",
            "Epoch 398/500\n",
            "2/2 [==============================] - 0s 10ms/step - loss: 13.8073 - mae: 13.8073\n",
            "Epoch 399/500\n",
            "2/2 [==============================] - 0s 4ms/step - loss: 9.7531 - mae: 9.7531\n",
            "Epoch 400/500\n",
            "2/2 [==============================] - 0s 5ms/step - loss: 23.2993 - mae: 23.2993\n",
            "Epoch 401/500\n",
            "2/2 [==============================] - 0s 8ms/step - loss: 14.3730 - mae: 14.3730\n",
            "Epoch 402/500\n",
            "2/2 [==============================] - 0s 8ms/step - loss: 7.7284 - mae: 7.7284\n",
            "Epoch 403/500\n",
            "2/2 [==============================] - 0s 7ms/step - loss: 9.4205 - mae: 9.4205\n",
            "Epoch 404/500\n",
            "2/2 [==============================] - 0s 6ms/step - loss: 9.3544 - mae: 9.3544\n",
            "Epoch 405/500\n",
            "2/2 [==============================] - 0s 5ms/step - loss: 5.8138 - mae: 5.8138\n",
            "Epoch 406/500\n",
            "2/2 [==============================] - 0s 5ms/step - loss: 17.3152 - mae: 17.3152\n",
            "Epoch 407/500\n",
            "2/2 [==============================] - 0s 5ms/step - loss: 9.8933 - mae: 9.8933\n",
            "Epoch 408/500\n",
            "2/2 [==============================] - 0s 5ms/step - loss: 21.8613 - mae: 21.8613\n",
            "Epoch 409/500\n",
            "2/2 [==============================] - 0s 5ms/step - loss: 32.9578 - mae: 32.9578\n",
            "Epoch 410/500\n",
            "2/2 [==============================] - 0s 5ms/step - loss: 7.9618 - mae: 7.9618\n",
            "Epoch 411/500\n",
            "2/2 [==============================] - 0s 18ms/step - loss: 14.7364 - mae: 14.7364\n",
            "Epoch 412/500\n",
            "2/2 [==============================] - 0s 16ms/step - loss: 23.1980 - mae: 23.1980\n",
            "Epoch 413/500\n",
            "2/2 [==============================] - 0s 6ms/step - loss: 11.8724 - mae: 11.8724\n",
            "Epoch 414/500\n",
            "2/2 [==============================] - 0s 7ms/step - loss: 5.3169 - mae: 5.3169\n",
            "Epoch 415/500\n",
            "2/2 [==============================] - 0s 6ms/step - loss: 12.9845 - mae: 12.9845\n",
            "Epoch 416/500\n",
            "2/2 [==============================] - 0s 3ms/step - loss: 27.9658 - mae: 27.9658\n",
            "Epoch 417/500\n",
            "2/2 [==============================] - 0s 4ms/step - loss: 10.0397 - mae: 10.0397\n",
            "Epoch 418/500\n",
            "2/2 [==============================] - 0s 4ms/step - loss: 12.4292 - mae: 12.4292\n",
            "Epoch 419/500\n",
            "2/2 [==============================] - 0s 6ms/step - loss: 16.7571 - mae: 16.7571\n",
            "Epoch 420/500\n",
            "2/2 [==============================] - 0s 9ms/step - loss: 25.5950 - mae: 25.5950\n",
            "Epoch 421/500\n",
            "2/2 [==============================] - 0s 4ms/step - loss: 16.8935 - mae: 16.8935\n",
            "Epoch 422/500\n",
            "2/2 [==============================] - 0s 4ms/step - loss: 6.5194 - mae: 6.5194\n",
            "Epoch 423/500\n",
            "2/2 [==============================] - 0s 5ms/step - loss: 26.2627 - mae: 26.2627\n",
            "Epoch 424/500\n",
            "2/2 [==============================] - 0s 4ms/step - loss: 14.3894 - mae: 14.3894\n",
            "Epoch 425/500\n",
            "2/2 [==============================] - 0s 5ms/step - loss: 6.5461 - mae: 6.5461\n",
            "Epoch 426/500\n",
            "2/2 [==============================] - 0s 6ms/step - loss: 20.0221 - mae: 20.0221\n",
            "Epoch 427/500\n",
            "2/2 [==============================] - 0s 6ms/step - loss: 5.4675 - mae: 5.4675\n",
            "Epoch 428/500\n",
            "2/2 [==============================] - 0s 6ms/step - loss: 11.9020 - mae: 11.9020\n",
            "Epoch 429/500\n",
            "2/2 [==============================] - 0s 7ms/step - loss: 9.7413 - mae: 9.7413\n",
            "Epoch 430/500\n",
            "2/2 [==============================] - 0s 6ms/step - loss: 10.3967 - mae: 10.3967\n",
            "Epoch 431/500\n",
            "2/2 [==============================] - 0s 7ms/step - loss: 9.5247 - mae: 9.5247\n",
            "Epoch 432/500\n",
            "2/2 [==============================] - 0s 8ms/step - loss: 10.4026 - mae: 10.4026\n",
            "Epoch 433/500\n",
            "2/2 [==============================] - 0s 4ms/step - loss: 9.5572 - mae: 9.5572\n",
            "Epoch 434/500\n",
            "2/2 [==============================] - 0s 9ms/step - loss: 31.0641 - mae: 31.0641\n",
            "Epoch 435/500\n",
            "2/2 [==============================] - 0s 4ms/step - loss: 8.7320 - mae: 8.7320\n",
            "Epoch 436/500\n",
            "2/2 [==============================] - 0s 10ms/step - loss: 30.4039 - mae: 30.4039\n",
            "Epoch 437/500\n",
            "2/2 [==============================] - 0s 8ms/step - loss: 7.2410 - mae: 7.2410\n",
            "Epoch 438/500\n",
            "2/2 [==============================] - 0s 4ms/step - loss: 11.4983 - mae: 11.4983\n",
            "Epoch 439/500\n",
            "2/2 [==============================] - 0s 6ms/step - loss: 34.0209 - mae: 34.0209\n",
            "Epoch 440/500\n",
            "2/2 [==============================] - 0s 6ms/step - loss: 15.0207 - mae: 15.0207\n",
            "Epoch 441/500\n",
            "2/2 [==============================] - 0s 5ms/step - loss: 18.6827 - mae: 18.6827\n",
            "Epoch 442/500\n",
            "2/2 [==============================] - 0s 6ms/step - loss: 23.3211 - mae: 23.3211\n",
            "Epoch 443/500\n",
            "2/2 [==============================] - 0s 11ms/step - loss: 23.7391 - mae: 23.7391\n",
            "Epoch 444/500\n",
            "2/2 [==============================] - 0s 6ms/step - loss: 10.5044 - mae: 10.5044\n",
            "Epoch 445/500\n",
            "2/2 [==============================] - 0s 13ms/step - loss: 15.2148 - mae: 15.2148\n",
            "Epoch 446/500\n",
            "2/2 [==============================] - 0s 9ms/step - loss: 19.1407 - mae: 19.1407\n",
            "Epoch 447/500\n",
            "2/2 [==============================] - 0s 9ms/step - loss: 4.9130 - mae: 4.9130\n",
            "Epoch 448/500\n",
            "2/2 [==============================] - 0s 9ms/step - loss: 8.6091 - mae: 8.6091\n",
            "Epoch 449/500\n",
            "2/2 [==============================] - 0s 10ms/step - loss: 13.8472 - mae: 13.8472\n",
            "Epoch 450/500\n",
            "2/2 [==============================] - 0s 9ms/step - loss: 17.7478 - mae: 17.7478\n",
            "Epoch 451/500\n",
            "2/2 [==============================] - 0s 10ms/step - loss: 14.7603 - mae: 14.7603\n",
            "Epoch 452/500\n",
            "2/2 [==============================] - 0s 12ms/step - loss: 31.1154 - mae: 31.1154\n",
            "Epoch 453/500\n",
            "2/2 [==============================] - 0s 5ms/step - loss: 6.3488 - mae: 6.3488\n",
            "Epoch 454/500\n",
            "2/2 [==============================] - 0s 6ms/step - loss: 28.8322 - mae: 28.8322\n",
            "Epoch 455/500\n",
            "2/2 [==============================] - 0s 7ms/step - loss: 7.3912 - mae: 7.3912\n",
            "Epoch 456/500\n",
            "2/2 [==============================] - 0s 6ms/step - loss: 8.8416 - mae: 8.8416\n",
            "Epoch 457/500\n",
            "2/2 [==============================] - 0s 10ms/step - loss: 15.4993 - mae: 15.4993\n",
            "Epoch 458/500\n",
            "2/2 [==============================] - 0s 4ms/step - loss: 17.7243 - mae: 17.7243\n",
            "Epoch 459/500\n",
            "2/2 [==============================] - 0s 5ms/step - loss: 27.5770 - mae: 27.5770\n",
            "Epoch 460/500\n",
            "2/2 [==============================] - 0s 4ms/step - loss: 11.7501 - mae: 11.7501\n",
            "Epoch 461/500\n",
            "2/2 [==============================] - 0s 5ms/step - loss: 11.5889 - mae: 11.5889\n",
            "Epoch 462/500\n",
            "2/2 [==============================] - 0s 4ms/step - loss: 13.2257 - mae: 13.2257\n",
            "Epoch 463/500\n",
            "2/2 [==============================] - 0s 6ms/step - loss: 30.3476 - mae: 30.3476\n",
            "Epoch 464/500\n",
            "2/2 [==============================] - 0s 4ms/step - loss: 3.3242 - mae: 3.3242\n",
            "Epoch 465/500\n",
            "2/2 [==============================] - 0s 5ms/step - loss: 15.9370 - mae: 15.9370\n",
            "Epoch 466/500\n",
            "2/2 [==============================] - 0s 4ms/step - loss: 21.7724 - mae: 21.7724\n",
            "Epoch 467/500\n",
            "2/2 [==============================] - 0s 8ms/step - loss: 31.6820 - mae: 31.6820\n",
            "Epoch 468/500\n",
            "2/2 [==============================] - 0s 7ms/step - loss: 9.6243 - mae: 9.6243\n",
            "Epoch 469/500\n",
            "2/2 [==============================] - 0s 9ms/step - loss: 11.8263 - mae: 11.8263\n",
            "Epoch 470/500\n",
            "2/2 [==============================] - 0s 5ms/step - loss: 3.2032 - mae: 3.2032\n",
            "Epoch 471/500\n",
            "2/2 [==============================] - 0s 3ms/step - loss: 17.3217 - mae: 17.3217\n",
            "Epoch 472/500\n",
            "2/2 [==============================] - 0s 6ms/step - loss: 12.9616 - mae: 12.9616\n",
            "Epoch 473/500\n",
            "2/2 [==============================] - 0s 5ms/step - loss: 16.3344 - mae: 16.3344\n",
            "Epoch 474/500\n",
            "2/2 [==============================] - 0s 6ms/step - loss: 10.4298 - mae: 10.4298\n",
            "Epoch 475/500\n",
            "2/2 [==============================] - 0s 6ms/step - loss: 17.3095 - mae: 17.3095\n",
            "Epoch 476/500\n",
            "2/2 [==============================] - 0s 13ms/step - loss: 14.0110 - mae: 14.0110\n",
            "Epoch 477/500\n",
            "2/2 [==============================] - 0s 5ms/step - loss: 31.3851 - mae: 31.3851\n",
            "Epoch 478/500\n",
            "2/2 [==============================] - 0s 7ms/step - loss: 7.4666 - mae: 7.4666\n",
            "Epoch 479/500\n",
            "2/2 [==============================] - 0s 8ms/step - loss: 9.3610 - mae: 9.3610\n",
            "Epoch 480/500\n",
            "2/2 [==============================] - 0s 8ms/step - loss: 19.0261 - mae: 19.0261\n",
            "Epoch 481/500\n",
            "2/2 [==============================] - 0s 5ms/step - loss: 16.5661 - mae: 16.5661\n",
            "Epoch 482/500\n",
            "2/2 [==============================] - 0s 9ms/step - loss: 22.2981 - mae: 22.2981\n",
            "Epoch 483/500\n",
            "2/2 [==============================] - 0s 5ms/step - loss: 25.8888 - mae: 25.8888\n",
            "Epoch 484/500\n",
            "2/2 [==============================] - 0s 4ms/step - loss: 24.0995 - mae: 24.0995\n",
            "Epoch 485/500\n",
            "2/2 [==============================] - 0s 5ms/step - loss: 5.2883 - mae: 5.2883\n",
            "Epoch 486/500\n",
            "2/2 [==============================] - 0s 5ms/step - loss: 20.4084 - mae: 20.4084\n",
            "Epoch 487/500\n",
            "2/2 [==============================] - 0s 5ms/step - loss: 14.3825 - mae: 14.3825\n",
            "Epoch 488/500\n",
            "2/2 [==============================] - 0s 5ms/step - loss: 32.0213 - mae: 32.0213\n",
            "Epoch 489/500\n",
            "2/2 [==============================] - 0s 5ms/step - loss: 11.1841 - mae: 11.1841\n",
            "Epoch 490/500\n",
            "2/2 [==============================] - 0s 4ms/step - loss: 11.9448 - mae: 11.9448\n",
            "Epoch 491/500\n",
            "2/2 [==============================] - 0s 3ms/step - loss: 24.6860 - mae: 24.6860\n",
            "Epoch 492/500\n",
            "2/2 [==============================] - 0s 9ms/step - loss: 20.3409 - mae: 20.3409\n",
            "Epoch 493/500\n",
            "2/2 [==============================] - 0s 6ms/step - loss: 4.5806 - mae: 4.5806\n",
            "Epoch 494/500\n",
            "2/2 [==============================] - 0s 4ms/step - loss: 12.1887 - mae: 12.1887\n",
            "Epoch 495/500\n",
            "2/2 [==============================] - 0s 6ms/step - loss: 13.4238 - mae: 13.4238\n",
            "Epoch 496/500\n",
            "2/2 [==============================] - 0s 8ms/step - loss: 12.0397 - mae: 12.0397\n",
            "Epoch 497/500\n",
            "2/2 [==============================] - 0s 4ms/step - loss: 18.8880 - mae: 18.8880\n",
            "Epoch 498/500\n",
            "2/2 [==============================] - 0s 6ms/step - loss: 23.8076 - mae: 23.8076\n",
            "Epoch 499/500\n",
            "2/2 [==============================] - 0s 6ms/step - loss: 8.9942 - mae: 8.9942\n",
            "Epoch 500/500\n",
            "2/2 [==============================] - 0s 6ms/step - loss: 15.1579 - mae: 15.1579\n"
          ],
          "name": "stdout"
        },
        {
          "output_type": "execute_result",
          "data": {
            "text/plain": [
              "<tensorflow.python.keras.callbacks.History at 0x7f81c37e3450>"
            ]
          },
          "metadata": {
            "tags": []
          },
          "execution_count": 134
        }
      ]
    },
    {
      "cell_type": "code",
      "metadata": {
        "colab": {
          "base_uri": "https://localhost:8080/",
          "height": 465
        },
        "id": "jzoqeurypk_e",
        "outputId": "6566a438-3470-427a-a9e6-76ad302c5645"
      },
      "source": [
        "y_pred3 = model3.predict(x_test)\n",
        "\n",
        "plot_preds(x_train,y_train,x_test,y_test,y_pred3)\n"
      ],
      "execution_count": null,
      "outputs": [
        {
          "output_type": "stream",
          "text": [
            "WARNING:tensorflow:10 out of the last 11 calls to <function Model.make_predict_function.<locals>.predict_function at 0x7f81d2b74b90> triggered tf.function retracing. Tracing is expensive and the excessive number of tracings could be due to (1) creating @tf.function repeatedly in a loop, (2) passing tensors with different shapes, (3) passing Python objects instead of tensors. For (1), please define your @tf.function outside of the loop. For (2), @tf.function has experimental_relax_shapes=True option that relaxes argument shapes that can avoid unnecessary retracing. For (3), please refer to https://www.tensorflow.org/guide/function#controlling_retracing and https://www.tensorflow.org/api_docs/python/tf/function for  more details.\n"
          ],
          "name": "stdout"
        },
        {
          "output_type": "display_data",
          "data": {
            "image/png": "[encoded data removed]",
            "text/plain": [
              "<Figure size 720x504 with 1 Axes>"
            ]
          },
          "metadata": {
            "tags": [],
            "needs_background": "light"
          }
        }
      ]
    },
    {
      "cell_type": "code",
      "metadata": {
        "colab": {
          "base_uri": "https://localhost:8080/"
        },
        "id": "XjHEoLJ6p1Nz",
        "outputId": "8c7dd63a-ff3b-4096-a2b8-a36efc46b7df"
      },
      "source": [
        "# eval metrics\n",
        "\n",
        "mae3 = mae(y_test,y_pred3)\n",
        "\n",
        "mse3 = mse(y_test,y_pred3)\n",
        "\n",
        "mae3,mse3"
      ],
      "execution_count": null,
      "outputs": [
        {
          "output_type": "execute_result",
          "data": {
            "text/plain": [
              "(<tf.Tensor: shape=(), dtype=float32, numpy=68.71362>,\n",
              " <tf.Tensor: shape=(), dtype=float32, numpy=4808.0283>)"
            ]
          },
          "metadata": {
            "tags": []
          },
          "execution_count": 136
        }
      ]
    },
    {
      "cell_type": "code",
      "metadata": {
        "id": "ibIThUL5p-L4"
      },
      "source": [
        "# So we are overfitting by training for too long in the third model."
      ],
      "execution_count": null,
      "outputs": []
    },
    {
      "cell_type": "code",
      "metadata": {
        "colab": {
          "base_uri": "https://localhost:8080/",
          "height": 136
        },
        "id": "dZPDxDqGqmwv",
        "outputId": "db437881-a0ba-41a8-a7f2-f9474ac31b2b"
      },
      "source": [
        "# Comparing our models\n",
        "\n",
        "import pandas as pd\n",
        "\n",
        "model_results = [[\"Model-1\",mae1.numpy(),mse1.numpy()],\n",
        "                 [\"Model-2\",mae2.numpy(),mse2.numpy()],\n",
        "                 [\"Model-3\",mae3.numpy(),mse3.numpy()]]\n",
        "\n",
        "all_results = pd.DataFrame(model_results, columns = [\"model\",\"mae\",\"mse\"])\n",
        "\n",
        "all_results"
      ],
      "execution_count": null,
      "outputs": [
        {
          "output_type": "execute_result",
          "data": {
            "text/html": [
              "<div>\n",
              "<style scoped>\n",
              "    .dataframe tbody tr th:only-of-type {\n",
              "        vertical-align: middle;\n",
              "    }\n",
              "\n",
              "    .dataframe tbody tr th {\n",
              "        vertical-align: top;\n",
              "    }\n",
              "\n",
              "    .dataframe thead th {\n",
              "        text-align: right;\n",
              "    }\n",
              "</style>\n",
              "<table border=\"1\" class=\"dataframe\">\n",
              "  <thead>\n",
              "    <tr style=\"text-align: right;\">\n",
              "      <th></th>\n",
              "      <th>model</th>\n",
              "      <th>mae</th>\n",
              "      <th>mse</th>\n",
              "    </tr>\n",
              "  </thead>\n",
              "  <tbody>\n",
              "    <tr>\n",
              "      <th>0</th>\n",
              "      <td>Model-1</td>\n",
              "      <td>18.745327</td>\n",
              "      <td>353.573395</td>\n",
              "    </tr>\n",
              "    <tr>\n",
              "      <th>1</th>\n",
              "      <td>Model-2</td>\n",
              "      <td>3.196947</td>\n",
              "      <td>13.070175</td>\n",
              "    </tr>\n",
              "    <tr>\n",
              "      <th>2</th>\n",
              "      <td>Model-3</td>\n",
              "      <td>68.713623</td>\n",
              "      <td>4808.028320</td>\n",
              "    </tr>\n",
              "  </tbody>\n",
              "</table>\n",
              "</div>"
            ],
            "text/plain": [
              "     model        mae          mse\n",
              "0  Model-1  18.745327   353.573395\n",
              "1  Model-2   3.196947    13.070175\n",
              "2  Model-3  68.713623  4808.028320"
            ]
          },
          "metadata": {
            "tags": []
          },
          "execution_count": 141
        }
      ]
    },
    {
      "cell_type": "code",
      "metadata": {
        "colab": {
          "base_uri": "https://localhost:8080/"
        },
        "id": "HshUx0ZTrLPC",
        "outputId": "53eaac24-f26d-478b-8eb6-3c1f0f7a5e3d"
      },
      "source": [
        "# model2 was the best\n",
        "\n",
        "model2.summary()"
      ],
      "execution_count": null,
      "outputs": [
        {
          "output_type": "stream",
          "text": [
            "Model: \"sequential_20\"\n",
            "_________________________________________________________________\n",
            "Layer (type)                 Output Shape              Param #   \n",
            "=================================================================\n",
            "input_layer (Dense)          (None, 10)                20        \n",
            "_________________________________________________________________\n",
            "output_layer (Dense)         (None, 1)                 11        \n",
            "=================================================================\n",
            "Total params: 31\n",
            "Trainable params: 31\n",
            "Non-trainable params: 0\n",
            "_________________________________________________________________\n"
          ],
          "name": "stdout"
        }
      ]
    },
    {
      "cell_type": "markdown",
      "metadata": {
        "id": "U-PPJkHzrbHj"
      },
      "source": [
        "# Saving our model"
      ]
    },
    {
      "cell_type": "code",
      "metadata": {
        "colab": {
          "base_uri": "https://localhost:8080/"
        },
        "id": "Fnsb5xHKsJWm",
        "outputId": "fa031667-6d09-4dce-eaf6-151a603c3ad5"
      },
      "source": [
        "model2.save(\"Best_model\") # we have to give the file path. for now saving in the same dir"
      ],
      "execution_count": null,
      "outputs": [
        {
          "output_type": "stream",
          "text": [
            "INFO:tensorflow:Assets written to: Best_model/assets\n"
          ],
          "name": "stdout"
        }
      ]
    },
    {
      "cell_type": "code",
      "metadata": {
        "id": "jFt6V8Ipsygw"
      },
      "source": [
        "# another method to save (when we need our model outside tf environment)\n",
        "\n",
        "model2.save('Best_model_HDF5_format.h5')"
      ],
      "execution_count": null,
      "outputs": []
    },
    {
      "cell_type": "markdown",
      "metadata": {
        "id": "vTELvu1Tti-_"
      },
      "source": [
        "# Loading a saved model"
      ]
    },
    {
      "cell_type": "code",
      "metadata": {
        "colab": {
          "base_uri": "https://localhost:8080/"
        },
        "id": "l3bAkOEhtx5B",
        "outputId": "d8a100cc-1dba-4a38-a439-b99c6d753329"
      },
      "source": [
        "loading_saved_model_model = tf.keras.models.load_model(\"Best_model\")\n",
        "\n",
        "loading_saved_model_model.summary()"
      ],
      "execution_count": null,
      "outputs": [
        {
          "output_type": "stream",
          "text": [
            "Model: \"sequential_20\"\n",
            "_________________________________________________________________\n",
            "Layer (type)                 Output Shape              Param #   \n",
            "=================================================================\n",
            "input_layer (Dense)          (None, 10)                20        \n",
            "_________________________________________________________________\n",
            "output_layer (Dense)         (None, 1)                 11        \n",
            "=================================================================\n",
            "Total params: 31\n",
            "Trainable params: 31\n",
            "Non-trainable params: 0\n",
            "_________________________________________________________________\n"
          ],
          "name": "stdout"
        }
      ]
    },
    {
      "cell_type": "code",
      "metadata": {
        "id": "DxvUNTVyuE0O"
      },
      "source": [
        "# We have successfully loaded our model.\n",
        "\n",
        "# The HDF5 format model can also be loaded in te same way."
      ],
      "execution_count": null,
      "outputs": []
    },
    {
      "cell_type": "markdown",
      "metadata": {
        "id": "XMfd5uW3u9Mh"
      },
      "source": [
        "# Downloading a model from Google Colab"
      ]
    },
    {
      "cell_type": "code",
      "metadata": {
        "colab": {
          "base_uri": "https://localhost:8080/",
          "height": 17
        },
        "id": "Mn151uO6vBPm",
        "outputId": "7a01975e-ee7e-40de-a23a-dc72d6acec0a"
      },
      "source": [
        "# method-1 is to go to files choose file and press download\n",
        "\n",
        "# method-2\n",
        "\n",
        "from google.colab import files\n",
        "\n",
        "files.download('Best_model')\n"
      ],
      "execution_count": null,
      "outputs": [
        {
          "output_type": "display_data",
          "data": {
            "application/javascript": [
              "\n",
              "    async function download(id, filename, size) {\n",
              "      if (!google.colab.kernel.accessAllowed) {\n",
              "        return;\n",
              "      }\n",
              "      const div = document.createElement('div');\n",
              "      const label = document.createElement('label');\n",
              "      label.textContent = `Downloading \"${filename}\": `;\n",
              "      div.appendChild(label);\n",
              "      const progress = document.createElement('progress');\n",
              "      progress.max = size;\n",
              "      div.appendChild(progress);\n",
              "      document.body.appendChild(div);\n",
              "\n",
              "      const buffers = [];\n",
              "      let downloaded = 0;\n",
              "\n",
              "      const channel = await google.colab.kernel.comms.open(id);\n",
              "      // Send a message to notify the kernel that we're ready.\n",
              "      channel.send({})\n",
              "\n",
              "      for await (const message of channel.messages) {\n",
              "        // Send a message to notify the kernel that we're ready.\n",
              "        channel.send({})\n",
              "        if (message.buffers) {\n",
              "          for (const buffer of message.buffers) {\n",
              "            buffers.push(buffer);\n",
              "            downloaded += buffer.byteLength;\n",
              "            progress.value = downloaded;\n",
              "          }\n",
              "        }\n",
              "      }\n",
              "      const blob = new Blob(buffers, {type: 'application/binary'});\n",
              "      const a = document.createElement('a');\n",
              "      a.href = window.URL.createObjectURL(blob);\n",
              "      a.download = filename;\n",
              "      div.appendChild(a);\n",
              "      a.click();\n",
              "      div.remove();\n",
              "    }\n",
              "  "
            ],
            "text/plain": [
              "<IPython.core.display.Javascript object>"
            ]
          },
          "metadata": {
            "tags": []
          }
        },
        {
          "output_type": "display_data",
          "data": {
            "application/javascript": [
              "download(\"download_64b9474c-f34c-471a-8340-a17377a98bfc\", \"Best_model\", 4096)"
            ],
            "text/plain": [
              "<IPython.core.display.Javascript object>"
            ]
          },
          "metadata": {
            "tags": []
          }
        }
      ]
    }
  ]
}